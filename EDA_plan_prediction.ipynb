{
 "cells": [
  {
   "cell_type": "code",
   "execution_count": 1,
   "metadata": {},
   "outputs": [],
   "source": [
    "import pandas as pd\n",
    "import matplotlib.pyplot as plt\n",
    "import seaborn as sns\n",
    "import numpy as np\n",
    "%matplotlib inline"
   ]
  },
  {
   "cell_type": "code",
   "execution_count": 2,
   "metadata": {},
   "outputs": [],
   "source": [
    "import sweetviz\n",
    "from pandas_profiling import ProfileReport"
   ]
  },
  {
   "cell_type": "code",
   "execution_count": 3,
   "metadata": {},
   "outputs": [],
   "source": [
    "filenames = ['devices', 'notifications', 'transactions_1', 'transactions_2', 'transactions_3', 'users']"
   ]
  },
  {
   "cell_type": "code",
   "execution_count": 4,
   "metadata": {},
   "outputs": [],
   "source": [
    "dataframes = [pd.read_csv('data/' + filename + '.csv') for filename in filenames]\n",
    "devices_df, notifications_df, transactions_1_df, transactions_2_df, transactions_3_df, users_df = dataframes"
   ]
  },
  {
   "cell_type": "code",
   "execution_count": 5,
   "metadata": {},
   "outputs": [],
   "source": [
    "#merge transactions into 1 dataframe\n",
    "transactions_df = pd.concat([transactions_1_df, transactions_2_df, transactions_3_df])"
   ]
  },
  {
   "cell_type": "code",
   "execution_count": 6,
   "metadata": {},
   "outputs": [],
   "source": [
    "#merge devices_df on users1_df\n",
    "users1_df = pd.merge(users_df, devices_df, on='user_id')"
   ]
  },
  {
   "cell_type": "markdown",
   "metadata": {},
   "source": [
    "## EDA & transformations on notifications"
   ]
  },
  {
   "cell_type": "code",
   "execution_count": 7,
   "metadata": {},
   "outputs": [
    {
     "data": {
      "text/html": [
       "<div>\n",
       "<style scoped>\n",
       "    .dataframe tbody tr th:only-of-type {\n",
       "        vertical-align: middle;\n",
       "    }\n",
       "\n",
       "    .dataframe tbody tr th {\n",
       "        vertical-align: top;\n",
       "    }\n",
       "\n",
       "    .dataframe thead th {\n",
       "        text-align: right;\n",
       "    }\n",
       "</style>\n",
       "<table border=\"1\" class=\"dataframe\">\n",
       "  <thead>\n",
       "    <tr style=\"text-align: right;\">\n",
       "      <th></th>\n",
       "      <th>reason</th>\n",
       "      <th>channel</th>\n",
       "      <th>status</th>\n",
       "      <th>user_id</th>\n",
       "      <th>created_date</th>\n",
       "    </tr>\n",
       "  </thead>\n",
       "  <tbody>\n",
       "    <tr>\n",
       "      <th>76877</th>\n",
       "      <td>SILVER_ENGAGEMENT_FEES_SAVED</td>\n",
       "      <td>PUSH</td>\n",
       "      <td>SENT</td>\n",
       "      <td>user_12005</td>\n",
       "      <td>2019-01-23 09:18:59.566411</td>\n",
       "    </tr>\n",
       "    <tr>\n",
       "      <th>42817</th>\n",
       "      <td>PROMO_CARD_ORDER</td>\n",
       "      <td>EMAIL</td>\n",
       "      <td>SENT</td>\n",
       "      <td>user_10522</td>\n",
       "      <td>2018-07-18 18:45:34.714360</td>\n",
       "    </tr>\n",
       "    <tr>\n",
       "      <th>18050</th>\n",
       "      <td>REENGAGEMENT_ACTIVE_FUNDS</td>\n",
       "      <td>PUSH</td>\n",
       "      <td>SENT</td>\n",
       "      <td>user_9699</td>\n",
       "      <td>2018-12-05 06:54:06.029553</td>\n",
       "    </tr>\n",
       "    <tr>\n",
       "      <th>44495</th>\n",
       "      <td>PROMO</td>\n",
       "      <td>PUSH</td>\n",
       "      <td>SENT</td>\n",
       "      <td>user_10129</td>\n",
       "      <td>2019-01-22 07:01:42.207781</td>\n",
       "    </tr>\n",
       "    <tr>\n",
       "      <th>83532</th>\n",
       "      <td>NO_INITIAL_CARD_ORDER</td>\n",
       "      <td>EMAIL</td>\n",
       "      <td>SENT</td>\n",
       "      <td>user_10218</td>\n",
       "      <td>2018-08-08 04:58:22.193805</td>\n",
       "    </tr>\n",
       "  </tbody>\n",
       "</table>\n",
       "</div>"
      ],
      "text/plain": [
       "                             reason channel status     user_id  \\\n",
       "76877  SILVER_ENGAGEMENT_FEES_SAVED    PUSH   SENT  user_12005   \n",
       "42817              PROMO_CARD_ORDER   EMAIL   SENT  user_10522   \n",
       "18050     REENGAGEMENT_ACTIVE_FUNDS    PUSH   SENT   user_9699   \n",
       "44495                         PROMO    PUSH   SENT  user_10129   \n",
       "83532         NO_INITIAL_CARD_ORDER   EMAIL   SENT  user_10218   \n",
       "\n",
       "                     created_date  \n",
       "76877  2019-01-23 09:18:59.566411  \n",
       "42817  2018-07-18 18:45:34.714360  \n",
       "18050  2018-12-05 06:54:06.029553  \n",
       "44495  2019-01-22 07:01:42.207781  \n",
       "83532  2018-08-08 04:58:22.193805  "
      ]
     },
     "execution_count": 7,
     "metadata": {},
     "output_type": "execute_result"
    }
   ],
   "source": [
    "notifications_df.sample(5)"
   ]
  },
  {
   "cell_type": "code",
   "execution_count": 8,
   "metadata": {},
   "outputs": [
    {
     "name": "stdout",
     "output_type": "stream",
     "text": [
      "['SENT' 'FAILED']\n",
      "['PUSH' 'SMS' 'EMAIL']\n",
      "['REENGAGEMENT_ACTIVE_FUNDS' 'BLUE_TUESDAY' 'NO_INITIAL_CARD_USE'\n",
      " 'ENGAGEMENT_SPLIT_BILL_RESTAURANT' 'METAL_RESERVE_PLAN'\n",
      " 'ONBOARDING_TIPS_ACTIVATED_USERS' 'MADE_MONEY_REQUEST_NOT_SPLIT_BILL'\n",
      " 'SILVER_ENGAGEMENT_INACTIVE_CARD' 'NO_INITIAL_CARD_ORDER'\n",
      " 'SILVER_ENGAGEMENT_FEES_SAVED' 'PROMO' 'WELCOME_BACK' 'PROMO_CARD_ORDER'\n",
      " 'LOST_CARD_ORDER' 'BLACK_FRIDAY' 'INVEST_IN_GOLD' 'JOINING_ANNIVERSARY']\n"
     ]
    }
   ],
   "source": [
    "print(notifications_df['status'].unique())\n",
    "print(notifications_df['channel'].unique())\n",
    "print(notifications_df['reason'].unique())"
   ]
  },
  {
   "cell_type": "code",
   "execution_count": 9,
   "metadata": {},
   "outputs": [
    {
     "data": {
      "application/vnd.jupyter.widget-view+json": {
       "model_id": "a677992fc3724949ae536cb8e636b657",
       "version_major": 2,
       "version_minor": 0
      },
      "text/plain": [
       "HBox(children=(FloatProgress(value=0.0, description='Summarize dataset', max=14.0, style=ProgressStyle(descrip…"
      ]
     },
     "metadata": {},
     "output_type": "display_data"
    },
    {
     "name": "stdout",
     "output_type": "stream",
     "text": [
      "\n"
     ]
    },
    {
     "data": {
      "application/vnd.jupyter.widget-view+json": {
       "model_id": "57884b36e4a049a581174fbbf1791c88",
       "version_major": 2,
       "version_minor": 0
      },
      "text/plain": [
       "HBox(children=(FloatProgress(value=0.0, description='Generate report structure', max=1.0, style=ProgressStyle(…"
      ]
     },
     "metadata": {},
     "output_type": "display_data"
    },
    {
     "name": "stdout",
     "output_type": "stream",
     "text": [
      "\n"
     ]
    },
    {
     "data": {
      "application/vnd.jupyter.widget-view+json": {
       "model_id": "",
       "version_major": 2,
       "version_minor": 0
      },
      "text/plain": [
       "HBox(children=(FloatProgress(value=0.0, description='Render widgets', max=1.0, style=ProgressStyle(description…"
      ]
     },
     "metadata": {},
     "output_type": "display_data"
    },
    {
     "data": {
      "application/vnd.jupyter.widget-view+json": {
       "model_id": "9d1ed9149c4f4f949662d42cc6f324ba",
       "version_major": 2,
       "version_minor": 0
      },
      "text/plain": [
       "VBox(children=(Tab(children=(Tab(children=(GridBox(children=(VBox(children=(GridspecLayout(children=(HTML(valu…"
      ]
     },
     "metadata": {},
     "output_type": "display_data"
    }
   ],
   "source": [
    "profile = ProfileReport(notifications_df, minimal=True)\n",
    "profile.to_widgets()"
   ]
  },
  {
   "cell_type": "code",
   "execution_count": 10,
   "metadata": {},
   "outputs": [],
   "source": [
    "#keep only sent notifications\n",
    "notifications1_df = notifications_df[notifications_df['status'] == 'SENT'].copy()"
   ]
  },
  {
   "cell_type": "code",
   "execution_count": 11,
   "metadata": {},
   "outputs": [],
   "source": [
    "#pd.options.mode.chained_assignment = None"
   ]
  },
  {
   "cell_type": "code",
   "execution_count": 12,
   "metadata": {},
   "outputs": [],
   "source": [
    "notifications1_df.drop(['status','created_date'],axis=1, inplace=True)"
   ]
  },
  {
   "cell_type": "code",
   "execution_count": 13,
   "metadata": {},
   "outputs": [],
   "source": [
    "notifications1_df = pd.get_dummies(notifications1_df, columns=['reason','channel'])"
   ]
  },
  {
   "cell_type": "code",
   "execution_count": 14,
   "metadata": {},
   "outputs": [],
   "source": [
    "notifications1_df = notifications1_df.groupby('user_id').sum()"
   ]
  },
  {
   "cell_type": "code",
   "execution_count": 15,
   "metadata": {},
   "outputs": [
    {
     "data": {
      "text/html": [
       "<div>\n",
       "<style scoped>\n",
       "    .dataframe tbody tr th:only-of-type {\n",
       "        vertical-align: middle;\n",
       "    }\n",
       "\n",
       "    .dataframe tbody tr th {\n",
       "        vertical-align: top;\n",
       "    }\n",
       "\n",
       "    .dataframe thead th {\n",
       "        text-align: right;\n",
       "    }\n",
       "</style>\n",
       "<table border=\"1\" class=\"dataframe\">\n",
       "  <thead>\n",
       "    <tr style=\"text-align: right;\">\n",
       "      <th></th>\n",
       "      <th>reason_BLACK_FRIDAY</th>\n",
       "      <th>reason_BLUE_TUESDAY</th>\n",
       "      <th>reason_ENGAGEMENT_SPLIT_BILL_RESTAURANT</th>\n",
       "      <th>reason_INVEST_IN_GOLD</th>\n",
       "      <th>reason_JOINING_ANNIVERSARY</th>\n",
       "      <th>reason_LOST_CARD_ORDER</th>\n",
       "      <th>reason_MADE_MONEY_REQUEST_NOT_SPLIT_BILL</th>\n",
       "      <th>reason_METAL_RESERVE_PLAN</th>\n",
       "      <th>reason_NO_INITIAL_CARD_ORDER</th>\n",
       "      <th>reason_NO_INITIAL_CARD_USE</th>\n",
       "      <th>reason_ONBOARDING_TIPS_ACTIVATED_USERS</th>\n",
       "      <th>reason_PROMO</th>\n",
       "      <th>reason_PROMO_CARD_ORDER</th>\n",
       "      <th>reason_REENGAGEMENT_ACTIVE_FUNDS</th>\n",
       "      <th>reason_SILVER_ENGAGEMENT_FEES_SAVED</th>\n",
       "      <th>reason_SILVER_ENGAGEMENT_INACTIVE_CARD</th>\n",
       "      <th>reason_WELCOME_BACK</th>\n",
       "      <th>channel_EMAIL</th>\n",
       "      <th>channel_PUSH</th>\n",
       "      <th>channel_SMS</th>\n",
       "    </tr>\n",
       "    <tr>\n",
       "      <th>user_id</th>\n",
       "      <th></th>\n",
       "      <th></th>\n",
       "      <th></th>\n",
       "      <th></th>\n",
       "      <th></th>\n",
       "      <th></th>\n",
       "      <th></th>\n",
       "      <th></th>\n",
       "      <th></th>\n",
       "      <th></th>\n",
       "      <th></th>\n",
       "      <th></th>\n",
       "      <th></th>\n",
       "      <th></th>\n",
       "      <th></th>\n",
       "      <th></th>\n",
       "      <th></th>\n",
       "      <th></th>\n",
       "      <th></th>\n",
       "      <th></th>\n",
       "    </tr>\n",
       "  </thead>\n",
       "  <tbody>\n",
       "    <tr>\n",
       "      <th>user_0</th>\n",
       "      <td>1</td>\n",
       "      <td>0</td>\n",
       "      <td>0</td>\n",
       "      <td>1</td>\n",
       "      <td>0</td>\n",
       "      <td>0</td>\n",
       "      <td>0</td>\n",
       "      <td>0</td>\n",
       "      <td>0</td>\n",
       "      <td>1</td>\n",
       "      <td>4</td>\n",
       "      <td>0</td>\n",
       "      <td>0</td>\n",
       "      <td>1</td>\n",
       "      <td>0</td>\n",
       "      <td>0</td>\n",
       "      <td>0</td>\n",
       "      <td>6</td>\n",
       "      <td>2</td>\n",
       "      <td>0</td>\n",
       "    </tr>\n",
       "    <tr>\n",
       "      <th>user_1</th>\n",
       "      <td>0</td>\n",
       "      <td>0</td>\n",
       "      <td>1</td>\n",
       "      <td>0</td>\n",
       "      <td>1</td>\n",
       "      <td>0</td>\n",
       "      <td>0</td>\n",
       "      <td>0</td>\n",
       "      <td>1</td>\n",
       "      <td>3</td>\n",
       "      <td>0</td>\n",
       "      <td>1</td>\n",
       "      <td>0</td>\n",
       "      <td>3</td>\n",
       "      <td>0</td>\n",
       "      <td>0</td>\n",
       "      <td>0</td>\n",
       "      <td>5</td>\n",
       "      <td>5</td>\n",
       "      <td>0</td>\n",
       "    </tr>\n",
       "    <tr>\n",
       "      <th>user_10</th>\n",
       "      <td>0</td>\n",
       "      <td>0</td>\n",
       "      <td>0</td>\n",
       "      <td>1</td>\n",
       "      <td>1</td>\n",
       "      <td>1</td>\n",
       "      <td>0</td>\n",
       "      <td>0</td>\n",
       "      <td>3</td>\n",
       "      <td>0</td>\n",
       "      <td>0</td>\n",
       "      <td>2</td>\n",
       "      <td>0</td>\n",
       "      <td>0</td>\n",
       "      <td>0</td>\n",
       "      <td>0</td>\n",
       "      <td>0</td>\n",
       "      <td>5</td>\n",
       "      <td>3</td>\n",
       "      <td>0</td>\n",
       "    </tr>\n",
       "    <tr>\n",
       "      <th>user_100</th>\n",
       "      <td>0</td>\n",
       "      <td>0</td>\n",
       "      <td>0</td>\n",
       "      <td>1</td>\n",
       "      <td>0</td>\n",
       "      <td>1</td>\n",
       "      <td>0</td>\n",
       "      <td>0</td>\n",
       "      <td>0</td>\n",
       "      <td>1</td>\n",
       "      <td>0</td>\n",
       "      <td>1</td>\n",
       "      <td>0</td>\n",
       "      <td>1</td>\n",
       "      <td>0</td>\n",
       "      <td>0</td>\n",
       "      <td>0</td>\n",
       "      <td>2</td>\n",
       "      <td>3</td>\n",
       "      <td>0</td>\n",
       "    </tr>\n",
       "    <tr>\n",
       "      <th>user_1000</th>\n",
       "      <td>0</td>\n",
       "      <td>0</td>\n",
       "      <td>0</td>\n",
       "      <td>0</td>\n",
       "      <td>0</td>\n",
       "      <td>0</td>\n",
       "      <td>0</td>\n",
       "      <td>0</td>\n",
       "      <td>1</td>\n",
       "      <td>0</td>\n",
       "      <td>0</td>\n",
       "      <td>0</td>\n",
       "      <td>0</td>\n",
       "      <td>0</td>\n",
       "      <td>0</td>\n",
       "      <td>0</td>\n",
       "      <td>0</td>\n",
       "      <td>1</td>\n",
       "      <td>0</td>\n",
       "      <td>0</td>\n",
       "    </tr>\n",
       "    <tr>\n",
       "      <th>...</th>\n",
       "      <td>...</td>\n",
       "      <td>...</td>\n",
       "      <td>...</td>\n",
       "      <td>...</td>\n",
       "      <td>...</td>\n",
       "      <td>...</td>\n",
       "      <td>...</td>\n",
       "      <td>...</td>\n",
       "      <td>...</td>\n",
       "      <td>...</td>\n",
       "      <td>...</td>\n",
       "      <td>...</td>\n",
       "      <td>...</td>\n",
       "      <td>...</td>\n",
       "      <td>...</td>\n",
       "      <td>...</td>\n",
       "      <td>...</td>\n",
       "      <td>...</td>\n",
       "      <td>...</td>\n",
       "      <td>...</td>\n",
       "    </tr>\n",
       "    <tr>\n",
       "      <th>user_9995</th>\n",
       "      <td>0</td>\n",
       "      <td>0</td>\n",
       "      <td>0</td>\n",
       "      <td>0</td>\n",
       "      <td>0</td>\n",
       "      <td>0</td>\n",
       "      <td>0</td>\n",
       "      <td>0</td>\n",
       "      <td>1</td>\n",
       "      <td>0</td>\n",
       "      <td>0</td>\n",
       "      <td>0</td>\n",
       "      <td>0</td>\n",
       "      <td>0</td>\n",
       "      <td>0</td>\n",
       "      <td>0</td>\n",
       "      <td>0</td>\n",
       "      <td>1</td>\n",
       "      <td>0</td>\n",
       "      <td>0</td>\n",
       "    </tr>\n",
       "    <tr>\n",
       "      <th>user_9996</th>\n",
       "      <td>0</td>\n",
       "      <td>0</td>\n",
       "      <td>0</td>\n",
       "      <td>0</td>\n",
       "      <td>0</td>\n",
       "      <td>0</td>\n",
       "      <td>0</td>\n",
       "      <td>0</td>\n",
       "      <td>1</td>\n",
       "      <td>0</td>\n",
       "      <td>0</td>\n",
       "      <td>0</td>\n",
       "      <td>0</td>\n",
       "      <td>0</td>\n",
       "      <td>0</td>\n",
       "      <td>0</td>\n",
       "      <td>0</td>\n",
       "      <td>1</td>\n",
       "      <td>0</td>\n",
       "      <td>0</td>\n",
       "    </tr>\n",
       "    <tr>\n",
       "      <th>user_9997</th>\n",
       "      <td>0</td>\n",
       "      <td>0</td>\n",
       "      <td>1</td>\n",
       "      <td>0</td>\n",
       "      <td>0</td>\n",
       "      <td>0</td>\n",
       "      <td>0</td>\n",
       "      <td>0</td>\n",
       "      <td>0</td>\n",
       "      <td>0</td>\n",
       "      <td>0</td>\n",
       "      <td>2</td>\n",
       "      <td>0</td>\n",
       "      <td>4</td>\n",
       "      <td>0</td>\n",
       "      <td>0</td>\n",
       "      <td>0</td>\n",
       "      <td>2</td>\n",
       "      <td>5</td>\n",
       "      <td>0</td>\n",
       "    </tr>\n",
       "    <tr>\n",
       "      <th>user_9998</th>\n",
       "      <td>0</td>\n",
       "      <td>0</td>\n",
       "      <td>0</td>\n",
       "      <td>0</td>\n",
       "      <td>0</td>\n",
       "      <td>2</td>\n",
       "      <td>0</td>\n",
       "      <td>0</td>\n",
       "      <td>0</td>\n",
       "      <td>0</td>\n",
       "      <td>0</td>\n",
       "      <td>1</td>\n",
       "      <td>0</td>\n",
       "      <td>0</td>\n",
       "      <td>0</td>\n",
       "      <td>0</td>\n",
       "      <td>0</td>\n",
       "      <td>2</td>\n",
       "      <td>1</td>\n",
       "      <td>0</td>\n",
       "    </tr>\n",
       "    <tr>\n",
       "      <th>user_9999</th>\n",
       "      <td>0</td>\n",
       "      <td>0</td>\n",
       "      <td>0</td>\n",
       "      <td>0</td>\n",
       "      <td>0</td>\n",
       "      <td>0</td>\n",
       "      <td>0</td>\n",
       "      <td>0</td>\n",
       "      <td>1</td>\n",
       "      <td>0</td>\n",
       "      <td>0</td>\n",
       "      <td>0</td>\n",
       "      <td>2</td>\n",
       "      <td>0</td>\n",
       "      <td>0</td>\n",
       "      <td>0</td>\n",
       "      <td>0</td>\n",
       "      <td>3</td>\n",
       "      <td>0</td>\n",
       "      <td>0</td>\n",
       "    </tr>\n",
       "  </tbody>\n",
       "</table>\n",
       "<p>14740 rows × 20 columns</p>\n",
       "</div>"
      ],
      "text/plain": [
       "           reason_BLACK_FRIDAY  reason_BLUE_TUESDAY  \\\n",
       "user_id                                               \n",
       "user_0                       1                    0   \n",
       "user_1                       0                    0   \n",
       "user_10                      0                    0   \n",
       "user_100                     0                    0   \n",
       "user_1000                    0                    0   \n",
       "...                        ...                  ...   \n",
       "user_9995                    0                    0   \n",
       "user_9996                    0                    0   \n",
       "user_9997                    0                    0   \n",
       "user_9998                    0                    0   \n",
       "user_9999                    0                    0   \n",
       "\n",
       "           reason_ENGAGEMENT_SPLIT_BILL_RESTAURANT  reason_INVEST_IN_GOLD  \\\n",
       "user_id                                                                     \n",
       "user_0                                           0                      1   \n",
       "user_1                                           1                      0   \n",
       "user_10                                          0                      1   \n",
       "user_100                                         0                      1   \n",
       "user_1000                                        0                      0   \n",
       "...                                            ...                    ...   \n",
       "user_9995                                        0                      0   \n",
       "user_9996                                        0                      0   \n",
       "user_9997                                        1                      0   \n",
       "user_9998                                        0                      0   \n",
       "user_9999                                        0                      0   \n",
       "\n",
       "           reason_JOINING_ANNIVERSARY  reason_LOST_CARD_ORDER  \\\n",
       "user_id                                                         \n",
       "user_0                              0                       0   \n",
       "user_1                              1                       0   \n",
       "user_10                             1                       1   \n",
       "user_100                            0                       1   \n",
       "user_1000                           0                       0   \n",
       "...                               ...                     ...   \n",
       "user_9995                           0                       0   \n",
       "user_9996                           0                       0   \n",
       "user_9997                           0                       0   \n",
       "user_9998                           0                       2   \n",
       "user_9999                           0                       0   \n",
       "\n",
       "           reason_MADE_MONEY_REQUEST_NOT_SPLIT_BILL  \\\n",
       "user_id                                               \n",
       "user_0                                            0   \n",
       "user_1                                            0   \n",
       "user_10                                           0   \n",
       "user_100                                          0   \n",
       "user_1000                                         0   \n",
       "...                                             ...   \n",
       "user_9995                                         0   \n",
       "user_9996                                         0   \n",
       "user_9997                                         0   \n",
       "user_9998                                         0   \n",
       "user_9999                                         0   \n",
       "\n",
       "           reason_METAL_RESERVE_PLAN  reason_NO_INITIAL_CARD_ORDER  \\\n",
       "user_id                                                              \n",
       "user_0                             0                             0   \n",
       "user_1                             0                             1   \n",
       "user_10                            0                             3   \n",
       "user_100                           0                             0   \n",
       "user_1000                          0                             1   \n",
       "...                              ...                           ...   \n",
       "user_9995                          0                             1   \n",
       "user_9996                          0                             1   \n",
       "user_9997                          0                             0   \n",
       "user_9998                          0                             0   \n",
       "user_9999                          0                             1   \n",
       "\n",
       "           reason_NO_INITIAL_CARD_USE  reason_ONBOARDING_TIPS_ACTIVATED_USERS  \\\n",
       "user_id                                                                         \n",
       "user_0                              1                                       4   \n",
       "user_1                              3                                       0   \n",
       "user_10                             0                                       0   \n",
       "user_100                            1                                       0   \n",
       "user_1000                           0                                       0   \n",
       "...                               ...                                     ...   \n",
       "user_9995                           0                                       0   \n",
       "user_9996                           0                                       0   \n",
       "user_9997                           0                                       0   \n",
       "user_9998                           0                                       0   \n",
       "user_9999                           0                                       0   \n",
       "\n",
       "           reason_PROMO  reason_PROMO_CARD_ORDER  \\\n",
       "user_id                                            \n",
       "user_0                0                        0   \n",
       "user_1                1                        0   \n",
       "user_10               2                        0   \n",
       "user_100              1                        0   \n",
       "user_1000             0                        0   \n",
       "...                 ...                      ...   \n",
       "user_9995             0                        0   \n",
       "user_9996             0                        0   \n",
       "user_9997             2                        0   \n",
       "user_9998             1                        0   \n",
       "user_9999             0                        2   \n",
       "\n",
       "           reason_REENGAGEMENT_ACTIVE_FUNDS  \\\n",
       "user_id                                       \n",
       "user_0                                    1   \n",
       "user_1                                    3   \n",
       "user_10                                   0   \n",
       "user_100                                  1   \n",
       "user_1000                                 0   \n",
       "...                                     ...   \n",
       "user_9995                                 0   \n",
       "user_9996                                 0   \n",
       "user_9997                                 4   \n",
       "user_9998                                 0   \n",
       "user_9999                                 0   \n",
       "\n",
       "           reason_SILVER_ENGAGEMENT_FEES_SAVED  \\\n",
       "user_id                                          \n",
       "user_0                                       0   \n",
       "user_1                                       0   \n",
       "user_10                                      0   \n",
       "user_100                                     0   \n",
       "user_1000                                    0   \n",
       "...                                        ...   \n",
       "user_9995                                    0   \n",
       "user_9996                                    0   \n",
       "user_9997                                    0   \n",
       "user_9998                                    0   \n",
       "user_9999                                    0   \n",
       "\n",
       "           reason_SILVER_ENGAGEMENT_INACTIVE_CARD  reason_WELCOME_BACK  \\\n",
       "user_id                                                                  \n",
       "user_0                                          0                    0   \n",
       "user_1                                          0                    0   \n",
       "user_10                                         0                    0   \n",
       "user_100                                        0                    0   \n",
       "user_1000                                       0                    0   \n",
       "...                                           ...                  ...   \n",
       "user_9995                                       0                    0   \n",
       "user_9996                                       0                    0   \n",
       "user_9997                                       0                    0   \n",
       "user_9998                                       0                    0   \n",
       "user_9999                                       0                    0   \n",
       "\n",
       "           channel_EMAIL  channel_PUSH  channel_SMS  \n",
       "user_id                                              \n",
       "user_0                 6             2            0  \n",
       "user_1                 5             5            0  \n",
       "user_10                5             3            0  \n",
       "user_100               2             3            0  \n",
       "user_1000              1             0            0  \n",
       "...                  ...           ...          ...  \n",
       "user_9995              1             0            0  \n",
       "user_9996              1             0            0  \n",
       "user_9997              2             5            0  \n",
       "user_9998              2             1            0  \n",
       "user_9999              3             0            0  \n",
       "\n",
       "[14740 rows x 20 columns]"
      ]
     },
     "execution_count": 15,
     "metadata": {},
     "output_type": "execute_result"
    }
   ],
   "source": [
    "notifications1_df"
   ]
  },
  {
   "cell_type": "code",
   "execution_count": 16,
   "metadata": {},
   "outputs": [
    {
     "data": {
      "text/plain": [
       "reason_METAL_RESERVE_PLAN               channel_SMS                                 0.950236\n",
       "reason_REENGAGEMENT_ACTIVE_FUNDS        channel_PUSH                                0.888153\n",
       "reason_NO_INITIAL_CARD_USE              channel_EMAIL                               0.450579\n",
       "reason_LOST_CARD_ORDER                  reason_NO_INITIAL_CARD_USE                  0.421047\n",
       "reason_ONBOARDING_TIPS_ACTIVATED_USERS  channel_EMAIL                               0.366999\n",
       "                                                                                      ...   \n",
       "reason_METAL_RESERVE_PLAN               reason_REENGAGEMENT_ACTIVE_FUNDS            0.001112\n",
       "reason_INVEST_IN_GOLD                   reason_ONBOARDING_TIPS_ACTIVATED_USERS      0.001082\n",
       "reason_LOST_CARD_ORDER                  reason_MADE_MONEY_REQUEST_NOT_SPLIT_BILL    0.000673\n",
       "reason_BLUE_TUESDAY                     reason_INVEST_IN_GOLD                       0.000537\n",
       "reason_NO_INITIAL_CARD_ORDER            reason_SILVER_ENGAGEMENT_INACTIVE_CARD      0.000221\n",
       "Length: 190, dtype: float64"
      ]
     },
     "execution_count": 16,
     "metadata": {},
     "output_type": "execute_result"
    }
   ],
   "source": [
    "import numpy as np\n",
    "corr_abs = notifications1_df.corr().abs()\n",
    "\n",
    "sol = (corr_abs.where(np.triu(np.ones(corr_abs.shape), k=1).astype(np.bool))\n",
    "                 .stack()\n",
    "                 .sort_values(ascending=False))\n",
    "sol"
   ]
  },
  {
   "cell_type": "markdown",
   "metadata": {},
   "source": [
    "## EDA & transformations on users"
   ]
  },
  {
   "cell_type": "code",
   "execution_count": 17,
   "metadata": {},
   "outputs": [
    {
     "data": {
      "text/html": [
       "<div>\n",
       "<style scoped>\n",
       "    .dataframe tbody tr th:only-of-type {\n",
       "        vertical-align: middle;\n",
       "    }\n",
       "\n",
       "    .dataframe tbody tr th {\n",
       "        vertical-align: top;\n",
       "    }\n",
       "\n",
       "    .dataframe thead th {\n",
       "        text-align: right;\n",
       "    }\n",
       "</style>\n",
       "<table border=\"1\" class=\"dataframe\">\n",
       "  <thead>\n",
       "    <tr style=\"text-align: right;\">\n",
       "      <th></th>\n",
       "      <th>user_id</th>\n",
       "      <th>birth_year</th>\n",
       "      <th>country</th>\n",
       "      <th>city</th>\n",
       "      <th>created_date</th>\n",
       "      <th>user_settings_crypto_unlocked</th>\n",
       "      <th>plan</th>\n",
       "      <th>attributes_notifications_marketing_push</th>\n",
       "      <th>attributes_notifications_marketing_email</th>\n",
       "      <th>num_contacts</th>\n",
       "      <th>num_referrals</th>\n",
       "      <th>num_successful_referrals</th>\n",
       "      <th>brand</th>\n",
       "    </tr>\n",
       "  </thead>\n",
       "  <tbody>\n",
       "    <tr>\n",
       "      <th>0</th>\n",
       "      <td>user_0</td>\n",
       "      <td>1992</td>\n",
       "      <td>ES</td>\n",
       "      <td>Madrid</td>\n",
       "      <td>2018-09-10 18:46:42.843855</td>\n",
       "      <td>0</td>\n",
       "      <td>STANDARD</td>\n",
       "      <td>1.0</td>\n",
       "      <td>1.0</td>\n",
       "      <td>3</td>\n",
       "      <td>0</td>\n",
       "      <td>0</td>\n",
       "      <td>Apple</td>\n",
       "    </tr>\n",
       "    <tr>\n",
       "      <th>1</th>\n",
       "      <td>user_1</td>\n",
       "      <td>1985</td>\n",
       "      <td>LT</td>\n",
       "      <td>Klaipeda</td>\n",
       "      <td>2018-01-11 18:53:10.531146</td>\n",
       "      <td>1</td>\n",
       "      <td>STANDARD</td>\n",
       "      <td>NaN</td>\n",
       "      <td>NaN</td>\n",
       "      <td>75</td>\n",
       "      <td>0</td>\n",
       "      <td>0</td>\n",
       "      <td>Apple</td>\n",
       "    </tr>\n",
       "    <tr>\n",
       "      <th>2</th>\n",
       "      <td>user_2</td>\n",
       "      <td>1996</td>\n",
       "      <td>IE</td>\n",
       "      <td>Carrickmacross</td>\n",
       "      <td>2018-11-29 17:29:16.879324</td>\n",
       "      <td>0</td>\n",
       "      <td>STANDARD</td>\n",
       "      <td>NaN</td>\n",
       "      <td>NaN</td>\n",
       "      <td>71</td>\n",
       "      <td>0</td>\n",
       "      <td>0</td>\n",
       "      <td>Apple</td>\n",
       "    </tr>\n",
       "    <tr>\n",
       "      <th>3</th>\n",
       "      <td>user_3</td>\n",
       "      <td>1981</td>\n",
       "      <td>IE</td>\n",
       "      <td>Dublin</td>\n",
       "      <td>2018-02-17 11:58:08.319664</td>\n",
       "      <td>0</td>\n",
       "      <td>STANDARD</td>\n",
       "      <td>NaN</td>\n",
       "      <td>NaN</td>\n",
       "      <td>219</td>\n",
       "      <td>0</td>\n",
       "      <td>0</td>\n",
       "      <td>Apple</td>\n",
       "    </tr>\n",
       "    <tr>\n",
       "      <th>4</th>\n",
       "      <td>user_4</td>\n",
       "      <td>1992</td>\n",
       "      <td>GB</td>\n",
       "      <td>London</td>\n",
       "      <td>2018-01-08 18:40:21.097856</td>\n",
       "      <td>0</td>\n",
       "      <td>STANDARD</td>\n",
       "      <td>NaN</td>\n",
       "      <td>NaN</td>\n",
       "      <td>0</td>\n",
       "      <td>0</td>\n",
       "      <td>0</td>\n",
       "      <td>Apple</td>\n",
       "    </tr>\n",
       "  </tbody>\n",
       "</table>\n",
       "</div>"
      ],
      "text/plain": [
       "  user_id  birth_year country            city                created_date  \\\n",
       "0  user_0        1992      ES          Madrid  2018-09-10 18:46:42.843855   \n",
       "1  user_1        1985      LT        Klaipeda  2018-01-11 18:53:10.531146   \n",
       "2  user_2        1996      IE  Carrickmacross  2018-11-29 17:29:16.879324   \n",
       "3  user_3        1981      IE          Dublin  2018-02-17 11:58:08.319664   \n",
       "4  user_4        1992      GB          London  2018-01-08 18:40:21.097856   \n",
       "\n",
       "   user_settings_crypto_unlocked      plan  \\\n",
       "0                              0  STANDARD   \n",
       "1                              1  STANDARD   \n",
       "2                              0  STANDARD   \n",
       "3                              0  STANDARD   \n",
       "4                              0  STANDARD   \n",
       "\n",
       "   attributes_notifications_marketing_push  \\\n",
       "0                                      1.0   \n",
       "1                                      NaN   \n",
       "2                                      NaN   \n",
       "3                                      NaN   \n",
       "4                                      NaN   \n",
       "\n",
       "   attributes_notifications_marketing_email  num_contacts  num_referrals  \\\n",
       "0                                       1.0             3              0   \n",
       "1                                       NaN            75              0   \n",
       "2                                       NaN            71              0   \n",
       "3                                       NaN           219              0   \n",
       "4                                       NaN             0              0   \n",
       "\n",
       "   num_successful_referrals  brand  \n",
       "0                         0  Apple  \n",
       "1                         0  Apple  \n",
       "2                         0  Apple  \n",
       "3                         0  Apple  \n",
       "4                         0  Apple  "
      ]
     },
     "execution_count": 17,
     "metadata": {},
     "output_type": "execute_result"
    }
   ],
   "source": [
    "users1_df.head()"
   ]
  },
  {
   "cell_type": "code",
   "execution_count": 18,
   "metadata": {},
   "outputs": [
    {
     "data": {
      "text/plain": [
       "user_id                                        0\n",
       "birth_year                                     0\n",
       "country                                        0\n",
       "city                                           0\n",
       "created_date                                   0\n",
       "user_settings_crypto_unlocked                  0\n",
       "plan                                           0\n",
       "attributes_notifications_marketing_push     5260\n",
       "attributes_notifications_marketing_email    5260\n",
       "num_contacts                                   0\n",
       "num_referrals                                  0\n",
       "num_successful_referrals                       0\n",
       "brand                                          0\n",
       "dtype: int64"
      ]
     },
     "execution_count": 18,
     "metadata": {},
     "output_type": "execute_result"
    }
   ],
   "source": [
    "users1_df.isnull().sum()"
   ]
  },
  {
   "cell_type": "code",
   "execution_count": 19,
   "metadata": {},
   "outputs": [
    {
     "name": "stdout",
     "output_type": "stream",
     "text": [
      "1\n",
      "1\n"
     ]
    }
   ],
   "source": [
    "print(users1_df.num_referrals.nunique())\n",
    "print(users1_df.num_successful_referrals.nunique())"
   ]
  },
  {
   "cell_type": "code",
   "execution_count": 20,
   "metadata": {},
   "outputs": [],
   "source": [
    "#birth_year to age\n",
    "users1_df['age'] = 2020 - users1_df['birth_year']\n",
    "users1_df.drop(['birth_year'],axis=1, inplace=True)"
   ]
  },
  {
   "cell_type": "code",
   "execution_count": 21,
   "metadata": {},
   "outputs": [
    {
     "data": {
      "application/vnd.jupyter.widget-view+json": {
       "model_id": "661cc437f3b741239a38cd061754360f",
       "version_major": 2,
       "version_minor": 0
      },
      "text/plain": [
       "HBox(children=(FloatProgress(value=0.0, description='Summarize dataset', max=22.0, style=ProgressStyle(descrip…"
      ]
     },
     "metadata": {},
     "output_type": "display_data"
    },
    {
     "name": "stdout",
     "output_type": "stream",
     "text": [
      "\n"
     ]
    },
    {
     "data": {
      "application/vnd.jupyter.widget-view+json": {
       "model_id": "3f3251c9e4db410386a3e36dd3496cd0",
       "version_major": 2,
       "version_minor": 0
      },
      "text/plain": [
       "HBox(children=(FloatProgress(value=0.0, description='Generate report structure', max=1.0, style=ProgressStyle(…"
      ]
     },
     "metadata": {},
     "output_type": "display_data"
    },
    {
     "name": "stdout",
     "output_type": "stream",
     "text": [
      "\n"
     ]
    },
    {
     "data": {
      "application/vnd.jupyter.widget-view+json": {
       "model_id": "",
       "version_major": 2,
       "version_minor": 0
      },
      "text/plain": [
       "HBox(children=(FloatProgress(value=0.0, description='Render widgets', max=1.0, style=ProgressStyle(description…"
      ]
     },
     "metadata": {},
     "output_type": "display_data"
    },
    {
     "data": {
      "application/vnd.jupyter.widget-view+json": {
       "model_id": "9fb709b866eb463c8c8b9f81b4d5074e",
       "version_major": 2,
       "version_minor": 0
      },
      "text/plain": [
       "VBox(children=(Tab(children=(Tab(children=(GridBox(children=(VBox(children=(GridspecLayout(children=(HTML(valu…"
      ]
     },
     "metadata": {},
     "output_type": "display_data"
    }
   ],
   "source": [
    "profile = ProfileReport(users1_df, minimal=True)\n",
    "profile.to_widgets()"
   ]
  },
  {
   "cell_type": "code",
   "execution_count": 22,
   "metadata": {},
   "outputs": [],
   "source": [
    "users1_df.drop(['num_referrals','num_successful_referrals','city','created_date'],axis=1, inplace=True)"
   ]
  },
  {
   "cell_type": "code",
   "execution_count": 23,
   "metadata": {},
   "outputs": [
    {
     "data": {
      "text/html": [
       "<div>\n",
       "<style scoped>\n",
       "    .dataframe tbody tr th:only-of-type {\n",
       "        vertical-align: middle;\n",
       "    }\n",
       "\n",
       "    .dataframe tbody tr th {\n",
       "        vertical-align: top;\n",
       "    }\n",
       "\n",
       "    .dataframe thead th {\n",
       "        text-align: right;\n",
       "    }\n",
       "</style>\n",
       "<table border=\"1\" class=\"dataframe\">\n",
       "  <thead>\n",
       "    <tr style=\"text-align: right;\">\n",
       "      <th></th>\n",
       "      <th>user_id</th>\n",
       "      <th>country</th>\n",
       "      <th>user_settings_crypto_unlocked</th>\n",
       "      <th>plan</th>\n",
       "      <th>attributes_notifications_marketing_push</th>\n",
       "      <th>attributes_notifications_marketing_email</th>\n",
       "      <th>num_contacts</th>\n",
       "      <th>brand</th>\n",
       "      <th>age</th>\n",
       "    </tr>\n",
       "  </thead>\n",
       "  <tbody>\n",
       "    <tr>\n",
       "      <th>0</th>\n",
       "      <td>user_0</td>\n",
       "      <td>ES</td>\n",
       "      <td>0</td>\n",
       "      <td>STANDARD</td>\n",
       "      <td>1.0</td>\n",
       "      <td>1.0</td>\n",
       "      <td>3</td>\n",
       "      <td>Apple</td>\n",
       "      <td>28</td>\n",
       "    </tr>\n",
       "    <tr>\n",
       "      <th>1</th>\n",
       "      <td>user_1</td>\n",
       "      <td>LT</td>\n",
       "      <td>1</td>\n",
       "      <td>STANDARD</td>\n",
       "      <td>NaN</td>\n",
       "      <td>NaN</td>\n",
       "      <td>75</td>\n",
       "      <td>Apple</td>\n",
       "      <td>35</td>\n",
       "    </tr>\n",
       "    <tr>\n",
       "      <th>2</th>\n",
       "      <td>user_2</td>\n",
       "      <td>IE</td>\n",
       "      <td>0</td>\n",
       "      <td>STANDARD</td>\n",
       "      <td>NaN</td>\n",
       "      <td>NaN</td>\n",
       "      <td>71</td>\n",
       "      <td>Apple</td>\n",
       "      <td>24</td>\n",
       "    </tr>\n",
       "    <tr>\n",
       "      <th>3</th>\n",
       "      <td>user_3</td>\n",
       "      <td>IE</td>\n",
       "      <td>0</td>\n",
       "      <td>STANDARD</td>\n",
       "      <td>NaN</td>\n",
       "      <td>NaN</td>\n",
       "      <td>219</td>\n",
       "      <td>Apple</td>\n",
       "      <td>39</td>\n",
       "    </tr>\n",
       "    <tr>\n",
       "      <th>4</th>\n",
       "      <td>user_4</td>\n",
       "      <td>GB</td>\n",
       "      <td>0</td>\n",
       "      <td>STANDARD</td>\n",
       "      <td>NaN</td>\n",
       "      <td>NaN</td>\n",
       "      <td>0</td>\n",
       "      <td>Apple</td>\n",
       "      <td>28</td>\n",
       "    </tr>\n",
       "    <tr>\n",
       "      <th>...</th>\n",
       "      <td>...</td>\n",
       "      <td>...</td>\n",
       "      <td>...</td>\n",
       "      <td>...</td>\n",
       "      <td>...</td>\n",
       "      <td>...</td>\n",
       "      <td>...</td>\n",
       "      <td>...</td>\n",
       "      <td>...</td>\n",
       "    </tr>\n",
       "    <tr>\n",
       "      <th>15539</th>\n",
       "      <td>user_15539</td>\n",
       "      <td>PL</td>\n",
       "      <td>0</td>\n",
       "      <td>STANDARD</td>\n",
       "      <td>1.0</td>\n",
       "      <td>1.0</td>\n",
       "      <td>0</td>\n",
       "      <td>Android</td>\n",
       "      <td>23</td>\n",
       "    </tr>\n",
       "    <tr>\n",
       "      <th>15540</th>\n",
       "      <td>user_15540</td>\n",
       "      <td>PL</td>\n",
       "      <td>0</td>\n",
       "      <td>STANDARD</td>\n",
       "      <td>NaN</td>\n",
       "      <td>NaN</td>\n",
       "      <td>0</td>\n",
       "      <td>Apple</td>\n",
       "      <td>35</td>\n",
       "    </tr>\n",
       "    <tr>\n",
       "      <th>15541</th>\n",
       "      <td>user_15541</td>\n",
       "      <td>GB</td>\n",
       "      <td>0</td>\n",
       "      <td>STANDARD</td>\n",
       "      <td>1.0</td>\n",
       "      <td>1.0</td>\n",
       "      <td>16</td>\n",
       "      <td>Android</td>\n",
       "      <td>42</td>\n",
       "    </tr>\n",
       "    <tr>\n",
       "      <th>15542</th>\n",
       "      <td>user_15542</td>\n",
       "      <td>IE</td>\n",
       "      <td>0</td>\n",
       "      <td>GOLD</td>\n",
       "      <td>1.0</td>\n",
       "      <td>1.0</td>\n",
       "      <td>44</td>\n",
       "      <td>Apple</td>\n",
       "      <td>43</td>\n",
       "    </tr>\n",
       "    <tr>\n",
       "      <th>15543</th>\n",
       "      <td>user_15543</td>\n",
       "      <td>GB</td>\n",
       "      <td>1</td>\n",
       "      <td>STANDARD</td>\n",
       "      <td>1.0</td>\n",
       "      <td>1.0</td>\n",
       "      <td>8</td>\n",
       "      <td>Android</td>\n",
       "      <td>26</td>\n",
       "    </tr>\n",
       "  </tbody>\n",
       "</table>\n",
       "<p>15544 rows × 9 columns</p>\n",
       "</div>"
      ],
      "text/plain": [
       "          user_id country  user_settings_crypto_unlocked      plan  \\\n",
       "0          user_0      ES                              0  STANDARD   \n",
       "1          user_1      LT                              1  STANDARD   \n",
       "2          user_2      IE                              0  STANDARD   \n",
       "3          user_3      IE                              0  STANDARD   \n",
       "4          user_4      GB                              0  STANDARD   \n",
       "...           ...     ...                            ...       ...   \n",
       "15539  user_15539      PL                              0  STANDARD   \n",
       "15540  user_15540      PL                              0  STANDARD   \n",
       "15541  user_15541      GB                              0  STANDARD   \n",
       "15542  user_15542      IE                              0      GOLD   \n",
       "15543  user_15543      GB                              1  STANDARD   \n",
       "\n",
       "       attributes_notifications_marketing_push  \\\n",
       "0                                          1.0   \n",
       "1                                          NaN   \n",
       "2                                          NaN   \n",
       "3                                          NaN   \n",
       "4                                          NaN   \n",
       "...                                        ...   \n",
       "15539                                      1.0   \n",
       "15540                                      NaN   \n",
       "15541                                      1.0   \n",
       "15542                                      1.0   \n",
       "15543                                      1.0   \n",
       "\n",
       "       attributes_notifications_marketing_email  num_contacts    brand  age  \n",
       "0                                           1.0             3    Apple   28  \n",
       "1                                           NaN            75    Apple   35  \n",
       "2                                           NaN            71    Apple   24  \n",
       "3                                           NaN           219    Apple   39  \n",
       "4                                           NaN             0    Apple   28  \n",
       "...                                         ...           ...      ...  ...  \n",
       "15539                                       1.0             0  Android   23  \n",
       "15540                                       NaN             0    Apple   35  \n",
       "15541                                       1.0            16  Android   42  \n",
       "15542                                       1.0            44    Apple   43  \n",
       "15543                                       1.0             8  Android   26  \n",
       "\n",
       "[15544 rows x 9 columns]"
      ]
     },
     "execution_count": 23,
     "metadata": {},
     "output_type": "execute_result"
    }
   ],
   "source": [
    "users1_df"
   ]
  },
  {
   "cell_type": "code",
   "execution_count": 24,
   "metadata": {},
   "outputs": [
    {
     "data": {
      "image/png": "[encoded data removed]",
      "text/plain": [
       "<Figure size 2160x720 with 1 Axes>"
      ]
     },
     "metadata": {},
     "output_type": "display_data"
    }
   ],
   "source": [
    "#check and remove outliers\n",
    "plt.figure(figsize=(30, 10))\n",
    "chart = sns.boxplot(x='plan',y='num_contacts', data=users1_df)"
   ]
  },
  {
   "cell_type": "code",
   "execution_count": 25,
   "metadata": {},
   "outputs": [
    {
     "data": {
      "text/html": [
       "<div>\n",
       "<style scoped>\n",
       "    .dataframe tbody tr th:only-of-type {\n",
       "        vertical-align: middle;\n",
       "    }\n",
       "\n",
       "    .dataframe tbody tr th {\n",
       "        vertical-align: top;\n",
       "    }\n",
       "\n",
       "    .dataframe thead th {\n",
       "        text-align: right;\n",
       "    }\n",
       "</style>\n",
       "<table border=\"1\" class=\"dataframe\">\n",
       "  <thead>\n",
       "    <tr style=\"text-align: right;\">\n",
       "      <th></th>\n",
       "      <th>user_id</th>\n",
       "      <th>country</th>\n",
       "      <th>user_settings_crypto_unlocked</th>\n",
       "      <th>plan</th>\n",
       "      <th>attributes_notifications_marketing_push</th>\n",
       "      <th>attributes_notifications_marketing_email</th>\n",
       "      <th>num_contacts</th>\n",
       "      <th>brand</th>\n",
       "      <th>age</th>\n",
       "    </tr>\n",
       "  </thead>\n",
       "  <tbody>\n",
       "    <tr>\n",
       "      <th>4756</th>\n",
       "      <td>user_4756</td>\n",
       "      <td>LT</td>\n",
       "      <td>0</td>\n",
       "      <td>STANDARD</td>\n",
       "      <td>1.0</td>\n",
       "      <td>1.0</td>\n",
       "      <td>2918</td>\n",
       "      <td>Apple</td>\n",
       "      <td>32</td>\n",
       "    </tr>\n",
       "    <tr>\n",
       "      <th>4854</th>\n",
       "      <td>user_4854</td>\n",
       "      <td>MT</td>\n",
       "      <td>0</td>\n",
       "      <td>STANDARD</td>\n",
       "      <td>1.0</td>\n",
       "      <td>1.0</td>\n",
       "      <td>1785</td>\n",
       "      <td>Apple</td>\n",
       "      <td>37</td>\n",
       "    </tr>\n",
       "  </tbody>\n",
       "</table>\n",
       "</div>"
      ],
      "text/plain": [
       "        user_id country  user_settings_crypto_unlocked      plan  \\\n",
       "4756  user_4756      LT                              0  STANDARD   \n",
       "4854  user_4854      MT                              0  STANDARD   \n",
       "\n",
       "      attributes_notifications_marketing_push  \\\n",
       "4756                                      1.0   \n",
       "4854                                      1.0   \n",
       "\n",
       "      attributes_notifications_marketing_email  num_contacts  brand  age  \n",
       "4756                                       1.0          2918  Apple   32  \n",
       "4854                                       1.0          1785  Apple   37  "
      ]
     },
     "execution_count": 25,
     "metadata": {},
     "output_type": "execute_result"
    }
   ],
   "source": [
    "users1_df[users1_df['num_contacts']>1500]"
   ]
  },
  {
   "cell_type": "code",
   "execution_count": 26,
   "metadata": {},
   "outputs": [],
   "source": [
    "users1_df=users1_df[users1_df['num_contacts']<1500]"
   ]
  },
  {
   "cell_type": "code",
   "execution_count": 27,
   "metadata": {},
   "outputs": [
    {
     "data": {
      "image/png": "[encoded data removed]",
      "text/plain": [
       "<Figure size 2160x720 with 1 Axes>"
      ]
     },
     "metadata": {},
     "output_type": "display_data"
    }
   ],
   "source": [
    "plt.figure(figsize=(30, 10))\n",
    "chart = sns.boxplot(x='plan',y='num_contacts', data=users1_df)"
   ]
  },
  {
   "cell_type": "markdown",
   "metadata": {},
   "source": [
    "## EDA & transformations on transactions"
   ]
  },
  {
   "cell_type": "code",
   "execution_count": 28,
   "metadata": {},
   "outputs": [
    {
     "data": {
      "text/html": [
       "<div>\n",
       "<style scoped>\n",
       "    .dataframe tbody tr th:only-of-type {\n",
       "        vertical-align: middle;\n",
       "    }\n",
       "\n",
       "    .dataframe tbody tr th {\n",
       "        vertical-align: top;\n",
       "    }\n",
       "\n",
       "    .dataframe thead th {\n",
       "        text-align: right;\n",
       "    }\n",
       "</style>\n",
       "<table border=\"1\" class=\"dataframe\">\n",
       "  <thead>\n",
       "    <tr style=\"text-align: right;\">\n",
       "      <th></th>\n",
       "      <th>transaction_id</th>\n",
       "      <th>transactions_type</th>\n",
       "      <th>transactions_currency</th>\n",
       "      <th>amount_usd</th>\n",
       "      <th>transactions_state</th>\n",
       "      <th>ea_cardholderpresence</th>\n",
       "      <th>ea_merchant_mcc</th>\n",
       "      <th>ea_merchant_city</th>\n",
       "      <th>ea_merchant_country</th>\n",
       "      <th>direction</th>\n",
       "      <th>user_id</th>\n",
       "      <th>created_date</th>\n",
       "    </tr>\n",
       "  </thead>\n",
       "  <tbody>\n",
       "    <tr>\n",
       "      <th>392645</th>\n",
       "      <td>transaction_1192645</td>\n",
       "      <td>CASHBACK</td>\n",
       "      <td>GBP</td>\n",
       "      <td>0.21</td>\n",
       "      <td>COMPLETED</td>\n",
       "      <td>NaN</td>\n",
       "      <td>NaN</td>\n",
       "      <td>NaN</td>\n",
       "      <td>NaN</td>\n",
       "      <td>INBOUND</td>\n",
       "      <td>user_11302</td>\n",
       "      <td>2019-04-29 11:52:00.909053</td>\n",
       "    </tr>\n",
       "    <tr>\n",
       "      <th>272407</th>\n",
       "      <td>transaction_1772407</td>\n",
       "      <td>TOPUP</td>\n",
       "      <td>GBP</td>\n",
       "      <td>30.00</td>\n",
       "      <td>COMPLETED</td>\n",
       "      <td>NaN</td>\n",
       "      <td>NaN</td>\n",
       "      <td>NaN</td>\n",
       "      <td>NaN</td>\n",
       "      <td>INBOUND</td>\n",
       "      <td>user_7935</td>\n",
       "      <td>2019-04-12 14:44:30.605883</td>\n",
       "    </tr>\n",
       "    <tr>\n",
       "      <th>715572</th>\n",
       "      <td>transaction_715572</td>\n",
       "      <td>TOPUP</td>\n",
       "      <td>GBP</td>\n",
       "      <td>50.00</td>\n",
       "      <td>COMPLETED</td>\n",
       "      <td>NaN</td>\n",
       "      <td>NaN</td>\n",
       "      <td>NaN</td>\n",
       "      <td>NaN</td>\n",
       "      <td>INBOUND</td>\n",
       "      <td>user_2025</td>\n",
       "      <td>2018-09-22 18:15:30.016329</td>\n",
       "    </tr>\n",
       "    <tr>\n",
       "      <th>10930</th>\n",
       "      <td>transaction_810930</td>\n",
       "      <td>TRANSFER</td>\n",
       "      <td>EUR</td>\n",
       "      <td>4.65</td>\n",
       "      <td>COMPLETED</td>\n",
       "      <td>NaN</td>\n",
       "      <td>NaN</td>\n",
       "      <td>NaN</td>\n",
       "      <td>NaN</td>\n",
       "      <td>OUTBOUND</td>\n",
       "      <td>user_3370</td>\n",
       "      <td>2019-04-22 21:56:43.920909</td>\n",
       "    </tr>\n",
       "    <tr>\n",
       "      <th>472553</th>\n",
       "      <td>transaction_1972553</td>\n",
       "      <td>CARD_PAYMENT</td>\n",
       "      <td>EUR</td>\n",
       "      <td>2.34</td>\n",
       "      <td>COMPLETED</td>\n",
       "      <td>FALSE</td>\n",
       "      <td>5712.0</td>\n",
       "      <td>Dublin</td>\n",
       "      <td>IRL</td>\n",
       "      <td>OUTBOUND</td>\n",
       "      <td>user_874</td>\n",
       "      <td>2019-02-10 10:39:38.248618</td>\n",
       "    </tr>\n",
       "  </tbody>\n",
       "</table>\n",
       "</div>"
      ],
      "text/plain": [
       "             transaction_id transactions_type transactions_currency  \\\n",
       "392645  transaction_1192645          CASHBACK                   GBP   \n",
       "272407  transaction_1772407             TOPUP                   GBP   \n",
       "715572   transaction_715572             TOPUP                   GBP   \n",
       "10930    transaction_810930          TRANSFER                   EUR   \n",
       "472553  transaction_1972553      CARD_PAYMENT                   EUR   \n",
       "\n",
       "        amount_usd transactions_state ea_cardholderpresence  ea_merchant_mcc  \\\n",
       "392645        0.21          COMPLETED                   NaN              NaN   \n",
       "272407       30.00          COMPLETED                   NaN              NaN   \n",
       "715572       50.00          COMPLETED                   NaN              NaN   \n",
       "10930         4.65          COMPLETED                   NaN              NaN   \n",
       "472553        2.34          COMPLETED                 FALSE           5712.0   \n",
       "\n",
       "       ea_merchant_city ea_merchant_country direction     user_id  \\\n",
       "392645              NaN                 NaN   INBOUND  user_11302   \n",
       "272407              NaN                 NaN   INBOUND   user_7935   \n",
       "715572              NaN                 NaN   INBOUND   user_2025   \n",
       "10930               NaN                 NaN  OUTBOUND   user_3370   \n",
       "472553           Dublin                 IRL  OUTBOUND    user_874   \n",
       "\n",
       "                      created_date  \n",
       "392645  2019-04-29 11:52:00.909053  \n",
       "272407  2019-04-12 14:44:30.605883  \n",
       "715572  2018-09-22 18:15:30.016329  \n",
       "10930   2019-04-22 21:56:43.920909  \n",
       "472553  2019-02-10 10:39:38.248618  "
      ]
     },
     "execution_count": 28,
     "metadata": {},
     "output_type": "execute_result"
    }
   ],
   "source": [
    "transactions_df.sample(5)"
   ]
  },
  {
   "cell_type": "code",
   "execution_count": 29,
   "metadata": {},
   "outputs": [
    {
     "data": {
      "application/vnd.jupyter.widget-view+json": {
       "model_id": "500eb558818d40d787b4aa5d497b1efd",
       "version_major": 2,
       "version_minor": 0
      },
      "text/plain": [
       "HBox(children=(FloatProgress(value=0.0, description='Summarize dataset', max=22.0, style=ProgressStyle(descrip…"
      ]
     },
     "metadata": {},
     "output_type": "display_data"
    },
    {
     "name": "stdout",
     "output_type": "stream",
     "text": [
      "\n"
     ]
    },
    {
     "data": {
      "application/vnd.jupyter.widget-view+json": {
       "model_id": "645d9c93c4a1411eb846ce9b77224098",
       "version_major": 2,
       "version_minor": 0
      },
      "text/plain": [
       "HBox(children=(FloatProgress(value=0.0, description='Generate report structure', max=1.0, style=ProgressStyle(…"
      ]
     },
     "metadata": {},
     "output_type": "display_data"
    },
    {
     "name": "stdout",
     "output_type": "stream",
     "text": [
      "\n"
     ]
    },
    {
     "data": {
      "application/vnd.jupyter.widget-view+json": {
       "model_id": "",
       "version_major": 2,
       "version_minor": 0
      },
      "text/plain": [
       "HBox(children=(FloatProgress(value=0.0, description='Render widgets', max=1.0, style=ProgressStyle(description…"
      ]
     },
     "metadata": {},
     "output_type": "display_data"
    },
    {
     "data": {
      "application/vnd.jupyter.widget-view+json": {
       "model_id": "18610fab83af45498856e391e7ca6f7c",
       "version_major": 2,
       "version_minor": 0
      },
      "text/plain": [
       "VBox(children=(Tab(children=(Tab(children=(GridBox(children=(VBox(children=(GridspecLayout(children=(HTML(valu…"
      ]
     },
     "metadata": {},
     "output_type": "display_data"
    }
   ],
   "source": [
    "profile = ProfileReport(transactions_df, minimal=True)\n",
    "profile.to_widgets()"
   ]
  },
  {
   "cell_type": "code",
   "execution_count": 30,
   "metadata": {
    "scrolled": true
   },
   "outputs": [
    {
     "data": {
      "text/plain": [
       "transaction_id                0\n",
       "transactions_type             0\n",
       "transactions_currency         0\n",
       "amount_usd                    0\n",
       "transactions_state            0\n",
       "ea_cardholderpresence    933206\n",
       "ea_merchant_mcc          923975\n",
       "ea_merchant_city         924080\n",
       "ea_merchant_country      924239\n",
       "direction                     0\n",
       "user_id                       0\n",
       "created_date                  0\n",
       "dtype: int64"
      ]
     },
     "execution_count": 30,
     "metadata": {},
     "output_type": "execute_result"
    }
   ],
   "source": [
    "transactions_df.isnull().sum()"
   ]
  },
  {
   "cell_type": "code",
   "execution_count": 31,
   "metadata": {},
   "outputs": [
    {
     "data": {
      "text/plain": [
       "CARD_PAYMENT    1173661\n",
       "TRANSFER         402126\n",
       "TOPUP            309740\n",
       "EXCHANGE         124800\n",
       "ATM               74181\n",
       "CASHBACK          65063\n",
       "FEE               18786\n",
       "CARD_REFUND        9209\n",
       "TAX                2267\n",
       "REFUND             1193\n",
       "Name: transactions_type, dtype: int64"
      ]
     },
     "execution_count": 31,
     "metadata": {},
     "output_type": "execute_result"
    }
   ],
   "source": [
    "transactions_df.transactions_type.value_counts()"
   ]
  },
  {
   "cell_type": "code",
   "execution_count": 32,
   "metadata": {},
   "outputs": [
    {
     "data": {
      "text/plain": [
       "COMPLETED    1916387\n",
       "DECLINED      124226\n",
       "REVERTED       89330\n",
       "FAILED         32566\n",
       "PENDING        17153\n",
       "CANCELLED       1364\n",
       "Name: transactions_state, dtype: int64"
      ]
     },
     "execution_count": 32,
     "metadata": {},
     "output_type": "execute_result"
    }
   ],
   "source": [
    "transactions_df.transactions_state.value_counts()"
   ]
  },
  {
   "cell_type": "code",
   "execution_count": 33,
   "metadata": {},
   "outputs": [
    {
     "data": {
      "text/plain": [
       "OUTBOUND    1759079\n",
       "INBOUND      421947\n",
       "Name: direction, dtype: int64"
      ]
     },
     "execution_count": 33,
     "metadata": {},
     "output_type": "execute_result"
    }
   ],
   "source": [
    "transactions_df.direction.value_counts()"
   ]
  },
  {
   "cell_type": "code",
   "execution_count": 34,
   "metadata": {},
   "outputs": [],
   "source": [
    "#keep only 'COMPLETED' transactions\n",
    "completed_transactions_df = transactions_df[transactions_df['transactions_state'] == 'COMPLETED']"
   ]
  },
  {
   "cell_type": "code",
   "execution_count": 35,
   "metadata": {},
   "outputs": [
    {
     "data": {
      "text/plain": [
       "CARD_PAYMENT    999418\n",
       "TRANSFER        396323\n",
       "TOPUP           242621\n",
       "EXCHANGE        124800\n",
       "ATM              61518\n",
       "CASHBACK         60278\n",
       "FEE              18786\n",
       "CARD_REFUND       9208\n",
       "TAX               2242\n",
       "REFUND            1193\n",
       "Name: transactions_type, dtype: int64"
      ]
     },
     "execution_count": 35,
     "metadata": {},
     "output_type": "execute_result"
    }
   ],
   "source": [
    "completed_transactions_df.transactions_type.value_counts()"
   ]
  },
  {
   "cell_type": "code",
   "execution_count": 36,
   "metadata": {},
   "outputs": [],
   "source": [
    "# drop 'EXCHANGE' transactions\n",
    "completed_transactions_df=completed_transactions_df[completed_transactions_df['transactions_type']!='EXCHANGE']"
   ]
  },
  {
   "cell_type": "code",
   "execution_count": 37,
   "metadata": {},
   "outputs": [],
   "source": [
    "# drop unneeded columns\n",
    "completed_transactions_df.drop(['transaction_id','transactions_currency','transactions_state','ea_cardholderpresence','ea_merchant_mcc','ea_merchant_city','ea_merchant_country','created_date'],axis=1, inplace=True)"
   ]
  },
  {
   "cell_type": "code",
   "execution_count": 38,
   "metadata": {},
   "outputs": [
    {
     "data": {
      "text/html": [
       "<div>\n",
       "<style scoped>\n",
       "    .dataframe tbody tr th:only-of-type {\n",
       "        vertical-align: middle;\n",
       "    }\n",
       "\n",
       "    .dataframe tbody tr th {\n",
       "        vertical-align: top;\n",
       "    }\n",
       "\n",
       "    .dataframe thead th {\n",
       "        text-align: right;\n",
       "    }\n",
       "</style>\n",
       "<table border=\"1\" class=\"dataframe\">\n",
       "  <thead>\n",
       "    <tr style=\"text-align: right;\">\n",
       "      <th></th>\n",
       "      <th>transactions_type</th>\n",
       "      <th>amount_usd</th>\n",
       "      <th>direction</th>\n",
       "      <th>user_id</th>\n",
       "    </tr>\n",
       "  </thead>\n",
       "  <tbody>\n",
       "    <tr>\n",
       "      <th>0</th>\n",
       "      <td>TRANSFER</td>\n",
       "      <td>4.55</td>\n",
       "      <td>OUTBOUND</td>\n",
       "      <td>user_4368</td>\n",
       "    </tr>\n",
       "    <tr>\n",
       "      <th>1</th>\n",
       "      <td>CARD_PAYMENT</td>\n",
       "      <td>15.50</td>\n",
       "      <td>OUTBOUND</td>\n",
       "      <td>user_2355</td>\n",
       "    </tr>\n",
       "    <tr>\n",
       "      <th>2</th>\n",
       "      <td>CARD_PAYMENT</td>\n",
       "      <td>43.40</td>\n",
       "      <td>OUTBOUND</td>\n",
       "      <td>user_2355</td>\n",
       "    </tr>\n",
       "    <tr>\n",
       "      <th>3</th>\n",
       "      <td>TRANSFER</td>\n",
       "      <td>10043.01</td>\n",
       "      <td>OUTBOUND</td>\n",
       "      <td>user_2355</td>\n",
       "    </tr>\n",
       "    <tr>\n",
       "      <th>4</th>\n",
       "      <td>CARD_PAYMENT</td>\n",
       "      <td>43.81</td>\n",
       "      <td>OUTBOUND</td>\n",
       "      <td>user_14318</td>\n",
       "    </tr>\n",
       "    <tr>\n",
       "      <th>...</th>\n",
       "      <td>...</td>\n",
       "      <td>...</td>\n",
       "      <td>...</td>\n",
       "      <td>...</td>\n",
       "    </tr>\n",
       "    <tr>\n",
       "      <th>681020</th>\n",
       "      <td>TRANSFER</td>\n",
       "      <td>46.81</td>\n",
       "      <td>INBOUND</td>\n",
       "      <td>user_1011</td>\n",
       "    </tr>\n",
       "    <tr>\n",
       "      <th>681022</th>\n",
       "      <td>TRANSFER</td>\n",
       "      <td>1.70</td>\n",
       "      <td>OUTBOUND</td>\n",
       "      <td>user_1011</td>\n",
       "    </tr>\n",
       "    <tr>\n",
       "      <th>681023</th>\n",
       "      <td>TRANSFER</td>\n",
       "      <td>4.26</td>\n",
       "      <td>OUTBOUND</td>\n",
       "      <td>user_3170</td>\n",
       "    </tr>\n",
       "    <tr>\n",
       "      <th>681024</th>\n",
       "      <td>TRANSFER</td>\n",
       "      <td>1.70</td>\n",
       "      <td>OUTBOUND</td>\n",
       "      <td>user_8195</td>\n",
       "    </tr>\n",
       "    <tr>\n",
       "      <th>681025</th>\n",
       "      <td>TRANSFER</td>\n",
       "      <td>4.26</td>\n",
       "      <td>OUTBOUND</td>\n",
       "      <td>user_10859</td>\n",
       "    </tr>\n",
       "  </tbody>\n",
       "</table>\n",
       "<p>1791587 rows × 4 columns</p>\n",
       "</div>"
      ],
      "text/plain": [
       "       transactions_type  amount_usd direction     user_id\n",
       "0               TRANSFER        4.55  OUTBOUND   user_4368\n",
       "1           CARD_PAYMENT       15.50  OUTBOUND   user_2355\n",
       "2           CARD_PAYMENT       43.40  OUTBOUND   user_2355\n",
       "3               TRANSFER    10043.01  OUTBOUND   user_2355\n",
       "4           CARD_PAYMENT       43.81  OUTBOUND  user_14318\n",
       "...                  ...         ...       ...         ...\n",
       "681020          TRANSFER       46.81   INBOUND   user_1011\n",
       "681022          TRANSFER        1.70  OUTBOUND   user_1011\n",
       "681023          TRANSFER        4.26  OUTBOUND   user_3170\n",
       "681024          TRANSFER        1.70  OUTBOUND   user_8195\n",
       "681025          TRANSFER        4.26  OUTBOUND  user_10859\n",
       "\n",
       "[1791587 rows x 4 columns]"
      ]
     },
     "execution_count": 38,
     "metadata": {},
     "output_type": "execute_result"
    }
   ],
   "source": [
    "completed_transactions_df"
   ]
  },
  {
   "cell_type": "code",
   "execution_count": 39,
   "metadata": {},
   "outputs": [
    {
     "data": {
      "image/png": "[encoded data removed]",
      "text/plain": [
       "<Figure size 2160x720 with 1 Axes>"
      ]
     },
     "metadata": {},
     "output_type": "display_data"
    }
   ],
   "source": [
    "#check and remove outliers\n",
    "plt.figure(figsize=(30, 10))\n",
    "chart = sns.scatterplot(x='transactions_type',y='amount_usd', data=completed_transactions_df)"
   ]
  },
  {
   "cell_type": "code",
   "execution_count": 40,
   "metadata": {},
   "outputs": [
    {
     "data": {
      "text/html": [
       "<div>\n",
       "<style scoped>\n",
       "    .dataframe tbody tr th:only-of-type {\n",
       "        vertical-align: middle;\n",
       "    }\n",
       "\n",
       "    .dataframe tbody tr th {\n",
       "        vertical-align: top;\n",
       "    }\n",
       "\n",
       "    .dataframe thead th {\n",
       "        text-align: right;\n",
       "    }\n",
       "</style>\n",
       "<table border=\"1\" class=\"dataframe\">\n",
       "  <thead>\n",
       "    <tr style=\"text-align: right;\">\n",
       "      <th></th>\n",
       "      <th>transactions_type</th>\n",
       "      <th>amount_usd</th>\n",
       "      <th>direction</th>\n",
       "      <th>user_id</th>\n",
       "    </tr>\n",
       "  </thead>\n",
       "  <tbody>\n",
       "    <tr>\n",
       "      <th>589913</th>\n",
       "      <td>TOPUP</td>\n",
       "      <td>188665.72</td>\n",
       "      <td>INBOUND</td>\n",
       "      <td>user_2210</td>\n",
       "    </tr>\n",
       "    <tr>\n",
       "      <th>565359</th>\n",
       "      <td>TOPUP</td>\n",
       "      <td>612766.46</td>\n",
       "      <td>INBOUND</td>\n",
       "      <td>user_936</td>\n",
       "    </tr>\n",
       "  </tbody>\n",
       "</table>\n",
       "</div>"
      ],
      "text/plain": [
       "       transactions_type  amount_usd direction    user_id\n",
       "589913             TOPUP   188665.72   INBOUND  user_2210\n",
       "565359             TOPUP   612766.46   INBOUND   user_936"
      ]
     },
     "execution_count": 40,
     "metadata": {},
     "output_type": "execute_result"
    }
   ],
   "source": [
    "completed_transactions_df[completed_transactions_df['amount_usd']>150000]"
   ]
  },
  {
   "cell_type": "code",
   "execution_count": 41,
   "metadata": {},
   "outputs": [],
   "source": [
    "completed_transactions_df=completed_transactions_df[completed_transactions_df['amount_usd']<150000]"
   ]
  },
  {
   "cell_type": "code",
   "execution_count": 42,
   "metadata": {},
   "outputs": [
    {
     "data": {
      "image/png": "[encoded data removed]",
      "text/plain": [
       "<Figure size 2160x720 with 1 Axes>"
      ]
     },
     "metadata": {},
     "output_type": "display_data"
    }
   ],
   "source": [
    "plt.figure(figsize=(30, 10))\n",
    "chart = sns.scatterplot(x='transactions_type',y='amount_usd', data=completed_transactions_df)"
   ]
  },
  {
   "cell_type": "code",
   "execution_count": 43,
   "metadata": {},
   "outputs": [],
   "source": [
    "# create a total usd feature for each user and subtract the refunds\n",
    "transactions_tot = completed_transactions_df.groupby('user_id')[['amount_usd']].sum()"
   ]
  },
  {
   "cell_type": "code",
   "execution_count": 44,
   "metadata": {},
   "outputs": [
    {
     "data": {
      "text/html": [
       "<div>\n",
       "<style scoped>\n",
       "    .dataframe tbody tr th:only-of-type {\n",
       "        vertical-align: middle;\n",
       "    }\n",
       "\n",
       "    .dataframe tbody tr th {\n",
       "        vertical-align: top;\n",
       "    }\n",
       "\n",
       "    .dataframe thead th {\n",
       "        text-align: right;\n",
       "    }\n",
       "</style>\n",
       "<table border=\"1\" class=\"dataframe\">\n",
       "  <thead>\n",
       "    <tr style=\"text-align: right;\">\n",
       "      <th></th>\n",
       "      <th>amount_usd</th>\n",
       "    </tr>\n",
       "    <tr>\n",
       "      <th>user_id</th>\n",
       "      <th></th>\n",
       "    </tr>\n",
       "  </thead>\n",
       "  <tbody>\n",
       "    <tr>\n",
       "      <th>user_0</th>\n",
       "      <td>6741.88</td>\n",
       "    </tr>\n",
       "    <tr>\n",
       "      <th>user_1</th>\n",
       "      <td>12955.54</td>\n",
       "    </tr>\n",
       "    <tr>\n",
       "      <th>user_10</th>\n",
       "      <td>5437.70</td>\n",
       "    </tr>\n",
       "    <tr>\n",
       "      <th>user_100</th>\n",
       "      <td>4230.10</td>\n",
       "    </tr>\n",
       "    <tr>\n",
       "      <th>user_1000</th>\n",
       "      <td>843.12</td>\n",
       "    </tr>\n",
       "    <tr>\n",
       "      <th>...</th>\n",
       "      <td>...</td>\n",
       "    </tr>\n",
       "    <tr>\n",
       "      <th>user_9995</th>\n",
       "      <td>187.16</td>\n",
       "    </tr>\n",
       "    <tr>\n",
       "      <th>user_9996</th>\n",
       "      <td>1181.76</td>\n",
       "    </tr>\n",
       "    <tr>\n",
       "      <th>user_9997</th>\n",
       "      <td>6585.30</td>\n",
       "    </tr>\n",
       "    <tr>\n",
       "      <th>user_9998</th>\n",
       "      <td>359.06</td>\n",
       "    </tr>\n",
       "    <tr>\n",
       "      <th>user_9999</th>\n",
       "      <td>8.51</td>\n",
       "    </tr>\n",
       "  </tbody>\n",
       "</table>\n",
       "<p>14816 rows × 1 columns</p>\n",
       "</div>"
      ],
      "text/plain": [
       "           amount_usd\n",
       "user_id              \n",
       "user_0        6741.88\n",
       "user_1       12955.54\n",
       "user_10       5437.70\n",
       "user_100      4230.10\n",
       "user_1000      843.12\n",
       "...               ...\n",
       "user_9995      187.16\n",
       "user_9996     1181.76\n",
       "user_9997     6585.30\n",
       "user_9998      359.06\n",
       "user_9999        8.51\n",
       "\n",
       "[14816 rows x 1 columns]"
      ]
     },
     "execution_count": 44,
     "metadata": {},
     "output_type": "execute_result"
    }
   ],
   "source": [
    "transactions_tot"
   ]
  },
  {
   "cell_type": "code",
   "execution_count": 45,
   "metadata": {},
   "outputs": [],
   "source": [
    "refunds_df = completed_transactions_df[completed_transactions_df['transactions_type']=='REFUND'].groupby('user_id')[['amount_usd']].sum()\n",
    "refunds_df = refunds_df.rename(columns={'amount_usd':'refunds'})"
   ]
  },
  {
   "cell_type": "code",
   "execution_count": 46,
   "metadata": {},
   "outputs": [],
   "source": [
    "card_refunds_df = completed_transactions_df[completed_transactions_df['transactions_type']=='CARD_REFUND'].groupby('user_id')[['amount_usd']].sum()\n",
    "card_refunds_df = card_refunds_df.rename(columns={'amount_usd':'card_refunds'})"
   ]
  },
  {
   "cell_type": "code",
   "execution_count": 47,
   "metadata": {},
   "outputs": [
    {
     "name": "stdout",
     "output_type": "stream",
     "text": [
      "            card_refunds\n",
      "user_id                 \n",
      "user_0             13.00\n",
      "user_10           485.96\n",
      "user_10008        118.22\n",
      "user_10010        118.97\n",
      "user_10027         29.94\n",
      "...                  ...\n",
      "user_9971           2.00\n",
      "user_9979          30.42\n",
      "user_9981           0.99\n",
      "user_9989          14.47\n",
      "user_9997          20.00\n",
      "\n",
      "[3379 rows x 1 columns]\n",
      "            refunds\n",
      "user_id            \n",
      "user_10048     5.10\n",
      "user_10054    11.06\n",
      "user_10065     3.38\n",
      "user_10097     5.00\n",
      "user_10103     5.10\n",
      "...             ...\n",
      "user_994       4.25\n",
      "user_9942      5.37\n",
      "user_9943     30.00\n",
      "user_9948     10.20\n",
      "user_9979      1.70\n",
      "\n",
      "[859 rows x 1 columns]\n"
     ]
    }
   ],
   "source": [
    "print(card_refunds_df)\n",
    "print(refunds_df)"
   ]
  },
  {
   "cell_type": "code",
   "execution_count": 48,
   "metadata": {},
   "outputs": [],
   "source": [
    "transactions_tot = transactions_tot.merge(refunds_df, right_index=True, left_index=True, how='outer')\n",
    "transactions_tot = transactions_tot.merge(card_refunds_df, right_index=True, left_index=True, how='outer')"
   ]
  },
  {
   "cell_type": "code",
   "execution_count": 49,
   "metadata": {},
   "outputs": [
    {
     "data": {
      "text/html": [
       "<div>\n",
       "<style scoped>\n",
       "    .dataframe tbody tr th:only-of-type {\n",
       "        vertical-align: middle;\n",
       "    }\n",
       "\n",
       "    .dataframe tbody tr th {\n",
       "        vertical-align: top;\n",
       "    }\n",
       "\n",
       "    .dataframe thead th {\n",
       "        text-align: right;\n",
       "    }\n",
       "</style>\n",
       "<table border=\"1\" class=\"dataframe\">\n",
       "  <thead>\n",
       "    <tr style=\"text-align: right;\">\n",
       "      <th></th>\n",
       "      <th>amount_usd</th>\n",
       "      <th>refunds</th>\n",
       "      <th>card_refunds</th>\n",
       "    </tr>\n",
       "    <tr>\n",
       "      <th>user_id</th>\n",
       "      <th></th>\n",
       "      <th></th>\n",
       "      <th></th>\n",
       "    </tr>\n",
       "  </thead>\n",
       "  <tbody>\n",
       "    <tr>\n",
       "      <th>user_0</th>\n",
       "      <td>6741.88</td>\n",
       "      <td>NaN</td>\n",
       "      <td>13.00</td>\n",
       "    </tr>\n",
       "    <tr>\n",
       "      <th>user_1</th>\n",
       "      <td>12955.54</td>\n",
       "      <td>NaN</td>\n",
       "      <td>NaN</td>\n",
       "    </tr>\n",
       "    <tr>\n",
       "      <th>user_10</th>\n",
       "      <td>5437.70</td>\n",
       "      <td>NaN</td>\n",
       "      <td>485.96</td>\n",
       "    </tr>\n",
       "    <tr>\n",
       "      <th>user_100</th>\n",
       "      <td>4230.10</td>\n",
       "      <td>NaN</td>\n",
       "      <td>NaN</td>\n",
       "    </tr>\n",
       "    <tr>\n",
       "      <th>user_1000</th>\n",
       "      <td>843.12</td>\n",
       "      <td>NaN</td>\n",
       "      <td>NaN</td>\n",
       "    </tr>\n",
       "    <tr>\n",
       "      <th>...</th>\n",
       "      <td>...</td>\n",
       "      <td>...</td>\n",
       "      <td>...</td>\n",
       "    </tr>\n",
       "    <tr>\n",
       "      <th>user_9995</th>\n",
       "      <td>187.16</td>\n",
       "      <td>NaN</td>\n",
       "      <td>NaN</td>\n",
       "    </tr>\n",
       "    <tr>\n",
       "      <th>user_9996</th>\n",
       "      <td>1181.76</td>\n",
       "      <td>NaN</td>\n",
       "      <td>NaN</td>\n",
       "    </tr>\n",
       "    <tr>\n",
       "      <th>user_9997</th>\n",
       "      <td>6585.30</td>\n",
       "      <td>NaN</td>\n",
       "      <td>20.00</td>\n",
       "    </tr>\n",
       "    <tr>\n",
       "      <th>user_9998</th>\n",
       "      <td>359.06</td>\n",
       "      <td>NaN</td>\n",
       "      <td>NaN</td>\n",
       "    </tr>\n",
       "    <tr>\n",
       "      <th>user_9999</th>\n",
       "      <td>8.51</td>\n",
       "      <td>NaN</td>\n",
       "      <td>NaN</td>\n",
       "    </tr>\n",
       "  </tbody>\n",
       "</table>\n",
       "<p>14816 rows × 3 columns</p>\n",
       "</div>"
      ],
      "text/plain": [
       "           amount_usd  refunds  card_refunds\n",
       "user_id                                     \n",
       "user_0        6741.88      NaN         13.00\n",
       "user_1       12955.54      NaN           NaN\n",
       "user_10       5437.70      NaN        485.96\n",
       "user_100      4230.10      NaN           NaN\n",
       "user_1000      843.12      NaN           NaN\n",
       "...               ...      ...           ...\n",
       "user_9995      187.16      NaN           NaN\n",
       "user_9996     1181.76      NaN           NaN\n",
       "user_9997     6585.30      NaN         20.00\n",
       "user_9998      359.06      NaN           NaN\n",
       "user_9999        8.51      NaN           NaN\n",
       "\n",
       "[14816 rows x 3 columns]"
      ]
     },
     "execution_count": 49,
     "metadata": {},
     "output_type": "execute_result"
    }
   ],
   "source": [
    "transactions_tot"
   ]
  },
  {
   "cell_type": "code",
   "execution_count": 50,
   "metadata": {},
   "outputs": [
    {
     "data": {
      "text/plain": [
       "amount_usd          0\n",
       "refunds         13957\n",
       "card_refunds    11437\n",
       "dtype: int64"
      ]
     },
     "execution_count": 50,
     "metadata": {},
     "output_type": "execute_result"
    }
   ],
   "source": [
    "transactions_tot.isnull().sum()"
   ]
  },
  {
   "cell_type": "code",
   "execution_count": 51,
   "metadata": {},
   "outputs": [],
   "source": [
    "transactions_tot.fillna(0, inplace = True)"
   ]
  },
  {
   "cell_type": "code",
   "execution_count": 52,
   "metadata": {},
   "outputs": [],
   "source": [
    "transactions_tot['usd_tot'] =transactions_tot['amount_usd']-transactions_tot['refunds']-transactions_tot['card_refunds']"
   ]
  },
  {
   "cell_type": "code",
   "execution_count": 53,
   "metadata": {},
   "outputs": [
    {
     "data": {
      "text/html": [
       "<div>\n",
       "<style scoped>\n",
       "    .dataframe tbody tr th:only-of-type {\n",
       "        vertical-align: middle;\n",
       "    }\n",
       "\n",
       "    .dataframe tbody tr th {\n",
       "        vertical-align: top;\n",
       "    }\n",
       "\n",
       "    .dataframe thead th {\n",
       "        text-align: right;\n",
       "    }\n",
       "</style>\n",
       "<table border=\"1\" class=\"dataframe\">\n",
       "  <thead>\n",
       "    <tr style=\"text-align: right;\">\n",
       "      <th></th>\n",
       "      <th>amount_usd</th>\n",
       "      <th>refunds</th>\n",
       "      <th>card_refunds</th>\n",
       "      <th>usd_tot</th>\n",
       "    </tr>\n",
       "    <tr>\n",
       "      <th>user_id</th>\n",
       "      <th></th>\n",
       "      <th></th>\n",
       "      <th></th>\n",
       "      <th></th>\n",
       "    </tr>\n",
       "  </thead>\n",
       "  <tbody>\n",
       "    <tr>\n",
       "      <th>user_0</th>\n",
       "      <td>6741.88</td>\n",
       "      <td>0.0</td>\n",
       "      <td>13.00</td>\n",
       "      <td>6728.88</td>\n",
       "    </tr>\n",
       "    <tr>\n",
       "      <th>user_1</th>\n",
       "      <td>12955.54</td>\n",
       "      <td>0.0</td>\n",
       "      <td>0.00</td>\n",
       "      <td>12955.54</td>\n",
       "    </tr>\n",
       "    <tr>\n",
       "      <th>user_10</th>\n",
       "      <td>5437.70</td>\n",
       "      <td>0.0</td>\n",
       "      <td>485.96</td>\n",
       "      <td>4951.74</td>\n",
       "    </tr>\n",
       "    <tr>\n",
       "      <th>user_100</th>\n",
       "      <td>4230.10</td>\n",
       "      <td>0.0</td>\n",
       "      <td>0.00</td>\n",
       "      <td>4230.10</td>\n",
       "    </tr>\n",
       "    <tr>\n",
       "      <th>user_1000</th>\n",
       "      <td>843.12</td>\n",
       "      <td>0.0</td>\n",
       "      <td>0.00</td>\n",
       "      <td>843.12</td>\n",
       "    </tr>\n",
       "    <tr>\n",
       "      <th>...</th>\n",
       "      <td>...</td>\n",
       "      <td>...</td>\n",
       "      <td>...</td>\n",
       "      <td>...</td>\n",
       "    </tr>\n",
       "    <tr>\n",
       "      <th>user_9995</th>\n",
       "      <td>187.16</td>\n",
       "      <td>0.0</td>\n",
       "      <td>0.00</td>\n",
       "      <td>187.16</td>\n",
       "    </tr>\n",
       "    <tr>\n",
       "      <th>user_9996</th>\n",
       "      <td>1181.76</td>\n",
       "      <td>0.0</td>\n",
       "      <td>0.00</td>\n",
       "      <td>1181.76</td>\n",
       "    </tr>\n",
       "    <tr>\n",
       "      <th>user_9997</th>\n",
       "      <td>6585.30</td>\n",
       "      <td>0.0</td>\n",
       "      <td>20.00</td>\n",
       "      <td>6565.30</td>\n",
       "    </tr>\n",
       "    <tr>\n",
       "      <th>user_9998</th>\n",
       "      <td>359.06</td>\n",
       "      <td>0.0</td>\n",
       "      <td>0.00</td>\n",
       "      <td>359.06</td>\n",
       "    </tr>\n",
       "    <tr>\n",
       "      <th>user_9999</th>\n",
       "      <td>8.51</td>\n",
       "      <td>0.0</td>\n",
       "      <td>0.00</td>\n",
       "      <td>8.51</td>\n",
       "    </tr>\n",
       "  </tbody>\n",
       "</table>\n",
       "<p>14816 rows × 4 columns</p>\n",
       "</div>"
      ],
      "text/plain": [
       "           amount_usd  refunds  card_refunds   usd_tot\n",
       "user_id                                               \n",
       "user_0        6741.88      0.0         13.00   6728.88\n",
       "user_1       12955.54      0.0          0.00  12955.54\n",
       "user_10       5437.70      0.0        485.96   4951.74\n",
       "user_100      4230.10      0.0          0.00   4230.10\n",
       "user_1000      843.12      0.0          0.00    843.12\n",
       "...               ...      ...           ...       ...\n",
       "user_9995      187.16      0.0          0.00    187.16\n",
       "user_9996     1181.76      0.0          0.00   1181.76\n",
       "user_9997     6585.30      0.0         20.00   6565.30\n",
       "user_9998      359.06      0.0          0.00    359.06\n",
       "user_9999        8.51      0.0          0.00      8.51\n",
       "\n",
       "[14816 rows x 4 columns]"
      ]
     },
     "execution_count": 53,
     "metadata": {},
     "output_type": "execute_result"
    }
   ],
   "source": [
    "transactions_tot"
   ]
  },
  {
   "cell_type": "code",
   "execution_count": 54,
   "metadata": {},
   "outputs": [],
   "source": [
    "#create a number of transactions feature for each user\n",
    "num_transactions = completed_transactions_df.groupby('user_id')[['amount_usd']].count()"
   ]
  },
  {
   "cell_type": "code",
   "execution_count": 55,
   "metadata": {},
   "outputs": [
    {
     "data": {
      "text/html": [
       "<div>\n",
       "<style scoped>\n",
       "    .dataframe tbody tr th:only-of-type {\n",
       "        vertical-align: middle;\n",
       "    }\n",
       "\n",
       "    .dataframe tbody tr th {\n",
       "        vertical-align: top;\n",
       "    }\n",
       "\n",
       "    .dataframe thead th {\n",
       "        text-align: right;\n",
       "    }\n",
       "</style>\n",
       "<table border=\"1\" class=\"dataframe\">\n",
       "  <thead>\n",
       "    <tr style=\"text-align: right;\">\n",
       "      <th></th>\n",
       "      <th>num_transactions</th>\n",
       "    </tr>\n",
       "    <tr>\n",
       "      <th>user_id</th>\n",
       "      <th></th>\n",
       "    </tr>\n",
       "  </thead>\n",
       "  <tbody>\n",
       "    <tr>\n",
       "      <th>user_0</th>\n",
       "      <td>515</td>\n",
       "    </tr>\n",
       "    <tr>\n",
       "      <th>user_1</th>\n",
       "      <td>133</td>\n",
       "    </tr>\n",
       "    <tr>\n",
       "      <th>user_10</th>\n",
       "      <td>120</td>\n",
       "    </tr>\n",
       "    <tr>\n",
       "      <th>user_100</th>\n",
       "      <td>55</td>\n",
       "    </tr>\n",
       "    <tr>\n",
       "      <th>user_1000</th>\n",
       "      <td>43</td>\n",
       "    </tr>\n",
       "    <tr>\n",
       "      <th>...</th>\n",
       "      <td>...</td>\n",
       "    </tr>\n",
       "    <tr>\n",
       "      <th>user_9995</th>\n",
       "      <td>3</td>\n",
       "    </tr>\n",
       "    <tr>\n",
       "      <th>user_9996</th>\n",
       "      <td>26</td>\n",
       "    </tr>\n",
       "    <tr>\n",
       "      <th>user_9997</th>\n",
       "      <td>108</td>\n",
       "    </tr>\n",
       "    <tr>\n",
       "      <th>user_9998</th>\n",
       "      <td>23</td>\n",
       "    </tr>\n",
       "    <tr>\n",
       "      <th>user_9999</th>\n",
       "      <td>1</td>\n",
       "    </tr>\n",
       "  </tbody>\n",
       "</table>\n",
       "<p>14816 rows × 1 columns</p>\n",
       "</div>"
      ],
      "text/plain": [
       "           num_transactions\n",
       "user_id                    \n",
       "user_0                  515\n",
       "user_1                  133\n",
       "user_10                 120\n",
       "user_100                 55\n",
       "user_1000                43\n",
       "...                     ...\n",
       "user_9995                 3\n",
       "user_9996                26\n",
       "user_9997               108\n",
       "user_9998                23\n",
       "user_9999                 1\n",
       "\n",
       "[14816 rows x 1 columns]"
      ]
     },
     "execution_count": 55,
     "metadata": {},
     "output_type": "execute_result"
    }
   ],
   "source": [
    "num_transactions.rename({'amount_usd': 'num_transactions'}, axis=1, inplace=True)\n",
    "num_transactions"
   ]
  },
  {
   "cell_type": "code",
   "execution_count": 56,
   "metadata": {},
   "outputs": [
    {
     "data": {
      "text/html": [
       "<div>\n",
       "<style scoped>\n",
       "    .dataframe tbody tr th:only-of-type {\n",
       "        vertical-align: middle;\n",
       "    }\n",
       "\n",
       "    .dataframe tbody tr th {\n",
       "        vertical-align: top;\n",
       "    }\n",
       "\n",
       "    .dataframe thead th {\n",
       "        text-align: right;\n",
       "    }\n",
       "</style>\n",
       "<table border=\"1\" class=\"dataframe\">\n",
       "  <thead>\n",
       "    <tr style=\"text-align: right;\">\n",
       "      <th></th>\n",
       "      <th>transactions_type</th>\n",
       "      <th>amount_usd</th>\n",
       "      <th>direction</th>\n",
       "      <th>user_id</th>\n",
       "    </tr>\n",
       "  </thead>\n",
       "  <tbody>\n",
       "    <tr>\n",
       "      <th>0</th>\n",
       "      <td>TRANSFER</td>\n",
       "      <td>4.55</td>\n",
       "      <td>OUTBOUND</td>\n",
       "      <td>user_4368</td>\n",
       "    </tr>\n",
       "    <tr>\n",
       "      <th>1</th>\n",
       "      <td>CARD_PAYMENT</td>\n",
       "      <td>15.50</td>\n",
       "      <td>OUTBOUND</td>\n",
       "      <td>user_2355</td>\n",
       "    </tr>\n",
       "    <tr>\n",
       "      <th>2</th>\n",
       "      <td>CARD_PAYMENT</td>\n",
       "      <td>43.40</td>\n",
       "      <td>OUTBOUND</td>\n",
       "      <td>user_2355</td>\n",
       "    </tr>\n",
       "    <tr>\n",
       "      <th>3</th>\n",
       "      <td>TRANSFER</td>\n",
       "      <td>10043.01</td>\n",
       "      <td>OUTBOUND</td>\n",
       "      <td>user_2355</td>\n",
       "    </tr>\n",
       "    <tr>\n",
       "      <th>4</th>\n",
       "      <td>CARD_PAYMENT</td>\n",
       "      <td>43.81</td>\n",
       "      <td>OUTBOUND</td>\n",
       "      <td>user_14318</td>\n",
       "    </tr>\n",
       "    <tr>\n",
       "      <th>...</th>\n",
       "      <td>...</td>\n",
       "      <td>...</td>\n",
       "      <td>...</td>\n",
       "      <td>...</td>\n",
       "    </tr>\n",
       "    <tr>\n",
       "      <th>681020</th>\n",
       "      <td>TRANSFER</td>\n",
       "      <td>46.81</td>\n",
       "      <td>INBOUND</td>\n",
       "      <td>user_1011</td>\n",
       "    </tr>\n",
       "    <tr>\n",
       "      <th>681022</th>\n",
       "      <td>TRANSFER</td>\n",
       "      <td>1.70</td>\n",
       "      <td>OUTBOUND</td>\n",
       "      <td>user_1011</td>\n",
       "    </tr>\n",
       "    <tr>\n",
       "      <th>681023</th>\n",
       "      <td>TRANSFER</td>\n",
       "      <td>4.26</td>\n",
       "      <td>OUTBOUND</td>\n",
       "      <td>user_3170</td>\n",
       "    </tr>\n",
       "    <tr>\n",
       "      <th>681024</th>\n",
       "      <td>TRANSFER</td>\n",
       "      <td>1.70</td>\n",
       "      <td>OUTBOUND</td>\n",
       "      <td>user_8195</td>\n",
       "    </tr>\n",
       "    <tr>\n",
       "      <th>681025</th>\n",
       "      <td>TRANSFER</td>\n",
       "      <td>4.26</td>\n",
       "      <td>OUTBOUND</td>\n",
       "      <td>user_10859</td>\n",
       "    </tr>\n",
       "  </tbody>\n",
       "</table>\n",
       "<p>1791585 rows × 4 columns</p>\n",
       "</div>"
      ],
      "text/plain": [
       "       transactions_type  amount_usd direction     user_id\n",
       "0               TRANSFER        4.55  OUTBOUND   user_4368\n",
       "1           CARD_PAYMENT       15.50  OUTBOUND   user_2355\n",
       "2           CARD_PAYMENT       43.40  OUTBOUND   user_2355\n",
       "3               TRANSFER    10043.01  OUTBOUND   user_2355\n",
       "4           CARD_PAYMENT       43.81  OUTBOUND  user_14318\n",
       "...                  ...         ...       ...         ...\n",
       "681020          TRANSFER       46.81   INBOUND   user_1011\n",
       "681022          TRANSFER        1.70  OUTBOUND   user_1011\n",
       "681023          TRANSFER        4.26  OUTBOUND   user_3170\n",
       "681024          TRANSFER        1.70  OUTBOUND   user_8195\n",
       "681025          TRANSFER        4.26  OUTBOUND  user_10859\n",
       "\n",
       "[1791585 rows x 4 columns]"
      ]
     },
     "execution_count": 56,
     "metadata": {},
     "output_type": "execute_result"
    }
   ],
   "source": [
    "completed_transactions_df"
   ]
  },
  {
   "cell_type": "code",
   "execution_count": 57,
   "metadata": {},
   "outputs": [],
   "source": [
    "transactions1_df = completed_transactions_df[['transactions_type','direction','user_id']]"
   ]
  },
  {
   "cell_type": "code",
   "execution_count": 58,
   "metadata": {},
   "outputs": [
    {
     "data": {
      "text/html": [
       "<div>\n",
       "<style scoped>\n",
       "    .dataframe tbody tr th:only-of-type {\n",
       "        vertical-align: middle;\n",
       "    }\n",
       "\n",
       "    .dataframe tbody tr th {\n",
       "        vertical-align: top;\n",
       "    }\n",
       "\n",
       "    .dataframe thead th {\n",
       "        text-align: right;\n",
       "    }\n",
       "</style>\n",
       "<table border=\"1\" class=\"dataframe\">\n",
       "  <thead>\n",
       "    <tr style=\"text-align: right;\">\n",
       "      <th></th>\n",
       "      <th>transactions_type</th>\n",
       "      <th>direction</th>\n",
       "      <th>user_id</th>\n",
       "    </tr>\n",
       "  </thead>\n",
       "  <tbody>\n",
       "    <tr>\n",
       "      <th>0</th>\n",
       "      <td>TRANSFER</td>\n",
       "      <td>OUTBOUND</td>\n",
       "      <td>user_4368</td>\n",
       "    </tr>\n",
       "    <tr>\n",
       "      <th>1</th>\n",
       "      <td>CARD_PAYMENT</td>\n",
       "      <td>OUTBOUND</td>\n",
       "      <td>user_2355</td>\n",
       "    </tr>\n",
       "    <tr>\n",
       "      <th>2</th>\n",
       "      <td>CARD_PAYMENT</td>\n",
       "      <td>OUTBOUND</td>\n",
       "      <td>user_2355</td>\n",
       "    </tr>\n",
       "    <tr>\n",
       "      <th>3</th>\n",
       "      <td>TRANSFER</td>\n",
       "      <td>OUTBOUND</td>\n",
       "      <td>user_2355</td>\n",
       "    </tr>\n",
       "    <tr>\n",
       "      <th>4</th>\n",
       "      <td>CARD_PAYMENT</td>\n",
       "      <td>OUTBOUND</td>\n",
       "      <td>user_14318</td>\n",
       "    </tr>\n",
       "    <tr>\n",
       "      <th>...</th>\n",
       "      <td>...</td>\n",
       "      <td>...</td>\n",
       "      <td>...</td>\n",
       "    </tr>\n",
       "    <tr>\n",
       "      <th>681020</th>\n",
       "      <td>TRANSFER</td>\n",
       "      <td>INBOUND</td>\n",
       "      <td>user_1011</td>\n",
       "    </tr>\n",
       "    <tr>\n",
       "      <th>681022</th>\n",
       "      <td>TRANSFER</td>\n",
       "      <td>OUTBOUND</td>\n",
       "      <td>user_1011</td>\n",
       "    </tr>\n",
       "    <tr>\n",
       "      <th>681023</th>\n",
       "      <td>TRANSFER</td>\n",
       "      <td>OUTBOUND</td>\n",
       "      <td>user_3170</td>\n",
       "    </tr>\n",
       "    <tr>\n",
       "      <th>681024</th>\n",
       "      <td>TRANSFER</td>\n",
       "      <td>OUTBOUND</td>\n",
       "      <td>user_8195</td>\n",
       "    </tr>\n",
       "    <tr>\n",
       "      <th>681025</th>\n",
       "      <td>TRANSFER</td>\n",
       "      <td>OUTBOUND</td>\n",
       "      <td>user_10859</td>\n",
       "    </tr>\n",
       "  </tbody>\n",
       "</table>\n",
       "<p>1791585 rows × 3 columns</p>\n",
       "</div>"
      ],
      "text/plain": [
       "       transactions_type direction     user_id\n",
       "0               TRANSFER  OUTBOUND   user_4368\n",
       "1           CARD_PAYMENT  OUTBOUND   user_2355\n",
       "2           CARD_PAYMENT  OUTBOUND   user_2355\n",
       "3               TRANSFER  OUTBOUND   user_2355\n",
       "4           CARD_PAYMENT  OUTBOUND  user_14318\n",
       "...                  ...       ...         ...\n",
       "681020          TRANSFER   INBOUND   user_1011\n",
       "681022          TRANSFER  OUTBOUND   user_1011\n",
       "681023          TRANSFER  OUTBOUND   user_3170\n",
       "681024          TRANSFER  OUTBOUND   user_8195\n",
       "681025          TRANSFER  OUTBOUND  user_10859\n",
       "\n",
       "[1791585 rows x 3 columns]"
      ]
     },
     "execution_count": 58,
     "metadata": {},
     "output_type": "execute_result"
    }
   ],
   "source": [
    "transactions1_df"
   ]
  },
  {
   "cell_type": "code",
   "execution_count": 59,
   "metadata": {},
   "outputs": [],
   "source": [
    "transactions1_df = pd.get_dummies(transactions1_df, columns=['transactions_type','direction'])\n",
    "transactions1_df = transactions1_df.groupby('user_id').sum()"
   ]
  },
  {
   "cell_type": "code",
   "execution_count": 60,
   "metadata": {},
   "outputs": [
    {
     "data": {
      "text/html": [
       "<div>\n",
       "<style scoped>\n",
       "    .dataframe tbody tr th:only-of-type {\n",
       "        vertical-align: middle;\n",
       "    }\n",
       "\n",
       "    .dataframe tbody tr th {\n",
       "        vertical-align: top;\n",
       "    }\n",
       "\n",
       "    .dataframe thead th {\n",
       "        text-align: right;\n",
       "    }\n",
       "</style>\n",
       "<table border=\"1\" class=\"dataframe\">\n",
       "  <thead>\n",
       "    <tr style=\"text-align: right;\">\n",
       "      <th></th>\n",
       "      <th>transactions_type_ATM</th>\n",
       "      <th>transactions_type_CARD_PAYMENT</th>\n",
       "      <th>transactions_type_CARD_REFUND</th>\n",
       "      <th>transactions_type_CASHBACK</th>\n",
       "      <th>transactions_type_FEE</th>\n",
       "      <th>transactions_type_REFUND</th>\n",
       "      <th>transactions_type_TAX</th>\n",
       "      <th>transactions_type_TOPUP</th>\n",
       "      <th>transactions_type_TRANSFER</th>\n",
       "      <th>direction_INBOUND</th>\n",
       "      <th>direction_OUTBOUND</th>\n",
       "    </tr>\n",
       "    <tr>\n",
       "      <th>user_id</th>\n",
       "      <th></th>\n",
       "      <th></th>\n",
       "      <th></th>\n",
       "      <th></th>\n",
       "      <th></th>\n",
       "      <th></th>\n",
       "      <th></th>\n",
       "      <th></th>\n",
       "      <th></th>\n",
       "      <th></th>\n",
       "      <th></th>\n",
       "    </tr>\n",
       "  </thead>\n",
       "  <tbody>\n",
       "    <tr>\n",
       "      <th>user_0</th>\n",
       "      <td>0.0</td>\n",
       "      <td>333.0</td>\n",
       "      <td>1.0</td>\n",
       "      <td>0.0</td>\n",
       "      <td>0.0</td>\n",
       "      <td>0.0</td>\n",
       "      <td>0.0</td>\n",
       "      <td>158.0</td>\n",
       "      <td>23.0</td>\n",
       "      <td>163.0</td>\n",
       "      <td>352.0</td>\n",
       "    </tr>\n",
       "    <tr>\n",
       "      <th>user_1</th>\n",
       "      <td>4.0</td>\n",
       "      <td>78.0</td>\n",
       "      <td>0.0</td>\n",
       "      <td>0.0</td>\n",
       "      <td>0.0</td>\n",
       "      <td>0.0</td>\n",
       "      <td>0.0</td>\n",
       "      <td>24.0</td>\n",
       "      <td>27.0</td>\n",
       "      <td>27.0</td>\n",
       "      <td>106.0</td>\n",
       "    </tr>\n",
       "    <tr>\n",
       "      <th>user_10</th>\n",
       "      <td>3.0</td>\n",
       "      <td>42.0</td>\n",
       "      <td>9.0</td>\n",
       "      <td>0.0</td>\n",
       "      <td>0.0</td>\n",
       "      <td>0.0</td>\n",
       "      <td>0.0</td>\n",
       "      <td>43.0</td>\n",
       "      <td>23.0</td>\n",
       "      <td>52.0</td>\n",
       "      <td>68.0</td>\n",
       "    </tr>\n",
       "    <tr>\n",
       "      <th>user_100</th>\n",
       "      <td>6.0</td>\n",
       "      <td>38.0</td>\n",
       "      <td>0.0</td>\n",
       "      <td>0.0</td>\n",
       "      <td>0.0</td>\n",
       "      <td>0.0</td>\n",
       "      <td>0.0</td>\n",
       "      <td>11.0</td>\n",
       "      <td>0.0</td>\n",
       "      <td>11.0</td>\n",
       "      <td>44.0</td>\n",
       "    </tr>\n",
       "    <tr>\n",
       "      <th>user_1000</th>\n",
       "      <td>1.0</td>\n",
       "      <td>16.0</td>\n",
       "      <td>0.0</td>\n",
       "      <td>16.0</td>\n",
       "      <td>2.0</td>\n",
       "      <td>0.0</td>\n",
       "      <td>0.0</td>\n",
       "      <td>7.0</td>\n",
       "      <td>1.0</td>\n",
       "      <td>23.0</td>\n",
       "      <td>20.0</td>\n",
       "    </tr>\n",
       "    <tr>\n",
       "      <th>...</th>\n",
       "      <td>...</td>\n",
       "      <td>...</td>\n",
       "      <td>...</td>\n",
       "      <td>...</td>\n",
       "      <td>...</td>\n",
       "      <td>...</td>\n",
       "      <td>...</td>\n",
       "      <td>...</td>\n",
       "      <td>...</td>\n",
       "      <td>...</td>\n",
       "      <td>...</td>\n",
       "    </tr>\n",
       "    <tr>\n",
       "      <th>user_9995</th>\n",
       "      <td>0.0</td>\n",
       "      <td>2.0</td>\n",
       "      <td>0.0</td>\n",
       "      <td>0.0</td>\n",
       "      <td>0.0</td>\n",
       "      <td>0.0</td>\n",
       "      <td>0.0</td>\n",
       "      <td>1.0</td>\n",
       "      <td>0.0</td>\n",
       "      <td>1.0</td>\n",
       "      <td>2.0</td>\n",
       "    </tr>\n",
       "    <tr>\n",
       "      <th>user_9996</th>\n",
       "      <td>1.0</td>\n",
       "      <td>20.0</td>\n",
       "      <td>0.0</td>\n",
       "      <td>0.0</td>\n",
       "      <td>1.0</td>\n",
       "      <td>0.0</td>\n",
       "      <td>0.0</td>\n",
       "      <td>4.0</td>\n",
       "      <td>0.0</td>\n",
       "      <td>4.0</td>\n",
       "      <td>22.0</td>\n",
       "    </tr>\n",
       "    <tr>\n",
       "      <th>user_9997</th>\n",
       "      <td>3.0</td>\n",
       "      <td>49.0</td>\n",
       "      <td>1.0</td>\n",
       "      <td>0.0</td>\n",
       "      <td>1.0</td>\n",
       "      <td>0.0</td>\n",
       "      <td>0.0</td>\n",
       "      <td>30.0</td>\n",
       "      <td>24.0</td>\n",
       "      <td>33.0</td>\n",
       "      <td>75.0</td>\n",
       "    </tr>\n",
       "    <tr>\n",
       "      <th>user_9998</th>\n",
       "      <td>1.0</td>\n",
       "      <td>9.0</td>\n",
       "      <td>0.0</td>\n",
       "      <td>0.0</td>\n",
       "      <td>0.0</td>\n",
       "      <td>0.0</td>\n",
       "      <td>0.0</td>\n",
       "      <td>9.0</td>\n",
       "      <td>4.0</td>\n",
       "      <td>10.0</td>\n",
       "      <td>13.0</td>\n",
       "    </tr>\n",
       "    <tr>\n",
       "      <th>user_9999</th>\n",
       "      <td>0.0</td>\n",
       "      <td>0.0</td>\n",
       "      <td>0.0</td>\n",
       "      <td>0.0</td>\n",
       "      <td>0.0</td>\n",
       "      <td>0.0</td>\n",
       "      <td>0.0</td>\n",
       "      <td>1.0</td>\n",
       "      <td>0.0</td>\n",
       "      <td>1.0</td>\n",
       "      <td>0.0</td>\n",
       "    </tr>\n",
       "  </tbody>\n",
       "</table>\n",
       "<p>14816 rows × 11 columns</p>\n",
       "</div>"
      ],
      "text/plain": [
       "           transactions_type_ATM  transactions_type_CARD_PAYMENT  \\\n",
       "user_id                                                            \n",
       "user_0                       0.0                           333.0   \n",
       "user_1                       4.0                            78.0   \n",
       "user_10                      3.0                            42.0   \n",
       "user_100                     6.0                            38.0   \n",
       "user_1000                    1.0                            16.0   \n",
       "...                          ...                             ...   \n",
       "user_9995                    0.0                             2.0   \n",
       "user_9996                    1.0                            20.0   \n",
       "user_9997                    3.0                            49.0   \n",
       "user_9998                    1.0                             9.0   \n",
       "user_9999                    0.0                             0.0   \n",
       "\n",
       "           transactions_type_CARD_REFUND  transactions_type_CASHBACK  \\\n",
       "user_id                                                                \n",
       "user_0                               1.0                         0.0   \n",
       "user_1                               0.0                         0.0   \n",
       "user_10                              9.0                         0.0   \n",
       "user_100                             0.0                         0.0   \n",
       "user_1000                            0.0                        16.0   \n",
       "...                                  ...                         ...   \n",
       "user_9995                            0.0                         0.0   \n",
       "user_9996                            0.0                         0.0   \n",
       "user_9997                            1.0                         0.0   \n",
       "user_9998                            0.0                         0.0   \n",
       "user_9999                            0.0                         0.0   \n",
       "\n",
       "           transactions_type_FEE  transactions_type_REFUND  \\\n",
       "user_id                                                      \n",
       "user_0                       0.0                       0.0   \n",
       "user_1                       0.0                       0.0   \n",
       "user_10                      0.0                       0.0   \n",
       "user_100                     0.0                       0.0   \n",
       "user_1000                    2.0                       0.0   \n",
       "...                          ...                       ...   \n",
       "user_9995                    0.0                       0.0   \n",
       "user_9996                    1.0                       0.0   \n",
       "user_9997                    1.0                       0.0   \n",
       "user_9998                    0.0                       0.0   \n",
       "user_9999                    0.0                       0.0   \n",
       "\n",
       "           transactions_type_TAX  transactions_type_TOPUP  \\\n",
       "user_id                                                     \n",
       "user_0                       0.0                    158.0   \n",
       "user_1                       0.0                     24.0   \n",
       "user_10                      0.0                     43.0   \n",
       "user_100                     0.0                     11.0   \n",
       "user_1000                    0.0                      7.0   \n",
       "...                          ...                      ...   \n",
       "user_9995                    0.0                      1.0   \n",
       "user_9996                    0.0                      4.0   \n",
       "user_9997                    0.0                     30.0   \n",
       "user_9998                    0.0                      9.0   \n",
       "user_9999                    0.0                      1.0   \n",
       "\n",
       "           transactions_type_TRANSFER  direction_INBOUND  direction_OUTBOUND  \n",
       "user_id                                                                       \n",
       "user_0                           23.0              163.0               352.0  \n",
       "user_1                           27.0               27.0               106.0  \n",
       "user_10                          23.0               52.0                68.0  \n",
       "user_100                          0.0               11.0                44.0  \n",
       "user_1000                         1.0               23.0                20.0  \n",
       "...                               ...                ...                 ...  \n",
       "user_9995                         0.0                1.0                 2.0  \n",
       "user_9996                         0.0                4.0                22.0  \n",
       "user_9997                        24.0               33.0                75.0  \n",
       "user_9998                         4.0               10.0                13.0  \n",
       "user_9999                         0.0                1.0                 0.0  \n",
       "\n",
       "[14816 rows x 11 columns]"
      ]
     },
     "execution_count": 60,
     "metadata": {},
     "output_type": "execute_result"
    }
   ],
   "source": [
    "transactions1_df"
   ]
  },
  {
   "cell_type": "code",
   "execution_count": 61,
   "metadata": {},
   "outputs": [
    {
     "data": {
      "text/plain": [
       "transactions_type_CARD_PAYMENT  direction_OUTBOUND                0.932972\n",
       "transactions_type_CASHBACK      direction_INBOUND                 0.827732\n",
       "transactions_type_TRANSFER      direction_OUTBOUND                0.816711\n",
       "transactions_type_TOPUP         direction_INBOUND                 0.698997\n",
       "                                direction_OUTBOUND                0.653952\n",
       "transactions_type_CARD_PAYMENT  transactions_type_TOPUP           0.646987\n",
       "direction_INBOUND               direction_OUTBOUND                0.644178\n",
       "transactions_type_CARD_PAYMENT  direction_INBOUND                 0.638528\n",
       "                                transactions_type_TRANSFER        0.563167\n",
       "transactions_type_ATM           direction_OUTBOUND                0.488737\n",
       "transactions_type_TRANSFER      direction_INBOUND                 0.473275\n",
       "transactions_type_TOPUP         transactions_type_TRANSFER        0.464321\n",
       "transactions_type_ATM           transactions_type_TOPUP           0.456835\n",
       "                                transactions_type_CARD_PAYMENT    0.455276\n",
       "                                direction_INBOUND                 0.401685\n",
       "transactions_type_CARD_PAYMENT  transactions_type_CASHBACK        0.374614\n",
       "transactions_type_CASHBACK      direction_OUTBOUND                0.370505\n",
       "transactions_type_CARD_PAYMENT  transactions_type_CARD_REFUND     0.320731\n",
       "transactions_type_CARD_REFUND   transactions_type_TOPUP           0.305238\n",
       "transactions_type_ATM           transactions_type_TRANSFER        0.298888\n",
       "transactions_type_CARD_REFUND   direction_OUTBOUND                0.297650\n",
       "transactions_type_REFUND        direction_INBOUND                 0.297164\n",
       "transactions_type_CARD_REFUND   direction_INBOUND                 0.296533\n",
       "transactions_type_CASHBACK      transactions_type_REFUND          0.296112\n",
       "transactions_type_FEE           direction_INBOUND                 0.251442\n",
       "transactions_type_CASHBACK      transactions_type_TRANSFER        0.247777\n",
       "transactions_type_FEE           direction_OUTBOUND                0.243621\n",
       "transactions_type_ATM           transactions_type_FEE             0.220774\n",
       "transactions_type_CASHBACK      transactions_type_TOPUP           0.216203\n",
       "transactions_type_FEE           transactions_type_TOPUP           0.210996\n",
       "transactions_type_ATM           transactions_type_CASHBACK        0.207336\n",
       "transactions_type_TAX           direction_OUTBOUND                0.200206\n",
       "transactions_type_CARD_PAYMENT  transactions_type_FEE             0.198233\n",
       "transactions_type_CASHBACK      transactions_type_FEE             0.189878\n",
       "transactions_type_FEE           transactions_type_TRANSFER        0.188540\n",
       "                                transactions_type_REFUND          0.176893\n",
       "transactions_type_CARD_REFUND   transactions_type_TRANSFER        0.176166\n",
       "transactions_type_REFUND        direction_OUTBOUND                0.176106\n",
       "transactions_type_TAX           transactions_type_TRANSFER        0.172796\n",
       "transactions_type_ATM           transactions_type_TAX             0.168034\n",
       "transactions_type_CARD_PAYMENT  transactions_type_TAX             0.166776\n",
       "                                transactions_type_REFUND          0.163651\n",
       "transactions_type_ATM           transactions_type_CARD_REFUND     0.156263\n",
       "transactions_type_TAX           transactions_type_TOPUP           0.145389\n",
       "transactions_type_REFUND        transactions_type_TOPUP           0.144453\n",
       "transactions_type_ATM           transactions_type_REFUND          0.137593\n",
       "transactions_type_REFUND        transactions_type_TRANSFER        0.131871\n",
       "transactions_type_CARD_REFUND   transactions_type_CASHBACK        0.120355\n",
       "transactions_type_TAX           direction_INBOUND                 0.107442\n",
       "transactions_type_CARD_REFUND   transactions_type_REFUND          0.090428\n",
       "                                transactions_type_FEE             0.072953\n",
       "                                transactions_type_TAX             0.041727\n",
       "transactions_type_CASHBACK      transactions_type_TAX             0.025762\n",
       "transactions_type_FEE           transactions_type_TAX             0.011788\n",
       "transactions_type_REFUND        transactions_type_TAX             0.002030\n",
       "dtype: float64"
      ]
     },
     "execution_count": 61,
     "metadata": {},
     "output_type": "execute_result"
    }
   ],
   "source": [
    "import numpy as np\n",
    "corr_abs = transactions1_df.corr().abs()\n",
    "\n",
    "sol = (corr_abs.where(np.triu(np.ones(corr_abs.shape), k=1).astype(np.bool))\n",
    "                 .stack()\n",
    "                 .sort_values(ascending=False))\n",
    "sol"
   ]
  },
  {
   "cell_type": "markdown",
   "metadata": {},
   "source": [
    "## Create the final dataframe"
   ]
  },
  {
   "cell_type": "code",
   "execution_count": 62,
   "metadata": {},
   "outputs": [],
   "source": [
    "#merge total amount usd on users1_df\n",
    "users2_df = pd.merge(users1_df, transactions_tot['usd_tot'], on='user_id')"
   ]
  },
  {
   "cell_type": "code",
   "execution_count": 63,
   "metadata": {},
   "outputs": [],
   "source": [
    "users2_df = pd.merge(users2_df, num_transactions, on='user_id')\n"
   ]
  },
  {
   "cell_type": "code",
   "execution_count": 64,
   "metadata": {},
   "outputs": [
    {
     "data": {
      "text/html": [
       "<div>\n",
       "<style scoped>\n",
       "    .dataframe tbody tr th:only-of-type {\n",
       "        vertical-align: middle;\n",
       "    }\n",
       "\n",
       "    .dataframe tbody tr th {\n",
       "        vertical-align: top;\n",
       "    }\n",
       "\n",
       "    .dataframe thead th {\n",
       "        text-align: right;\n",
       "    }\n",
       "</style>\n",
       "<table border=\"1\" class=\"dataframe\">\n",
       "  <thead>\n",
       "    <tr style=\"text-align: right;\">\n",
       "      <th></th>\n",
       "      <th>user_id</th>\n",
       "      <th>country</th>\n",
       "      <th>user_settings_crypto_unlocked</th>\n",
       "      <th>plan</th>\n",
       "      <th>attributes_notifications_marketing_push</th>\n",
       "      <th>attributes_notifications_marketing_email</th>\n",
       "      <th>num_contacts</th>\n",
       "      <th>brand</th>\n",
       "      <th>age</th>\n",
       "      <th>usd_tot</th>\n",
       "      <th>num_transactions</th>\n",
       "    </tr>\n",
       "  </thead>\n",
       "  <tbody>\n",
       "    <tr>\n",
       "      <th>0</th>\n",
       "      <td>user_0</td>\n",
       "      <td>ES</td>\n",
       "      <td>0</td>\n",
       "      <td>STANDARD</td>\n",
       "      <td>1.0</td>\n",
       "      <td>1.0</td>\n",
       "      <td>3</td>\n",
       "      <td>Apple</td>\n",
       "      <td>28</td>\n",
       "      <td>6728.88</td>\n",
       "      <td>515</td>\n",
       "    </tr>\n",
       "    <tr>\n",
       "      <th>1</th>\n",
       "      <td>user_1</td>\n",
       "      <td>LT</td>\n",
       "      <td>1</td>\n",
       "      <td>STANDARD</td>\n",
       "      <td>NaN</td>\n",
       "      <td>NaN</td>\n",
       "      <td>75</td>\n",
       "      <td>Apple</td>\n",
       "      <td>35</td>\n",
       "      <td>12955.54</td>\n",
       "      <td>133</td>\n",
       "    </tr>\n",
       "    <tr>\n",
       "      <th>2</th>\n",
       "      <td>user_2</td>\n",
       "      <td>IE</td>\n",
       "      <td>0</td>\n",
       "      <td>STANDARD</td>\n",
       "      <td>NaN</td>\n",
       "      <td>NaN</td>\n",
       "      <td>71</td>\n",
       "      <td>Apple</td>\n",
       "      <td>24</td>\n",
       "      <td>2723.90</td>\n",
       "      <td>268</td>\n",
       "    </tr>\n",
       "    <tr>\n",
       "      <th>3</th>\n",
       "      <td>user_3</td>\n",
       "      <td>IE</td>\n",
       "      <td>0</td>\n",
       "      <td>STANDARD</td>\n",
       "      <td>NaN</td>\n",
       "      <td>NaN</td>\n",
       "      <td>219</td>\n",
       "      <td>Apple</td>\n",
       "      <td>39</td>\n",
       "      <td>6999.29</td>\n",
       "      <td>140</td>\n",
       "    </tr>\n",
       "    <tr>\n",
       "      <th>4</th>\n",
       "      <td>user_4</td>\n",
       "      <td>GB</td>\n",
       "      <td>0</td>\n",
       "      <td>STANDARD</td>\n",
       "      <td>NaN</td>\n",
       "      <td>NaN</td>\n",
       "      <td>0</td>\n",
       "      <td>Apple</td>\n",
       "      <td>28</td>\n",
       "      <td>788.27</td>\n",
       "      <td>46</td>\n",
       "    </tr>\n",
       "    <tr>\n",
       "      <th>...</th>\n",
       "      <td>...</td>\n",
       "      <td>...</td>\n",
       "      <td>...</td>\n",
       "      <td>...</td>\n",
       "      <td>...</td>\n",
       "      <td>...</td>\n",
       "      <td>...</td>\n",
       "      <td>...</td>\n",
       "      <td>...</td>\n",
       "      <td>...</td>\n",
       "      <td>...</td>\n",
       "    </tr>\n",
       "    <tr>\n",
       "      <th>14809</th>\n",
       "      <td>user_15539</td>\n",
       "      <td>PL</td>\n",
       "      <td>0</td>\n",
       "      <td>STANDARD</td>\n",
       "      <td>1.0</td>\n",
       "      <td>1.0</td>\n",
       "      <td>0</td>\n",
       "      <td>Android</td>\n",
       "      <td>23</td>\n",
       "      <td>3349.90</td>\n",
       "      <td>78</td>\n",
       "    </tr>\n",
       "    <tr>\n",
       "      <th>14810</th>\n",
       "      <td>user_15540</td>\n",
       "      <td>PL</td>\n",
       "      <td>0</td>\n",
       "      <td>STANDARD</td>\n",
       "      <td>NaN</td>\n",
       "      <td>NaN</td>\n",
       "      <td>0</td>\n",
       "      <td>Apple</td>\n",
       "      <td>35</td>\n",
       "      <td>96.28</td>\n",
       "      <td>10</td>\n",
       "    </tr>\n",
       "    <tr>\n",
       "      <th>14811</th>\n",
       "      <td>user_15541</td>\n",
       "      <td>GB</td>\n",
       "      <td>0</td>\n",
       "      <td>STANDARD</td>\n",
       "      <td>1.0</td>\n",
       "      <td>1.0</td>\n",
       "      <td>16</td>\n",
       "      <td>Android</td>\n",
       "      <td>42</td>\n",
       "      <td>17595.83</td>\n",
       "      <td>1057</td>\n",
       "    </tr>\n",
       "    <tr>\n",
       "      <th>14812</th>\n",
       "      <td>user_15542</td>\n",
       "      <td>IE</td>\n",
       "      <td>0</td>\n",
       "      <td>GOLD</td>\n",
       "      <td>1.0</td>\n",
       "      <td>1.0</td>\n",
       "      <td>44</td>\n",
       "      <td>Apple</td>\n",
       "      <td>43</td>\n",
       "      <td>408.72</td>\n",
       "      <td>23</td>\n",
       "    </tr>\n",
       "    <tr>\n",
       "      <th>14813</th>\n",
       "      <td>user_15543</td>\n",
       "      <td>GB</td>\n",
       "      <td>1</td>\n",
       "      <td>STANDARD</td>\n",
       "      <td>1.0</td>\n",
       "      <td>1.0</td>\n",
       "      <td>8</td>\n",
       "      <td>Android</td>\n",
       "      <td>26</td>\n",
       "      <td>2653.80</td>\n",
       "      <td>437</td>\n",
       "    </tr>\n",
       "  </tbody>\n",
       "</table>\n",
       "<p>14814 rows × 11 columns</p>\n",
       "</div>"
      ],
      "text/plain": [
       "          user_id country  user_settings_crypto_unlocked      plan  \\\n",
       "0          user_0      ES                              0  STANDARD   \n",
       "1          user_1      LT                              1  STANDARD   \n",
       "2          user_2      IE                              0  STANDARD   \n",
       "3          user_3      IE                              0  STANDARD   \n",
       "4          user_4      GB                              0  STANDARD   \n",
       "...           ...     ...                            ...       ...   \n",
       "14809  user_15539      PL                              0  STANDARD   \n",
       "14810  user_15540      PL                              0  STANDARD   \n",
       "14811  user_15541      GB                              0  STANDARD   \n",
       "14812  user_15542      IE                              0      GOLD   \n",
       "14813  user_15543      GB                              1  STANDARD   \n",
       "\n",
       "       attributes_notifications_marketing_push  \\\n",
       "0                                          1.0   \n",
       "1                                          NaN   \n",
       "2                                          NaN   \n",
       "3                                          NaN   \n",
       "4                                          NaN   \n",
       "...                                        ...   \n",
       "14809                                      1.0   \n",
       "14810                                      NaN   \n",
       "14811                                      1.0   \n",
       "14812                                      1.0   \n",
       "14813                                      1.0   \n",
       "\n",
       "       attributes_notifications_marketing_email  num_contacts    brand  age  \\\n",
       "0                                           1.0             3    Apple   28   \n",
       "1                                           NaN            75    Apple   35   \n",
       "2                                           NaN            71    Apple   24   \n",
       "3                                           NaN           219    Apple   39   \n",
       "4                                           NaN             0    Apple   28   \n",
       "...                                         ...           ...      ...  ...   \n",
       "14809                                       1.0             0  Android   23   \n",
       "14810                                       NaN             0    Apple   35   \n",
       "14811                                       1.0            16  Android   42   \n",
       "14812                                       1.0            44    Apple   43   \n",
       "14813                                       1.0             8  Android   26   \n",
       "\n",
       "        usd_tot  num_transactions  \n",
       "0       6728.88               515  \n",
       "1      12955.54               133  \n",
       "2       2723.90               268  \n",
       "3       6999.29               140  \n",
       "4        788.27                46  \n",
       "...         ...               ...  \n",
       "14809   3349.90                78  \n",
       "14810     96.28                10  \n",
       "14811  17595.83              1057  \n",
       "14812    408.72                23  \n",
       "14813   2653.80               437  \n",
       "\n",
       "[14814 rows x 11 columns]"
      ]
     },
     "execution_count": 64,
     "metadata": {},
     "output_type": "execute_result"
    }
   ],
   "source": [
    "users2_df "
   ]
  },
  {
   "cell_type": "code",
   "execution_count": 65,
   "metadata": {},
   "outputs": [],
   "source": [
    "country_df = users2_df.groupby('country').usd_tot.sum()\n",
    "country_df = pd.merge(country_df , users2_df.groupby('country').user_id.count().reset_index(), on='country')"
   ]
  },
  {
   "cell_type": "code",
   "execution_count": 66,
   "metadata": {},
   "outputs": [
    {
     "data": {
      "text/html": [
       "<div>\n",
       "<style scoped>\n",
       "    .dataframe tbody tr th:only-of-type {\n",
       "        vertical-align: middle;\n",
       "    }\n",
       "\n",
       "    .dataframe tbody tr th {\n",
       "        vertical-align: top;\n",
       "    }\n",
       "\n",
       "    .dataframe thead th {\n",
       "        text-align: right;\n",
       "    }\n",
       "</style>\n",
       "<table border=\"1\" class=\"dataframe\">\n",
       "  <thead>\n",
       "    <tr style=\"text-align: right;\">\n",
       "      <th></th>\n",
       "      <th>country</th>\n",
       "      <th>usd_tot</th>\n",
       "      <th>tot_users</th>\n",
       "    </tr>\n",
       "  </thead>\n",
       "  <tbody>\n",
       "    <tr>\n",
       "      <th>0</th>\n",
       "      <td>AT</td>\n",
       "      <td>314652.35</td>\n",
       "      <td>64</td>\n",
       "    </tr>\n",
       "    <tr>\n",
       "      <th>1</th>\n",
       "      <td>AU</td>\n",
       "      <td>66.61</td>\n",
       "      <td>3</td>\n",
       "    </tr>\n",
       "    <tr>\n",
       "      <th>2</th>\n",
       "      <td>BE</td>\n",
       "      <td>408137.28</td>\n",
       "      <td>99</td>\n",
       "    </tr>\n",
       "    <tr>\n",
       "      <th>3</th>\n",
       "      <td>BG</td>\n",
       "      <td>188139.47</td>\n",
       "      <td>67</td>\n",
       "    </tr>\n",
       "    <tr>\n",
       "      <th>4</th>\n",
       "      <td>CH</td>\n",
       "      <td>3694553.28</td>\n",
       "      <td>336</td>\n",
       "    </tr>\n",
       "    <tr>\n",
       "      <th>5</th>\n",
       "      <td>CY</td>\n",
       "      <td>1013843.83</td>\n",
       "      <td>141</td>\n",
       "    </tr>\n",
       "    <tr>\n",
       "      <th>6</th>\n",
       "      <td>CZ</td>\n",
       "      <td>1292294.76</td>\n",
       "      <td>273</td>\n",
       "    </tr>\n",
       "    <tr>\n",
       "      <th>7</th>\n",
       "      <td>DE</td>\n",
       "      <td>2729213.74</td>\n",
       "      <td>324</td>\n",
       "    </tr>\n",
       "    <tr>\n",
       "      <th>8</th>\n",
       "      <td>DK</td>\n",
       "      <td>499452.41</td>\n",
       "      <td>72</td>\n",
       "    </tr>\n",
       "    <tr>\n",
       "      <th>9</th>\n",
       "      <td>EE</td>\n",
       "      <td>100481.11</td>\n",
       "      <td>26</td>\n",
       "    </tr>\n",
       "    <tr>\n",
       "      <th>10</th>\n",
       "      <td>ES</td>\n",
       "      <td>4158947.39</td>\n",
       "      <td>757</td>\n",
       "    </tr>\n",
       "    <tr>\n",
       "      <th>11</th>\n",
       "      <td>FI</td>\n",
       "      <td>156184.61</td>\n",
       "      <td>32</td>\n",
       "    </tr>\n",
       "    <tr>\n",
       "      <th>12</th>\n",
       "      <td>FR</td>\n",
       "      <td>11156456.90</td>\n",
       "      <td>1604</td>\n",
       "    </tr>\n",
       "    <tr>\n",
       "      <th>13</th>\n",
       "      <td>GB</td>\n",
       "      <td>39148552.09</td>\n",
       "      <td>4831</td>\n",
       "    </tr>\n",
       "    <tr>\n",
       "      <th>14</th>\n",
       "      <td>GG</td>\n",
       "      <td>52442.68</td>\n",
       "      <td>14</td>\n",
       "    </tr>\n",
       "    <tr>\n",
       "      <th>15</th>\n",
       "      <td>GI</td>\n",
       "      <td>266252.98</td>\n",
       "      <td>34</td>\n",
       "    </tr>\n",
       "    <tr>\n",
       "      <th>16</th>\n",
       "      <td>GP</td>\n",
       "      <td>40724.13</td>\n",
       "      <td>9</td>\n",
       "    </tr>\n",
       "    <tr>\n",
       "      <th>17</th>\n",
       "      <td>GR</td>\n",
       "      <td>556269.91</td>\n",
       "      <td>145</td>\n",
       "    </tr>\n",
       "    <tr>\n",
       "      <th>18</th>\n",
       "      <td>HR</td>\n",
       "      <td>105010.30</td>\n",
       "      <td>43</td>\n",
       "    </tr>\n",
       "    <tr>\n",
       "      <th>19</th>\n",
       "      <td>HU</td>\n",
       "      <td>365622.15</td>\n",
       "      <td>115</td>\n",
       "    </tr>\n",
       "    <tr>\n",
       "      <th>20</th>\n",
       "      <td>IE</td>\n",
       "      <td>6793765.50</td>\n",
       "      <td>974</td>\n",
       "    </tr>\n",
       "    <tr>\n",
       "      <th>21</th>\n",
       "      <td>IM</td>\n",
       "      <td>24892.81</td>\n",
       "      <td>7</td>\n",
       "    </tr>\n",
       "    <tr>\n",
       "      <th>22</th>\n",
       "      <td>IS</td>\n",
       "      <td>10588.35</td>\n",
       "      <td>5</td>\n",
       "    </tr>\n",
       "    <tr>\n",
       "      <th>23</th>\n",
       "      <td>IT</td>\n",
       "      <td>1605126.85</td>\n",
       "      <td>226</td>\n",
       "    </tr>\n",
       "    <tr>\n",
       "      <th>24</th>\n",
       "      <td>JE</td>\n",
       "      <td>277242.20</td>\n",
       "      <td>44</td>\n",
       "    </tr>\n",
       "    <tr>\n",
       "      <th>25</th>\n",
       "      <td>LI</td>\n",
       "      <td>8836.44</td>\n",
       "      <td>4</td>\n",
       "    </tr>\n",
       "    <tr>\n",
       "      <th>26</th>\n",
       "      <td>LT</td>\n",
       "      <td>1732116.71</td>\n",
       "      <td>491</td>\n",
       "    </tr>\n",
       "    <tr>\n",
       "      <th>27</th>\n",
       "      <td>LU</td>\n",
       "      <td>235226.09</td>\n",
       "      <td>20</td>\n",
       "    </tr>\n",
       "    <tr>\n",
       "      <th>28</th>\n",
       "      <td>LV</td>\n",
       "      <td>526383.07</td>\n",
       "      <td>121</td>\n",
       "    </tr>\n",
       "    <tr>\n",
       "      <th>29</th>\n",
       "      <td>MQ</td>\n",
       "      <td>18173.66</td>\n",
       "      <td>3</td>\n",
       "    </tr>\n",
       "    <tr>\n",
       "      <th>30</th>\n",
       "      <td>MT</td>\n",
       "      <td>2991430.39</td>\n",
       "      <td>430</td>\n",
       "    </tr>\n",
       "    <tr>\n",
       "      <th>31</th>\n",
       "      <td>NL</td>\n",
       "      <td>1299995.34</td>\n",
       "      <td>120</td>\n",
       "    </tr>\n",
       "    <tr>\n",
       "      <th>32</th>\n",
       "      <td>NO</td>\n",
       "      <td>506857.25</td>\n",
       "      <td>71</td>\n",
       "    </tr>\n",
       "    <tr>\n",
       "      <th>33</th>\n",
       "      <td>PL</td>\n",
       "      <td>6797345.90</td>\n",
       "      <td>1790</td>\n",
       "    </tr>\n",
       "    <tr>\n",
       "      <th>34</th>\n",
       "      <td>PT</td>\n",
       "      <td>1788975.81</td>\n",
       "      <td>460</td>\n",
       "    </tr>\n",
       "    <tr>\n",
       "      <th>35</th>\n",
       "      <td>RE</td>\n",
       "      <td>58796.46</td>\n",
       "      <td>7</td>\n",
       "    </tr>\n",
       "    <tr>\n",
       "      <th>36</th>\n",
       "      <td>RO</td>\n",
       "      <td>5396299.52</td>\n",
       "      <td>824</td>\n",
       "    </tr>\n",
       "    <tr>\n",
       "      <th>37</th>\n",
       "      <td>SE</td>\n",
       "      <td>655374.40</td>\n",
       "      <td>97</td>\n",
       "    </tr>\n",
       "    <tr>\n",
       "      <th>38</th>\n",
       "      <td>SI</td>\n",
       "      <td>212139.42</td>\n",
       "      <td>69</td>\n",
       "    </tr>\n",
       "    <tr>\n",
       "      <th>39</th>\n",
       "      <td>SK</td>\n",
       "      <td>429299.45</td>\n",
       "      <td>62</td>\n",
       "    </tr>\n",
       "  </tbody>\n",
       "</table>\n",
       "</div>"
      ],
      "text/plain": [
       "   country      usd_tot  tot_users\n",
       "0       AT    314652.35         64\n",
       "1       AU        66.61          3\n",
       "2       BE    408137.28         99\n",
       "3       BG    188139.47         67\n",
       "4       CH   3694553.28        336\n",
       "5       CY   1013843.83        141\n",
       "6       CZ   1292294.76        273\n",
       "7       DE   2729213.74        324\n",
       "8       DK    499452.41         72\n",
       "9       EE    100481.11         26\n",
       "10      ES   4158947.39        757\n",
       "11      FI    156184.61         32\n",
       "12      FR  11156456.90       1604\n",
       "13      GB  39148552.09       4831\n",
       "14      GG     52442.68         14\n",
       "15      GI    266252.98         34\n",
       "16      GP     40724.13          9\n",
       "17      GR    556269.91        145\n",
       "18      HR    105010.30         43\n",
       "19      HU    365622.15        115\n",
       "20      IE   6793765.50        974\n",
       "21      IM     24892.81          7\n",
       "22      IS     10588.35          5\n",
       "23      IT   1605126.85        226\n",
       "24      JE    277242.20         44\n",
       "25      LI      8836.44          4\n",
       "26      LT   1732116.71        491\n",
       "27      LU    235226.09         20\n",
       "28      LV    526383.07        121\n",
       "29      MQ     18173.66          3\n",
       "30      MT   2991430.39        430\n",
       "31      NL   1299995.34        120\n",
       "32      NO    506857.25         71\n",
       "33      PL   6797345.90       1790\n",
       "34      PT   1788975.81        460\n",
       "35      RE     58796.46          7\n",
       "36      RO   5396299.52        824\n",
       "37      SE    655374.40         97\n",
       "38      SI    212139.42         69\n",
       "39      SK    429299.45         62"
      ]
     },
     "execution_count": 66,
     "metadata": {},
     "output_type": "execute_result"
    }
   ],
   "source": [
    "country_df.rename({'user_id': 'tot_users'}, axis=1, inplace=True)\n",
    "country_df"
   ]
  },
  {
   "cell_type": "code",
   "execution_count": 67,
   "metadata": {},
   "outputs": [
    {
     "data": {
      "text/plain": [
       "usd_tot  tot_users    0.98059\n",
       "dtype: float64"
      ]
     },
     "execution_count": 67,
     "metadata": {},
     "output_type": "execute_result"
    }
   ],
   "source": [
    "import numpy as np\n",
    "corr_abs = country_df.corr().abs()\n",
    "\n",
    "sol = (corr_abs.where(np.triu(np.ones(corr_abs.shape), k=1).astype(np.bool))\n",
    "                 .stack()\n",
    "                 .sort_values(ascending=False))\n",
    "sol"
   ]
  },
  {
   "cell_type": "code",
   "execution_count": 68,
   "metadata": {},
   "outputs": [],
   "source": [
    "users2_df.drop(['country'],axis=1, inplace=True)"
   ]
  },
  {
   "cell_type": "code",
   "execution_count": 69,
   "metadata": {},
   "outputs": [
    {
     "data": {
      "text/plain": [
       "Android    7404\n",
       "Apple      7378\n",
       "Unknown      32\n",
       "Name: brand, dtype: int64"
      ]
     },
     "execution_count": 69,
     "metadata": {},
     "output_type": "execute_result"
    }
   ],
   "source": [
    "users2_df.brand.value_counts()"
   ]
  },
  {
   "cell_type": "code",
   "execution_count": 70,
   "metadata": {},
   "outputs": [],
   "source": [
    "#remove Unknown brand rows\n",
    "users2_df = users2_df[users2_df['brand']!='Unknown']"
   ]
  },
  {
   "cell_type": "code",
   "execution_count": 71,
   "metadata": {},
   "outputs": [
    {
     "data": {
      "text/html": [
       "<table style=\"display:inline\" border=\"1\" class=\"dataframe\">\n",
       "  <thead>\n",
       "    <tr style=\"text-align: right;\">\n",
       "      <th>attributes_notifications_marketing_push</th>\n",
       "      <th>0.0</th>\n",
       "      <th>1.0</th>\n",
       "    </tr>\n",
       "    <tr>\n",
       "      <th>plan</th>\n",
       "      <th></th>\n",
       "      <th></th>\n",
       "    </tr>\n",
       "  </thead>\n",
       "  <tbody>\n",
       "    <tr>\n",
       "      <th>GOLD</th>\n",
       "      <td>14</td>\n",
       "      <td>360</td>\n",
       "    </tr>\n",
       "    <tr>\n",
       "      <th>SILVER</th>\n",
       "      <td>32</td>\n",
       "      <td>417</td>\n",
       "    </tr>\n",
       "    <tr>\n",
       "      <th>STANDARD</th>\n",
       "      <td>476</td>\n",
       "      <td>8297</td>\n",
       "    </tr>\n",
       "  </tbody>\n",
       "</table style=\"display:inline\"><table style=\"display:inline\" border=\"1\" class=\"dataframe\">\n",
       "  <thead>\n",
       "    <tr style=\"text-align: right;\">\n",
       "      <th>attributes_notifications_marketing_email</th>\n",
       "      <th>0.0</th>\n",
       "      <th>1.0</th>\n",
       "    </tr>\n",
       "    <tr>\n",
       "      <th>plan</th>\n",
       "      <th></th>\n",
       "      <th></th>\n",
       "    </tr>\n",
       "  </thead>\n",
       "  <tbody>\n",
       "    <tr>\n",
       "      <th>GOLD</th>\n",
       "      <td>21</td>\n",
       "      <td>353</td>\n",
       "    </tr>\n",
       "    <tr>\n",
       "      <th>SILVER</th>\n",
       "      <td>50</td>\n",
       "      <td>399</td>\n",
       "    </tr>\n",
       "    <tr>\n",
       "      <th>STANDARD</th>\n",
       "      <td>938</td>\n",
       "      <td>7835</td>\n",
       "    </tr>\n",
       "  </tbody>\n",
       "</table style=\"display:inline\">"
      ]
     },
     "metadata": {},
     "output_type": "display_data"
    }
   ],
   "source": [
    "#users plan split depending on attributes_notifications\n",
    "from IPython.display import display_html\n",
    "def display_side_by_side(*args):\n",
    "    html_str=''\n",
    "    for df in args:\n",
    "        html_str+=df.to_html()\n",
    "    display_html(html_str.replace('table','table style=\"display:inline\"'),raw=True)\n",
    "\n",
    "df1 = pd.crosstab(index=users2_df['plan'], columns=users2_df['attributes_notifications_marketing_push'])\n",
    "df2 = pd.crosstab(index=users2_df['plan'], columns=users2_df['attributes_notifications_marketing_email'])\n",
    "\n",
    "display_side_by_side(df1,df2)"
   ]
  },
  {
   "cell_type": "code",
   "execution_count": 72,
   "metadata": {},
   "outputs": [
    {
     "data": {
      "text/plain": [
       "user_id                                        0\n",
       "user_settings_crypto_unlocked                  0\n",
       "plan                                           0\n",
       "attributes_notifications_marketing_push     5186\n",
       "attributes_notifications_marketing_email    5186\n",
       "num_contacts                                   0\n",
       "brand                                          0\n",
       "age                                            0\n",
       "usd_tot                                        0\n",
       "num_transactions                               0\n",
       "dtype: int64"
      ]
     },
     "execution_count": 72,
     "metadata": {},
     "output_type": "execute_result"
    }
   ],
   "source": [
    "users2_df.isnull().sum()"
   ]
  },
  {
   "cell_type": "code",
   "execution_count": 73,
   "metadata": {},
   "outputs": [
    {
     "name": "stderr",
     "output_type": "stream",
     "text": [
      "c:\\users\\evrip\\appdata\\local\\programs\\python\\python37\\lib\\site-packages\\pandas\\core\\frame.py:4153: SettingWithCopyWarning: \n",
      "A value is trying to be set on a copy of a slice from a DataFrame\n",
      "\n",
      "See the caveats in the documentation: https://pandas.pydata.org/pandas-docs/stable/user_guide/indexing.html#returning-a-view-versus-a-copy\n",
      "  downcast=downcast,\n"
     ]
    }
   ],
   "source": [
    "users2_df.fillna(1, inplace = True)"
   ]
  },
  {
   "cell_type": "code",
   "execution_count": 74,
   "metadata": {},
   "outputs": [],
   "source": [
    "#plan enc\n",
    "def plan_enc(x):\n",
    "    if x == 'STANDARD':\n",
    "        return 0\n",
    "    elif x == 'SILVER':\n",
    "        return 1\n",
    "    else:\n",
    "        return 1"
   ]
  },
  {
   "cell_type": "code",
   "execution_count": 75,
   "metadata": {},
   "outputs": [
    {
     "name": "stderr",
     "output_type": "stream",
     "text": [
      "c:\\users\\evrip\\appdata\\local\\programs\\python\\python37\\lib\\site-packages\\ipykernel_launcher.py:1: SettingWithCopyWarning: \n",
      "A value is trying to be set on a copy of a slice from a DataFrame.\n",
      "Try using .loc[row_indexer,col_indexer] = value instead\n",
      "\n",
      "See the caveats in the documentation: https://pandas.pydata.org/pandas-docs/stable/user_guide/indexing.html#returning-a-view-versus-a-copy\n",
      "  \"\"\"Entry point for launching an IPython kernel.\n"
     ]
    }
   ],
   "source": [
    "users2_df['plan'] = users2_df['plan'].apply(plan_enc)"
   ]
  },
  {
   "cell_type": "code",
   "execution_count": 76,
   "metadata": {},
   "outputs": [],
   "source": [
    "#devices one hot\n",
    "users2_df = pd.concat([users2_df,pd.get_dummies(users2_df['brand'], prefix='brand')],axis=1)\n",
    "users2_df.drop(['brand'],axis=1, inplace=True)"
   ]
  },
  {
   "cell_type": "code",
   "execution_count": 77,
   "metadata": {},
   "outputs": [
    {
     "data": {
      "text/html": [
       "<div>\n",
       "<style scoped>\n",
       "    .dataframe tbody tr th:only-of-type {\n",
       "        vertical-align: middle;\n",
       "    }\n",
       "\n",
       "    .dataframe tbody tr th {\n",
       "        vertical-align: top;\n",
       "    }\n",
       "\n",
       "    .dataframe thead th {\n",
       "        text-align: right;\n",
       "    }\n",
       "</style>\n",
       "<table border=\"1\" class=\"dataframe\">\n",
       "  <thead>\n",
       "    <tr style=\"text-align: right;\">\n",
       "      <th></th>\n",
       "      <th>user_id</th>\n",
       "      <th>user_settings_crypto_unlocked</th>\n",
       "      <th>plan</th>\n",
       "      <th>attributes_notifications_marketing_push</th>\n",
       "      <th>attributes_notifications_marketing_email</th>\n",
       "      <th>num_contacts</th>\n",
       "      <th>age</th>\n",
       "      <th>usd_tot</th>\n",
       "      <th>num_transactions</th>\n",
       "      <th>brand_Android</th>\n",
       "      <th>brand_Apple</th>\n",
       "    </tr>\n",
       "  </thead>\n",
       "  <tbody>\n",
       "    <tr>\n",
       "      <th>0</th>\n",
       "      <td>user_0</td>\n",
       "      <td>0</td>\n",
       "      <td>0</td>\n",
       "      <td>1.0</td>\n",
       "      <td>1.0</td>\n",
       "      <td>3</td>\n",
       "      <td>28</td>\n",
       "      <td>6728.88</td>\n",
       "      <td>515</td>\n",
       "      <td>0</td>\n",
       "      <td>1</td>\n",
       "    </tr>\n",
       "    <tr>\n",
       "      <th>1</th>\n",
       "      <td>user_1</td>\n",
       "      <td>1</td>\n",
       "      <td>0</td>\n",
       "      <td>1.0</td>\n",
       "      <td>1.0</td>\n",
       "      <td>75</td>\n",
       "      <td>35</td>\n",
       "      <td>12955.54</td>\n",
       "      <td>133</td>\n",
       "      <td>0</td>\n",
       "      <td>1</td>\n",
       "    </tr>\n",
       "    <tr>\n",
       "      <th>2</th>\n",
       "      <td>user_2</td>\n",
       "      <td>0</td>\n",
       "      <td>0</td>\n",
       "      <td>1.0</td>\n",
       "      <td>1.0</td>\n",
       "      <td>71</td>\n",
       "      <td>24</td>\n",
       "      <td>2723.90</td>\n",
       "      <td>268</td>\n",
       "      <td>0</td>\n",
       "      <td>1</td>\n",
       "    </tr>\n",
       "    <tr>\n",
       "      <th>3</th>\n",
       "      <td>user_3</td>\n",
       "      <td>0</td>\n",
       "      <td>0</td>\n",
       "      <td>1.0</td>\n",
       "      <td>1.0</td>\n",
       "      <td>219</td>\n",
       "      <td>39</td>\n",
       "      <td>6999.29</td>\n",
       "      <td>140</td>\n",
       "      <td>0</td>\n",
       "      <td>1</td>\n",
       "    </tr>\n",
       "    <tr>\n",
       "      <th>4</th>\n",
       "      <td>user_4</td>\n",
       "      <td>0</td>\n",
       "      <td>0</td>\n",
       "      <td>1.0</td>\n",
       "      <td>1.0</td>\n",
       "      <td>0</td>\n",
       "      <td>28</td>\n",
       "      <td>788.27</td>\n",
       "      <td>46</td>\n",
       "      <td>0</td>\n",
       "      <td>1</td>\n",
       "    </tr>\n",
       "    <tr>\n",
       "      <th>...</th>\n",
       "      <td>...</td>\n",
       "      <td>...</td>\n",
       "      <td>...</td>\n",
       "      <td>...</td>\n",
       "      <td>...</td>\n",
       "      <td>...</td>\n",
       "      <td>...</td>\n",
       "      <td>...</td>\n",
       "      <td>...</td>\n",
       "      <td>...</td>\n",
       "      <td>...</td>\n",
       "    </tr>\n",
       "    <tr>\n",
       "      <th>14809</th>\n",
       "      <td>user_15539</td>\n",
       "      <td>0</td>\n",
       "      <td>0</td>\n",
       "      <td>1.0</td>\n",
       "      <td>1.0</td>\n",
       "      <td>0</td>\n",
       "      <td>23</td>\n",
       "      <td>3349.90</td>\n",
       "      <td>78</td>\n",
       "      <td>1</td>\n",
       "      <td>0</td>\n",
       "    </tr>\n",
       "    <tr>\n",
       "      <th>14810</th>\n",
       "      <td>user_15540</td>\n",
       "      <td>0</td>\n",
       "      <td>0</td>\n",
       "      <td>1.0</td>\n",
       "      <td>1.0</td>\n",
       "      <td>0</td>\n",
       "      <td>35</td>\n",
       "      <td>96.28</td>\n",
       "      <td>10</td>\n",
       "      <td>0</td>\n",
       "      <td>1</td>\n",
       "    </tr>\n",
       "    <tr>\n",
       "      <th>14811</th>\n",
       "      <td>user_15541</td>\n",
       "      <td>0</td>\n",
       "      <td>0</td>\n",
       "      <td>1.0</td>\n",
       "      <td>1.0</td>\n",
       "      <td>16</td>\n",
       "      <td>42</td>\n",
       "      <td>17595.83</td>\n",
       "      <td>1057</td>\n",
       "      <td>1</td>\n",
       "      <td>0</td>\n",
       "    </tr>\n",
       "    <tr>\n",
       "      <th>14812</th>\n",
       "      <td>user_15542</td>\n",
       "      <td>0</td>\n",
       "      <td>1</td>\n",
       "      <td>1.0</td>\n",
       "      <td>1.0</td>\n",
       "      <td>44</td>\n",
       "      <td>43</td>\n",
       "      <td>408.72</td>\n",
       "      <td>23</td>\n",
       "      <td>0</td>\n",
       "      <td>1</td>\n",
       "    </tr>\n",
       "    <tr>\n",
       "      <th>14813</th>\n",
       "      <td>user_15543</td>\n",
       "      <td>1</td>\n",
       "      <td>0</td>\n",
       "      <td>1.0</td>\n",
       "      <td>1.0</td>\n",
       "      <td>8</td>\n",
       "      <td>26</td>\n",
       "      <td>2653.80</td>\n",
       "      <td>437</td>\n",
       "      <td>1</td>\n",
       "      <td>0</td>\n",
       "    </tr>\n",
       "  </tbody>\n",
       "</table>\n",
       "<p>14782 rows × 11 columns</p>\n",
       "</div>"
      ],
      "text/plain": [
       "          user_id  user_settings_crypto_unlocked  plan  \\\n",
       "0          user_0                              0     0   \n",
       "1          user_1                              1     0   \n",
       "2          user_2                              0     0   \n",
       "3          user_3                              0     0   \n",
       "4          user_4                              0     0   \n",
       "...           ...                            ...   ...   \n",
       "14809  user_15539                              0     0   \n",
       "14810  user_15540                              0     0   \n",
       "14811  user_15541                              0     0   \n",
       "14812  user_15542                              0     1   \n",
       "14813  user_15543                              1     0   \n",
       "\n",
       "       attributes_notifications_marketing_push  \\\n",
       "0                                          1.0   \n",
       "1                                          1.0   \n",
       "2                                          1.0   \n",
       "3                                          1.0   \n",
       "4                                          1.0   \n",
       "...                                        ...   \n",
       "14809                                      1.0   \n",
       "14810                                      1.0   \n",
       "14811                                      1.0   \n",
       "14812                                      1.0   \n",
       "14813                                      1.0   \n",
       "\n",
       "       attributes_notifications_marketing_email  num_contacts  age   usd_tot  \\\n",
       "0                                           1.0             3   28   6728.88   \n",
       "1                                           1.0            75   35  12955.54   \n",
       "2                                           1.0            71   24   2723.90   \n",
       "3                                           1.0           219   39   6999.29   \n",
       "4                                           1.0             0   28    788.27   \n",
       "...                                         ...           ...  ...       ...   \n",
       "14809                                       1.0             0   23   3349.90   \n",
       "14810                                       1.0             0   35     96.28   \n",
       "14811                                       1.0            16   42  17595.83   \n",
       "14812                                       1.0            44   43    408.72   \n",
       "14813                                       1.0             8   26   2653.80   \n",
       "\n",
       "       num_transactions  brand_Android  brand_Apple  \n",
       "0                   515              0            1  \n",
       "1                   133              0            1  \n",
       "2                   268              0            1  \n",
       "3                   140              0            1  \n",
       "4                    46              0            1  \n",
       "...                 ...            ...          ...  \n",
       "14809                78              1            0  \n",
       "14810                10              0            1  \n",
       "14811              1057              1            0  \n",
       "14812                23              0            1  \n",
       "14813               437              1            0  \n",
       "\n",
       "[14782 rows x 11 columns]"
      ]
     },
     "execution_count": 77,
     "metadata": {},
     "output_type": "execute_result"
    }
   ],
   "source": [
    "users2_df"
   ]
  },
  {
   "cell_type": "code",
   "execution_count": 78,
   "metadata": {},
   "outputs": [
    {
     "data": {
      "application/vnd.jupyter.widget-view+json": {
       "model_id": "f1a157af53534a2f89e2cca482dd6f0d",
       "version_major": 2,
       "version_minor": 0
      },
      "text/plain": [
       "HBox(children=(FloatProgress(value=0.0, description='Summarize dataset', max=21.0, style=ProgressStyle(descrip…"
      ]
     },
     "metadata": {},
     "output_type": "display_data"
    },
    {
     "name": "stdout",
     "output_type": "stream",
     "text": [
      "\n"
     ]
    },
    {
     "data": {
      "application/vnd.jupyter.widget-view+json": {
       "model_id": "f26a990a8cd34cc2b10870db94b09096",
       "version_major": 2,
       "version_minor": 0
      },
      "text/plain": [
       "HBox(children=(FloatProgress(value=0.0, description='Generate report structure', max=1.0, style=ProgressStyle(…"
      ]
     },
     "metadata": {},
     "output_type": "display_data"
    },
    {
     "name": "stdout",
     "output_type": "stream",
     "text": [
      "\n"
     ]
    },
    {
     "data": {
      "application/vnd.jupyter.widget-view+json": {
       "model_id": "",
       "version_major": 2,
       "version_minor": 0
      },
      "text/plain": [
       "HBox(children=(FloatProgress(value=0.0, description='Render widgets', max=1.0, style=ProgressStyle(description…"
      ]
     },
     "metadata": {},
     "output_type": "display_data"
    },
    {
     "data": {
      "application/vnd.jupyter.widget-view+json": {
       "model_id": "c4d366047f4c4afb9af42ec37d5d2d03",
       "version_major": 2,
       "version_minor": 0
      },
      "text/plain": [
       "VBox(children=(Tab(children=(Tab(children=(GridBox(children=(VBox(children=(GridspecLayout(children=(HTML(valu…"
      ]
     },
     "metadata": {},
     "output_type": "display_data"
    }
   ],
   "source": [
    "profile = ProfileReport(users2_df, minimal=True)\n",
    "profile.to_widgets()"
   ]
  },
  {
   "cell_type": "code",
   "execution_count": 79,
   "metadata": {},
   "outputs": [
    {
     "data": {
      "text/plain": [
       "brand_Android                             brand_Apple                                 1.000000\n",
       "attributes_notifications_marketing_push   attributes_notifications_marketing_email    0.615315\n",
       "usd_tot                                   num_transactions                            0.323925\n",
       "plan                                      num_transactions                            0.318767\n",
       "                                          usd_tot                                     0.295408\n",
       "user_settings_crypto_unlocked             plan                                        0.243089\n",
       "                                          num_transactions                            0.196379\n",
       "num_contacts                              num_transactions                            0.123227\n",
       "age                                       num_transactions                            0.105586\n",
       "user_settings_crypto_unlocked             usd_tot                                     0.082429\n",
       "                                          age                                         0.068889\n",
       "plan                                      brand_Android                               0.059845\n",
       "                                          brand_Apple                                 0.059845\n",
       "                                          num_contacts                                0.059839\n",
       "num_contacts                              brand_Android                               0.053510\n",
       "                                          brand_Apple                                 0.053510\n",
       "                                          usd_tot                                     0.047852\n",
       "usd_tot                                   brand_Android                               0.043604\n",
       "                                          brand_Apple                                 0.043604\n",
       "plan                                      age                                         0.043363\n",
       "user_settings_crypto_unlocked             brand_Android                               0.042434\n",
       "                                          brand_Apple                                 0.042434\n",
       "                                          num_contacts                                0.038258\n",
       "age                                       usd_tot                                     0.035502\n",
       "attributes_notifications_marketing_push   brand_Apple                                 0.033384\n",
       "                                          brand_Android                               0.033384\n",
       "attributes_notifications_marketing_email  age                                         0.031453\n",
       "attributes_notifications_marketing_push   num_transactions                            0.031183\n",
       "attributes_notifications_marketing_email  usd_tot                                     0.030728\n",
       "num_transactions                          brand_Android                               0.030234\n",
       "                                          brand_Apple                                 0.030234\n",
       "num_contacts                              age                                         0.028711\n",
       "user_settings_crypto_unlocked             attributes_notifications_marketing_push     0.025165\n",
       "attributes_notifications_marketing_push   usd_tot                                     0.023474\n",
       "user_settings_crypto_unlocked             attributes_notifications_marketing_email    0.017327\n",
       "attributes_notifications_marketing_push   age                                         0.014617\n",
       "attributes_notifications_marketing_email  num_contacts                                0.011346\n",
       "                                          brand_Apple                                 0.010522\n",
       "                                          brand_Android                               0.010522\n",
       "plan                                      attributes_notifications_marketing_push     0.007890\n",
       "                                          attributes_notifications_marketing_email    0.006852\n",
       "attributes_notifications_marketing_email  num_transactions                            0.005962\n",
       "age                                       brand_Android                               0.001494\n",
       "                                          brand_Apple                                 0.001494\n",
       "attributes_notifications_marketing_push   num_contacts                                0.001090\n",
       "dtype: float64"
      ]
     },
     "execution_count": 79,
     "metadata": {},
     "output_type": "execute_result"
    }
   ],
   "source": [
    "import numpy as np\n",
    "corr_abs = users2_df.corr().abs()\n",
    "\n",
    "sol = (corr_abs.where(np.triu(np.ones(corr_abs.shape), k=1).astype(np.bool))\n",
    "                 .stack()\n",
    "                 .sort_values(ascending=False))\n",
    "sol"
   ]
  },
  {
   "cell_type": "markdown",
   "metadata": {},
   "source": [
    "## Merge all encoded dataframes"
   ]
  },
  {
   "cell_type": "code",
   "execution_count": 80,
   "metadata": {},
   "outputs": [],
   "source": [
    "users3_df = pd.merge(users2_df, notifications1_df, left_on='user_id',right_index = True, how='left')"
   ]
  },
  {
   "cell_type": "code",
   "execution_count": 81,
   "metadata": {},
   "outputs": [],
   "source": [
    "users3_df = pd.merge(users3_df, transactions1_df, left_on='user_id',right_index = True, how='left')"
   ]
  },
  {
   "cell_type": "code",
   "execution_count": 82,
   "metadata": {},
   "outputs": [
    {
     "data": {
      "text/plain": [
       "user_id                                       0\n",
       "user_settings_crypto_unlocked                 0\n",
       "plan                                          0\n",
       "attributes_notifications_marketing_push       0\n",
       "attributes_notifications_marketing_email      0\n",
       "num_contacts                                  0\n",
       "age                                           0\n",
       "usd_tot                                       0\n",
       "num_transactions                              0\n",
       "brand_Android                                 0\n",
       "brand_Apple                                   0\n",
       "reason_BLACK_FRIDAY                         740\n",
       "reason_BLUE_TUESDAY                         740\n",
       "reason_ENGAGEMENT_SPLIT_BILL_RESTAURANT     740\n",
       "reason_INVEST_IN_GOLD                       740\n",
       "reason_JOINING_ANNIVERSARY                  740\n",
       "reason_LOST_CARD_ORDER                      740\n",
       "reason_MADE_MONEY_REQUEST_NOT_SPLIT_BILL    740\n",
       "reason_METAL_RESERVE_PLAN                   740\n",
       "reason_NO_INITIAL_CARD_ORDER                740\n",
       "reason_NO_INITIAL_CARD_USE                  740\n",
       "reason_ONBOARDING_TIPS_ACTIVATED_USERS      740\n",
       "reason_PROMO                                740\n",
       "reason_PROMO_CARD_ORDER                     740\n",
       "reason_REENGAGEMENT_ACTIVE_FUNDS            740\n",
       "reason_SILVER_ENGAGEMENT_FEES_SAVED         740\n",
       "reason_SILVER_ENGAGEMENT_INACTIVE_CARD      740\n",
       "reason_WELCOME_BACK                         740\n",
       "channel_EMAIL                               740\n",
       "channel_PUSH                                740\n",
       "channel_SMS                                 740\n",
       "transactions_type_ATM                         0\n",
       "transactions_type_CARD_PAYMENT                0\n",
       "transactions_type_CARD_REFUND                 0\n",
       "transactions_type_CASHBACK                    0\n",
       "transactions_type_FEE                         0\n",
       "transactions_type_REFUND                      0\n",
       "transactions_type_TAX                         0\n",
       "transactions_type_TOPUP                       0\n",
       "transactions_type_TRANSFER                    0\n",
       "direction_INBOUND                             0\n",
       "direction_OUTBOUND                            0\n",
       "dtype: int64"
      ]
     },
     "execution_count": 82,
     "metadata": {},
     "output_type": "execute_result"
    }
   ],
   "source": [
    "users3_df.isna().sum()"
   ]
  },
  {
   "cell_type": "code",
   "execution_count": 83,
   "metadata": {},
   "outputs": [
    {
     "data": {
      "text/html": [
       "<div>\n",
       "<style scoped>\n",
       "    .dataframe tbody tr th:only-of-type {\n",
       "        vertical-align: middle;\n",
       "    }\n",
       "\n",
       "    .dataframe tbody tr th {\n",
       "        vertical-align: top;\n",
       "    }\n",
       "\n",
       "    .dataframe thead th {\n",
       "        text-align: right;\n",
       "    }\n",
       "</style>\n",
       "<table border=\"1\" class=\"dataframe\">\n",
       "  <thead>\n",
       "    <tr style=\"text-align: right;\">\n",
       "      <th></th>\n",
       "      <th>user_id</th>\n",
       "      <th>user_settings_crypto_unlocked</th>\n",
       "      <th>plan</th>\n",
       "      <th>attributes_notifications_marketing_push</th>\n",
       "      <th>attributes_notifications_marketing_email</th>\n",
       "      <th>num_contacts</th>\n",
       "      <th>age</th>\n",
       "      <th>usd_tot</th>\n",
       "      <th>num_transactions</th>\n",
       "      <th>brand_Android</th>\n",
       "      <th>...</th>\n",
       "      <th>transactions_type_CARD_PAYMENT</th>\n",
       "      <th>transactions_type_CARD_REFUND</th>\n",
       "      <th>transactions_type_CASHBACK</th>\n",
       "      <th>transactions_type_FEE</th>\n",
       "      <th>transactions_type_REFUND</th>\n",
       "      <th>transactions_type_TAX</th>\n",
       "      <th>transactions_type_TOPUP</th>\n",
       "      <th>transactions_type_TRANSFER</th>\n",
       "      <th>direction_INBOUND</th>\n",
       "      <th>direction_OUTBOUND</th>\n",
       "    </tr>\n",
       "  </thead>\n",
       "  <tbody>\n",
       "    <tr>\n",
       "      <th>0</th>\n",
       "      <td>user_0</td>\n",
       "      <td>0</td>\n",
       "      <td>0</td>\n",
       "      <td>1.0</td>\n",
       "      <td>1.0</td>\n",
       "      <td>3</td>\n",
       "      <td>28</td>\n",
       "      <td>6728.88</td>\n",
       "      <td>515</td>\n",
       "      <td>0</td>\n",
       "      <td>...</td>\n",
       "      <td>333.0</td>\n",
       "      <td>1.0</td>\n",
       "      <td>0.0</td>\n",
       "      <td>0.0</td>\n",
       "      <td>0.0</td>\n",
       "      <td>0.0</td>\n",
       "      <td>158.0</td>\n",
       "      <td>23.0</td>\n",
       "      <td>163.0</td>\n",
       "      <td>352.0</td>\n",
       "    </tr>\n",
       "    <tr>\n",
       "      <th>1</th>\n",
       "      <td>user_1</td>\n",
       "      <td>1</td>\n",
       "      <td>0</td>\n",
       "      <td>1.0</td>\n",
       "      <td>1.0</td>\n",
       "      <td>75</td>\n",
       "      <td>35</td>\n",
       "      <td>12955.54</td>\n",
       "      <td>133</td>\n",
       "      <td>0</td>\n",
       "      <td>...</td>\n",
       "      <td>78.0</td>\n",
       "      <td>0.0</td>\n",
       "      <td>0.0</td>\n",
       "      <td>0.0</td>\n",
       "      <td>0.0</td>\n",
       "      <td>0.0</td>\n",
       "      <td>24.0</td>\n",
       "      <td>27.0</td>\n",
       "      <td>27.0</td>\n",
       "      <td>106.0</td>\n",
       "    </tr>\n",
       "    <tr>\n",
       "      <th>2</th>\n",
       "      <td>user_2</td>\n",
       "      <td>0</td>\n",
       "      <td>0</td>\n",
       "      <td>1.0</td>\n",
       "      <td>1.0</td>\n",
       "      <td>71</td>\n",
       "      <td>24</td>\n",
       "      <td>2723.90</td>\n",
       "      <td>268</td>\n",
       "      <td>0</td>\n",
       "      <td>...</td>\n",
       "      <td>97.0</td>\n",
       "      <td>0.0</td>\n",
       "      <td>0.0</td>\n",
       "      <td>0.0</td>\n",
       "      <td>0.0</td>\n",
       "      <td>0.0</td>\n",
       "      <td>37.0</td>\n",
       "      <td>134.0</td>\n",
       "      <td>43.0</td>\n",
       "      <td>225.0</td>\n",
       "    </tr>\n",
       "    <tr>\n",
       "      <th>3</th>\n",
       "      <td>user_3</td>\n",
       "      <td>0</td>\n",
       "      <td>0</td>\n",
       "      <td>1.0</td>\n",
       "      <td>1.0</td>\n",
       "      <td>219</td>\n",
       "      <td>39</td>\n",
       "      <td>6999.29</td>\n",
       "      <td>140</td>\n",
       "      <td>0</td>\n",
       "      <td>...</td>\n",
       "      <td>120.0</td>\n",
       "      <td>0.0</td>\n",
       "      <td>0.0</td>\n",
       "      <td>0.0</td>\n",
       "      <td>0.0</td>\n",
       "      <td>0.0</td>\n",
       "      <td>13.0</td>\n",
       "      <td>7.0</td>\n",
       "      <td>14.0</td>\n",
       "      <td>126.0</td>\n",
       "    </tr>\n",
       "    <tr>\n",
       "      <th>4</th>\n",
       "      <td>user_4</td>\n",
       "      <td>0</td>\n",
       "      <td>0</td>\n",
       "      <td>1.0</td>\n",
       "      <td>1.0</td>\n",
       "      <td>0</td>\n",
       "      <td>28</td>\n",
       "      <td>788.27</td>\n",
       "      <td>46</td>\n",
       "      <td>0</td>\n",
       "      <td>...</td>\n",
       "      <td>37.0</td>\n",
       "      <td>1.0</td>\n",
       "      <td>0.0</td>\n",
       "      <td>0.0</td>\n",
       "      <td>0.0</td>\n",
       "      <td>0.0</td>\n",
       "      <td>8.0</td>\n",
       "      <td>0.0</td>\n",
       "      <td>9.0</td>\n",
       "      <td>37.0</td>\n",
       "    </tr>\n",
       "    <tr>\n",
       "      <th>...</th>\n",
       "      <td>...</td>\n",
       "      <td>...</td>\n",
       "      <td>...</td>\n",
       "      <td>...</td>\n",
       "      <td>...</td>\n",
       "      <td>...</td>\n",
       "      <td>...</td>\n",
       "      <td>...</td>\n",
       "      <td>...</td>\n",
       "      <td>...</td>\n",
       "      <td>...</td>\n",
       "      <td>...</td>\n",
       "      <td>...</td>\n",
       "      <td>...</td>\n",
       "      <td>...</td>\n",
       "      <td>...</td>\n",
       "      <td>...</td>\n",
       "      <td>...</td>\n",
       "      <td>...</td>\n",
       "      <td>...</td>\n",
       "      <td>...</td>\n",
       "    </tr>\n",
       "    <tr>\n",
       "      <th>14809</th>\n",
       "      <td>user_15539</td>\n",
       "      <td>0</td>\n",
       "      <td>0</td>\n",
       "      <td>1.0</td>\n",
       "      <td>1.0</td>\n",
       "      <td>0</td>\n",
       "      <td>23</td>\n",
       "      <td>3349.90</td>\n",
       "      <td>78</td>\n",
       "      <td>1</td>\n",
       "      <td>...</td>\n",
       "      <td>42.0</td>\n",
       "      <td>1.0</td>\n",
       "      <td>0.0</td>\n",
       "      <td>1.0</td>\n",
       "      <td>0.0</td>\n",
       "      <td>0.0</td>\n",
       "      <td>32.0</td>\n",
       "      <td>1.0</td>\n",
       "      <td>33.0</td>\n",
       "      <td>45.0</td>\n",
       "    </tr>\n",
       "    <tr>\n",
       "      <th>14810</th>\n",
       "      <td>user_15540</td>\n",
       "      <td>0</td>\n",
       "      <td>0</td>\n",
       "      <td>1.0</td>\n",
       "      <td>1.0</td>\n",
       "      <td>0</td>\n",
       "      <td>35</td>\n",
       "      <td>96.28</td>\n",
       "      <td>10</td>\n",
       "      <td>0</td>\n",
       "      <td>...</td>\n",
       "      <td>4.0</td>\n",
       "      <td>1.0</td>\n",
       "      <td>0.0</td>\n",
       "      <td>1.0</td>\n",
       "      <td>0.0</td>\n",
       "      <td>0.0</td>\n",
       "      <td>3.0</td>\n",
       "      <td>1.0</td>\n",
       "      <td>4.0</td>\n",
       "      <td>6.0</td>\n",
       "    </tr>\n",
       "    <tr>\n",
       "      <th>14811</th>\n",
       "      <td>user_15541</td>\n",
       "      <td>0</td>\n",
       "      <td>0</td>\n",
       "      <td>1.0</td>\n",
       "      <td>1.0</td>\n",
       "      <td>16</td>\n",
       "      <td>42</td>\n",
       "      <td>17595.83</td>\n",
       "      <td>1057</td>\n",
       "      <td>1</td>\n",
       "      <td>...</td>\n",
       "      <td>534.0</td>\n",
       "      <td>0.0</td>\n",
       "      <td>0.0</td>\n",
       "      <td>1.0</td>\n",
       "      <td>0.0</td>\n",
       "      <td>0.0</td>\n",
       "      <td>77.0</td>\n",
       "      <td>445.0</td>\n",
       "      <td>79.0</td>\n",
       "      <td>978.0</td>\n",
       "    </tr>\n",
       "    <tr>\n",
       "      <th>14812</th>\n",
       "      <td>user_15542</td>\n",
       "      <td>0</td>\n",
       "      <td>1</td>\n",
       "      <td>1.0</td>\n",
       "      <td>1.0</td>\n",
       "      <td>44</td>\n",
       "      <td>43</td>\n",
       "      <td>408.72</td>\n",
       "      <td>23</td>\n",
       "      <td>0</td>\n",
       "      <td>...</td>\n",
       "      <td>7.0</td>\n",
       "      <td>0.0</td>\n",
       "      <td>7.0</td>\n",
       "      <td>4.0</td>\n",
       "      <td>0.0</td>\n",
       "      <td>0.0</td>\n",
       "      <td>3.0</td>\n",
       "      <td>2.0</td>\n",
       "      <td>10.0</td>\n",
       "      <td>13.0</td>\n",
       "    </tr>\n",
       "    <tr>\n",
       "      <th>14813</th>\n",
       "      <td>user_15543</td>\n",
       "      <td>1</td>\n",
       "      <td>0</td>\n",
       "      <td>1.0</td>\n",
       "      <td>1.0</td>\n",
       "      <td>8</td>\n",
       "      <td>26</td>\n",
       "      <td>2653.80</td>\n",
       "      <td>437</td>\n",
       "      <td>1</td>\n",
       "      <td>...</td>\n",
       "      <td>195.0</td>\n",
       "      <td>0.0</td>\n",
       "      <td>0.0</td>\n",
       "      <td>0.0</td>\n",
       "      <td>0.0</td>\n",
       "      <td>0.0</td>\n",
       "      <td>41.0</td>\n",
       "      <td>201.0</td>\n",
       "      <td>42.0</td>\n",
       "      <td>395.0</td>\n",
       "    </tr>\n",
       "  </tbody>\n",
       "</table>\n",
       "<p>14782 rows × 42 columns</p>\n",
       "</div>"
      ],
      "text/plain": [
       "          user_id  user_settings_crypto_unlocked  plan  \\\n",
       "0          user_0                              0     0   \n",
       "1          user_1                              1     0   \n",
       "2          user_2                              0     0   \n",
       "3          user_3                              0     0   \n",
       "4          user_4                              0     0   \n",
       "...           ...                            ...   ...   \n",
       "14809  user_15539                              0     0   \n",
       "14810  user_15540                              0     0   \n",
       "14811  user_15541                              0     0   \n",
       "14812  user_15542                              0     1   \n",
       "14813  user_15543                              1     0   \n",
       "\n",
       "       attributes_notifications_marketing_push  \\\n",
       "0                                          1.0   \n",
       "1                                          1.0   \n",
       "2                                          1.0   \n",
       "3                                          1.0   \n",
       "4                                          1.0   \n",
       "...                                        ...   \n",
       "14809                                      1.0   \n",
       "14810                                      1.0   \n",
       "14811                                      1.0   \n",
       "14812                                      1.0   \n",
       "14813                                      1.0   \n",
       "\n",
       "       attributes_notifications_marketing_email  num_contacts  age   usd_tot  \\\n",
       "0                                           1.0             3   28   6728.88   \n",
       "1                                           1.0            75   35  12955.54   \n",
       "2                                           1.0            71   24   2723.90   \n",
       "3                                           1.0           219   39   6999.29   \n",
       "4                                           1.0             0   28    788.27   \n",
       "...                                         ...           ...  ...       ...   \n",
       "14809                                       1.0             0   23   3349.90   \n",
       "14810                                       1.0             0   35     96.28   \n",
       "14811                                       1.0            16   42  17595.83   \n",
       "14812                                       1.0            44   43    408.72   \n",
       "14813                                       1.0             8   26   2653.80   \n",
       "\n",
       "       num_transactions  brand_Android  ...  transactions_type_CARD_PAYMENT  \\\n",
       "0                   515              0  ...                           333.0   \n",
       "1                   133              0  ...                            78.0   \n",
       "2                   268              0  ...                            97.0   \n",
       "3                   140              0  ...                           120.0   \n",
       "4                    46              0  ...                            37.0   \n",
       "...                 ...            ...  ...                             ...   \n",
       "14809                78              1  ...                            42.0   \n",
       "14810                10              0  ...                             4.0   \n",
       "14811              1057              1  ...                           534.0   \n",
       "14812                23              0  ...                             7.0   \n",
       "14813               437              1  ...                           195.0   \n",
       "\n",
       "       transactions_type_CARD_REFUND  transactions_type_CASHBACK  \\\n",
       "0                                1.0                         0.0   \n",
       "1                                0.0                         0.0   \n",
       "2                                0.0                         0.0   \n",
       "3                                0.0                         0.0   \n",
       "4                                1.0                         0.0   \n",
       "...                              ...                         ...   \n",
       "14809                            1.0                         0.0   \n",
       "14810                            1.0                         0.0   \n",
       "14811                            0.0                         0.0   \n",
       "14812                            0.0                         7.0   \n",
       "14813                            0.0                         0.0   \n",
       "\n",
       "       transactions_type_FEE  transactions_type_REFUND  transactions_type_TAX  \\\n",
       "0                        0.0                       0.0                    0.0   \n",
       "1                        0.0                       0.0                    0.0   \n",
       "2                        0.0                       0.0                    0.0   \n",
       "3                        0.0                       0.0                    0.0   \n",
       "4                        0.0                       0.0                    0.0   \n",
       "...                      ...                       ...                    ...   \n",
       "14809                    1.0                       0.0                    0.0   \n",
       "14810                    1.0                       0.0                    0.0   \n",
       "14811                    1.0                       0.0                    0.0   \n",
       "14812                    4.0                       0.0                    0.0   \n",
       "14813                    0.0                       0.0                    0.0   \n",
       "\n",
       "       transactions_type_TOPUP  transactions_type_TRANSFER  direction_INBOUND  \\\n",
       "0                        158.0                        23.0              163.0   \n",
       "1                         24.0                        27.0               27.0   \n",
       "2                         37.0                       134.0               43.0   \n",
       "3                         13.0                         7.0               14.0   \n",
       "4                          8.0                         0.0                9.0   \n",
       "...                        ...                         ...                ...   \n",
       "14809                     32.0                         1.0               33.0   \n",
       "14810                      3.0                         1.0                4.0   \n",
       "14811                     77.0                       445.0               79.0   \n",
       "14812                      3.0                         2.0               10.0   \n",
       "14813                     41.0                       201.0               42.0   \n",
       "\n",
       "       direction_OUTBOUND  \n",
       "0                   352.0  \n",
       "1                   106.0  \n",
       "2                   225.0  \n",
       "3                   126.0  \n",
       "4                    37.0  \n",
       "...                   ...  \n",
       "14809                45.0  \n",
       "14810                 6.0  \n",
       "14811               978.0  \n",
       "14812                13.0  \n",
       "14813               395.0  \n",
       "\n",
       "[14782 rows x 42 columns]"
      ]
     },
     "execution_count": 83,
     "metadata": {},
     "output_type": "execute_result"
    }
   ],
   "source": [
    "users3_df.fillna(0, inplace = True)\n",
    "users3_df"
   ]
  },
  {
   "cell_type": "code",
   "execution_count": 84,
   "metadata": {},
   "outputs": [],
   "source": [
    "users3_df.drop(['user_id'],axis=1, inplace=True)"
   ]
  },
  {
   "cell_type": "code",
   "execution_count": 85,
   "metadata": {},
   "outputs": [
    {
     "data": {
      "text/plain": [
       "brand_Android                   brand_Apple                                 1.000000\n",
       "num_transactions                direction_OUTBOUND                          0.983000\n",
       "reason_METAL_RESERVE_PLAN       channel_SMS                                 0.949890\n",
       "transactions_type_CARD_PAYMENT  direction_OUTBOUND                          0.932898\n",
       "num_transactions                transactions_type_CARD_PAYMENT              0.926169\n",
       "                                                                              ...   \n",
       "reason_LOST_CARD_ORDER          reason_MADE_MONEY_REQUEST_NOT_SPLIT_BILL    0.000154\n",
       "reason_INVEST_IN_GOLD           transactions_type_CARD_PAYMENT              0.000135\n",
       "reason_WELCOME_BACK             transactions_type_REFUND                    0.000093\n",
       "reason_METAL_RESERVE_PLAN       reason_REENGAGEMENT_ACTIVE_FUNDS            0.000089\n",
       "plan                            reason_PROMO_CARD_ORDER                     0.000023\n",
       "Length: 820, dtype: float64"
      ]
     },
     "execution_count": 85,
     "metadata": {},
     "output_type": "execute_result"
    }
   ],
   "source": [
    "import numpy as np\n",
    "corr_abs = users3_df.corr().abs()\n",
    "\n",
    "sol = (corr_abs.where(np.triu(np.ones(corr_abs.shape), k=1).astype(np.bool))\n",
    "                 .stack()\n",
    "                 .sort_values(ascending=False))\n",
    "sol"
   ]
  },
  {
   "cell_type": "markdown",
   "metadata": {},
   "source": [
    "## Perform a test plan prediction including 'unrealistic' features"
   ]
  },
  {
   "cell_type": "code",
   "execution_count": 86,
   "metadata": {},
   "outputs": [],
   "source": [
    "X = users3_df.loc[:, users3_df.columns != 'plan']\n",
    "y = users3_df['plan']"
   ]
  },
  {
   "cell_type": "code",
   "execution_count": 87,
   "metadata": {},
   "outputs": [],
   "source": [
    "#scale if needed\n",
    "#from sklearn.preprocessing import StandardScaler\n",
    "#scaler = StandardScaler()\n",
    "#X = scaler.fit_transform(X)"
   ]
  },
  {
   "cell_type": "code",
   "execution_count": 88,
   "metadata": {},
   "outputs": [
    {
     "name": "stdout",
     "output_type": "stream",
     "text": [
      "[1.33987114e-03 1.08011726e-03 1.82024788e-03 7.08940177e-03\n",
      " 7.33977514e-03 3.92916808e-02 2.12164871e-02 7.95161741e-03\n",
      " 5.86789011e-03 1.63597149e-02 5.26465005e-04 2.24465954e-03\n",
      " 1.78060340e-02 5.26893836e-03 8.78881846e-03 2.09727331e-03\n",
      " 2.94958879e-04 1.36102503e-02 2.58036708e-02 2.03134391e-02\n",
      " 7.84160820e-03 2.62228470e-03 7.20608244e-03 6.13758537e-02\n",
      " 1.19066141e-01 1.18729771e-03 1.56468878e-02 9.73405801e-03\n",
      " 4.14765118e-04 1.62298784e-02 1.05711042e-02 9.14069828e-03\n",
      " 1.22747972e-01 2.96421823e-01 3.12837558e-02 4.41885675e-04\n",
      " 1.13605961e-02 1.11969576e-02 3.90459847e-02 2.03530545e-02]\n",
      "              precision    recall  f1-score   support\n",
      "\n",
      "           0       0.99      0.99      0.99      2743\n",
      "           1       0.84      0.82      0.83       214\n",
      "\n",
      "    accuracy                           0.98      2957\n",
      "   macro avg       0.91      0.90      0.91      2957\n",
      "weighted avg       0.98      0.98      0.98      2957\n",
      "\n"
     ]
    }
   ],
   "source": [
    "from sklearn.model_selection import train_test_split\n",
    "from imblearn.over_sampling import SMOTE\n",
    "from sklearn.ensemble import RandomForestClassifier\n",
    "from sklearn.metrics import classification_report\n",
    "\n",
    "\n",
    "X_train,X_test,y_train,y_test = train_test_split(X,y,test_size=0.2,random_state=42)\n",
    "sm = SMOTE(random_state=42)\n",
    "X_train_res, y_train_res = sm.fit_sample(X_train, y_train)\n",
    "rf = RandomForestClassifier(max_depth=150,n_estimators=150, n_jobs=-1)\n",
    "rf.fit(X_train_res, y_train_res)\n",
    "\n",
    "print(rf.feature_importances_)\n",
    "\n",
    "preds = rf.predict(X_test)\n",
    "\n",
    "print(classification_report(y_test, rf.predict(X_test)))"
   ]
  },
  {
   "cell_type": "code",
   "execution_count": 89,
   "metadata": {},
   "outputs": [
    {
     "data": {
      "text/plain": [
       "<matplotlib.axes._subplots.AxesSubplot at 0x22105e95808>"
      ]
     },
     "execution_count": 89,
     "metadata": {},
     "output_type": "execute_result"
    },
    {
     "data": {
      "image/png": "[encoded data removed]",
      "text/plain": [
       "<Figure size 576x396 with 2 Axes>"
      ]
     },
     "metadata": {},
     "output_type": "display_data"
    }
   ],
   "source": [
    "confusion_matrix = pd.crosstab(y_test, preds, rownames=['Actual'], colnames=['Predicted'])\n",
    "sns.heatmap(confusion_matrix, annot=True)"
   ]
  },
  {
   "cell_type": "code",
   "execution_count": 90,
   "metadata": {},
   "outputs": [
    {
     "data": {
      "text/plain": [
       "Text(0.5, 0, 'Relative Importance')"
      ]
     },
     "execution_count": 90,
     "metadata": {},
     "output_type": "execute_result"
    },
    {
     "data": {
      "image/png": "[encoded data removed]",
      "text/plain": [
       "<Figure size 720x720 with 1 Axes>"
      ]
     },
     "metadata": {},
     "output_type": "display_data"
    }
   ],
   "source": [
    "features = X.columns\n",
    "importances = rf.feature_importances_\n",
    "indices = np.argsort(importances)\n",
    "\n",
    "plt.figure(figsize=(10, 10))\n",
    "plt.title('Feature Importances')\n",
    "plt.barh(range(len(indices)), importances[indices], color='b', align='center')\n",
    "plt.yticks(range(len(indices)), features[indices])\n",
    "plt.xlabel('Relative Importance')"
   ]
  },
  {
   "cell_type": "markdown",
   "metadata": {},
   "source": [
    "## Keep 'realistic' features and proceed to the actual prediction model"
   ]
  },
  {
   "cell_type": "code",
   "execution_count": 91,
   "metadata": {},
   "outputs": [],
   "source": [
    "users4_df = users3_df.copy()"
   ]
  },
  {
   "cell_type": "markdown",
   "metadata": {},
   "source": [
    " users4_df.drop(['brand_Apple','brand_Android','reason_ENGAGEMENT_SPLIT_BILL_RESTAURANT',\n",
    "                'reason_MADE_MONEY_REQUEST_NOT_SPLIT_BILL',\n",
    "                 'reason_SILVER_ENGAGEMENT_FEES_SAVED','reason_SILVER_ENGAGEMENT_INACTIVE_CARD','transactions_type_TAX',\n",
    "                 'channel_SMS','reason_METAL_RESERVE_PLAN', 'reason_BLUE_TUESDAY', 'attributes_notifications_marketing_push',\n",
    "               'user_settings_crypto_unlocked', 'reason_WELCOME_BACK', 'attributes_notifications_marketing_email', \n",
    "                'reason_PROMO_CARD_ORDER', 'num_contacts', 'reason_JOINING_ANNIVERSARY'],axis=1, inplace=True)"
   ]
  },
  {
   "cell_type": "code",
   "execution_count": 93,
   "metadata": {
    "scrolled": true
   },
   "outputs": [
    {
     "name": "stdout",
     "output_type": "stream",
     "text": [
      "[1.40694604e-03 1.15212425e-03 1.58117867e-03 6.52844755e-03\n",
      " 7.24649977e-03 4.07755042e-02 1.82066287e-02 8.39638422e-03\n",
      " 5.87424205e-03 1.34249248e-02 5.31774755e-04 2.80650984e-03\n",
      " 1.64191665e-02 6.10222767e-03 1.05624607e-02 2.77683182e-03\n",
      " 2.76350408e-04 1.24414297e-02 1.88714154e-02 1.51901945e-02\n",
      " 8.37823919e-03 2.98818151e-03 8.21872313e-03 6.18265475e-02\n",
      " 1.24777159e-01 1.22953037e-03 2.01686734e-02 8.49644098e-03\n",
      " 3.86085684e-04 1.66285301e-02 9.65178558e-03 1.47454706e-02\n",
      " 1.15551424e-01 2.98840911e-01 3.41459539e-02 4.91809472e-04\n",
      " 1.21974651e-02 1.37000499e-02 3.64196960e-02 2.05860814e-02]\n",
      "              precision    recall  f1-score   support\n",
      "\n",
      "           0       0.99      0.99      0.99      2743\n",
      "           1       0.83      0.81      0.82       214\n",
      "\n",
      "    accuracy                           0.97      2957\n",
      "   macro avg       0.91      0.90      0.90      2957\n",
      "weighted avg       0.97      0.97      0.97      2957\n",
      "\n"
     ]
    }
   ],
   "source": [
    "X = users4_df.loc[:, users4_df.columns != 'plan']\n",
    "#X = users4_df[feature_columns]\n",
    "y = users4_df['plan']\n",
    "\n",
    "X_train,X_test,y_train,y_test = train_test_split(X,y,test_size=0.2,random_state=42)\n",
    "sm = SMOTE(random_state=42)\n",
    "X_train_res, y_train_res = sm.fit_sample(X_train, y_train)\n",
    "rf = RandomForestClassifier(max_depth=150,n_estimators=150, n_jobs=-1)\n",
    "rf.fit(X_train_res, y_train_res)\n",
    "\n",
    "print(rf.feature_importances_)\n",
    "\n",
    "preds = rf.predict(X_test)\n",
    "\n",
    "print(classification_report(y_test, rf.predict(X_test)))"
   ]
  },
  {
   "cell_type": "code",
   "execution_count": 94,
   "metadata": {},
   "outputs": [
    {
     "data": {
      "text/plain": [
       "<matplotlib.axes._subplots.AxesSubplot at 0x22103e58648>"
      ]
     },
     "execution_count": 94,
     "metadata": {},
     "output_type": "execute_result"
    },
    {
     "data": {
      "image/png": "[encoded data removed]",
      "text/plain": [
       "<Figure size 576x396 with 2 Axes>"
      ]
     },
     "metadata": {},
     "output_type": "display_data"
    }
   ],
   "source": [
    "confusion_matrix = pd.crosstab(y_test, preds, rownames=['Actual'], colnames=['Predicted'])\n",
    "sns.heatmap(confusion_matrix, annot=True)"
   ]
  },
  {
   "cell_type": "code",
   "execution_count": 95,
   "metadata": {},
   "outputs": [
    {
     "data": {
      "text/plain": [
       "Text(0.5, 0, 'Relative Importance')"
      ]
     },
     "execution_count": 95,
     "metadata": {},
     "output_type": "execute_result"
    },
    {
     "data": {
      "image/png": "[encoded data removed]",
      "text/plain": [
       "<Figure size 720x720 with 1 Axes>"
      ]
     },
     "metadata": {},
     "output_type": "display_data"
    }
   ],
   "source": [
    "features = X.columns\n",
    "importances = rf.feature_importances_\n",
    "indices = np.argsort(importances)\n",
    "\n",
    "plt.figure(figsize=(10, 10))\n",
    "plt.title('Feature Importances')\n",
    "plt.barh(range(len(indices)), importances[indices], color='b', align='center')\n",
    "plt.yticks(range(len(indices)), features[indices])\n",
    "plt.xlabel('Relative Importance')"
   ]
  },
  {
   "cell_type": "markdown",
   "metadata": {},
   "source": [
    "## NEW DATA"
   ]
  },
  {
   "cell_type": "code",
   "execution_count": 96,
   "metadata": {},
   "outputs": [],
   "source": [
    "filenames = ['devices_test', 'notifications_test', 'transactions_test', 'users_test']"
   ]
  },
  {
   "cell_type": "code",
   "execution_count": 97,
   "metadata": {},
   "outputs": [],
   "source": [
    "import pandas as pd\n",
    "dataframes = [pd.read_csv('test/' + filename + '.csv') for filename in filenames]\n",
    "devices_test_df, notifications_test_df, transactions_test_df, users_test_df = dataframes"
   ]
  },
  {
   "cell_type": "code",
   "execution_count": 98,
   "metadata": {},
   "outputs": [
    {
     "data": {
      "application/vnd.jupyter.widget-view+json": {
       "model_id": "e2588e613e6a455ba1b0ab966adfe93b",
       "version_major": 2,
       "version_minor": 0
      },
      "text/plain": [
       "HBox(children=(FloatProgress(value=0.0, description='Summarize dataset', max=14.0, style=ProgressStyle(descrip…"
      ]
     },
     "metadata": {},
     "output_type": "display_data"
    },
    {
     "name": "stdout",
     "output_type": "stream",
     "text": [
      "\n"
     ]
    },
    {
     "data": {
      "application/vnd.jupyter.widget-view+json": {
       "model_id": "81f6ecb3a36f455dbdd5a5457d37eb6a",
       "version_major": 2,
       "version_minor": 0
      },
      "text/plain": [
       "HBox(children=(FloatProgress(value=0.0, description='Generate report structure', max=1.0, style=ProgressStyle(…"
      ]
     },
     "metadata": {},
     "output_type": "display_data"
    },
    {
     "name": "stdout",
     "output_type": "stream",
     "text": [
      "\n"
     ]
    },
    {
     "data": {
      "application/vnd.jupyter.widget-view+json": {
       "model_id": "",
       "version_major": 2,
       "version_minor": 0
      },
      "text/plain": [
       "HBox(children=(FloatProgress(value=0.0, description='Render widgets', max=1.0, style=ProgressStyle(description…"
      ]
     },
     "metadata": {},
     "output_type": "display_data"
    },
    {
     "data": {
      "application/vnd.jupyter.widget-view+json": {
       "model_id": "3e7f733b52564e89bef498a3af5b0ce8",
       "version_major": 2,
       "version_minor": 0
      },
      "text/plain": [
       "VBox(children=(Tab(children=(Tab(children=(GridBox(children=(VBox(children=(GridspecLayout(children=(HTML(valu…"
      ]
     },
     "metadata": {},
     "output_type": "display_data"
    }
   ],
   "source": [
    "profile = ProfileReport(notifications_test_df, minimal=True)\n",
    "profile.to_widgets()"
   ]
  },
  {
   "cell_type": "code",
   "execution_count": 99,
   "metadata": {
    "scrolled": true
   },
   "outputs": [
    {
     "data": {
      "application/vnd.jupyter.widget-view+json": {
       "model_id": "a76653253a704a53bafb641cd4960ffe",
       "version_major": 2,
       "version_minor": 0
      },
      "text/plain": [
       "HBox(children=(FloatProgress(value=0.0, description='Summarize dataset', max=21.0, style=ProgressStyle(descrip…"
      ]
     },
     "metadata": {},
     "output_type": "display_data"
    },
    {
     "name": "stdout",
     "output_type": "stream",
     "text": [
      "\n"
     ]
    },
    {
     "data": {
      "application/vnd.jupyter.widget-view+json": {
       "model_id": "d4c239f37d28418081952595d3186fe0",
       "version_major": 2,
       "version_minor": 0
      },
      "text/plain": [
       "HBox(children=(FloatProgress(value=0.0, description='Generate report structure', max=1.0, style=ProgressStyle(…"
      ]
     },
     "metadata": {},
     "output_type": "display_data"
    },
    {
     "name": "stdout",
     "output_type": "stream",
     "text": [
      "\n"
     ]
    },
    {
     "data": {
      "application/vnd.jupyter.widget-view+json": {
       "model_id": "",
       "version_major": 2,
       "version_minor": 0
      },
      "text/plain": [
       "HBox(children=(FloatProgress(value=0.0, description='Render widgets', max=1.0, style=ProgressStyle(description…"
      ]
     },
     "metadata": {},
     "output_type": "display_data"
    },
    {
     "data": {
      "application/vnd.jupyter.widget-view+json": {
       "model_id": "2decbc963a8f44fc9edb66afd00b8790",
       "version_major": 2,
       "version_minor": 0
      },
      "text/plain": [
       "VBox(children=(Tab(children=(Tab(children=(GridBox(children=(VBox(children=(GridspecLayout(children=(HTML(valu…"
      ]
     },
     "metadata": {},
     "output_type": "display_data"
    }
   ],
   "source": [
    "profile = ProfileReport(transactions_test_df, minimal=True)\n",
    "profile.to_widgets()"
   ]
  },
  {
   "cell_type": "code",
   "execution_count": 100,
   "metadata": {},
   "outputs": [
    {
     "data": {
      "application/vnd.jupyter.widget-view+json": {
       "model_id": "c575a4c508904d8282691a540008e9ff",
       "version_major": 2,
       "version_minor": 0
      },
      "text/plain": [
       "HBox(children=(FloatProgress(value=0.0, description='Summarize dataset', max=20.0, style=ProgressStyle(descrip…"
      ]
     },
     "metadata": {},
     "output_type": "display_data"
    },
    {
     "name": "stdout",
     "output_type": "stream",
     "text": [
      "\n"
     ]
    },
    {
     "data": {
      "application/vnd.jupyter.widget-view+json": {
       "model_id": "b6aeac3349e5405da02d28f61e62dea7",
       "version_major": 2,
       "version_minor": 0
      },
      "text/plain": [
       "HBox(children=(FloatProgress(value=0.0, description='Generate report structure', max=1.0, style=ProgressStyle(…"
      ]
     },
     "metadata": {},
     "output_type": "display_data"
    },
    {
     "name": "stdout",
     "output_type": "stream",
     "text": [
      "\n"
     ]
    },
    {
     "data": {
      "application/vnd.jupyter.widget-view+json": {
       "model_id": "",
       "version_major": 2,
       "version_minor": 0
      },
      "text/plain": [
       "HBox(children=(FloatProgress(value=0.0, description='Render widgets', max=1.0, style=ProgressStyle(description…"
      ]
     },
     "metadata": {},
     "output_type": "display_data"
    },
    {
     "data": {
      "application/vnd.jupyter.widget-view+json": {
       "model_id": "cf46b531bf4547faa1f7e6c280a46363",
       "version_major": 2,
       "version_minor": 0
      },
      "text/plain": [
       "VBox(children=(Tab(children=(Tab(children=(GridBox(children=(VBox(children=(GridspecLayout(children=(HTML(valu…"
      ]
     },
     "metadata": {},
     "output_type": "display_data"
    }
   ],
   "source": [
    "profile = ProfileReport(users_test_df, minimal=True)\n",
    "profile.to_widgets()"
   ]
  },
  {
   "cell_type": "code",
   "execution_count": 101,
   "metadata": {},
   "outputs": [
    {
     "name": "stdout",
     "output_type": "stream",
     "text": [
      "['SENT' 'FAILED']\n",
      "['PUSH' 'SMS' 'EMAIL']\n",
      "['REENGAGEMENT_ACTIVE_FUNDS' 'BLUE_TUESDAY' 'NO_INITIAL_CARD_USE'\n",
      " 'ENGAGEMENT_SPLIT_BILL_RESTAURANT' 'METAL_RESERVE_PLAN'\n",
      " 'ONBOARDING_TIPS_ACTIVATED_USERS' 'MADE_MONEY_REQUEST_NOT_SPLIT_BILL'\n",
      " 'NO_INITIAL_CARD_ORDER' 'PROMO' 'WELCOME_BACK' 'PROMO_CARD_ORDER'\n",
      " 'LOST_CARD_ORDER' 'BLACK_FRIDAY' 'INVEST_IN_GOLD' 'JOINING_ANNIVERSARY']\n"
     ]
    }
   ],
   "source": [
    "print(notifications_test_df['status'].unique())\n",
    "print(notifications_test_df['channel'].unique())\n",
    "print(notifications_test_df['reason'].unique())"
   ]
  },
  {
   "cell_type": "code",
   "execution_count": 102,
   "metadata": {},
   "outputs": [
    {
     "name": "stdout",
     "output_type": "stream",
     "text": [
      "['CARD_PAYMENT' 'EXCHANGE' 'TOPUP' 'ATM' 'TRANSFER' 'CARD_REFUND' 'REFUND'\n",
      " 'TAX']\n",
      "['COMPLETED' 'REVERTED' 'DECLINED' 'PENDING' 'FAILED' 'CANCELLED']\n"
     ]
    }
   ],
   "source": [
    "print(transactions_test_df['transactions_type'].unique())\n",
    "print(transactions_test_df['transactions_state'].unique())"
   ]
  },
  {
   "cell_type": "code",
   "execution_count": 103,
   "metadata": {},
   "outputs": [],
   "source": [
    "users_test_df = pd.merge(users_test_df, devices_test_df, on='user_id')"
   ]
  },
  {
   "cell_type": "code",
   "execution_count": 104,
   "metadata": {},
   "outputs": [],
   "source": [
    "notifications_test_df = notifications_test_df[notifications_test_df['status'] == 'SENT'].copy()\n",
    "notifications_test_df.drop(['status','created_date'],axis=1, inplace=True)\n",
    "notifications_test_df = pd.get_dummies(notifications_test_df, columns=['reason','channel'])\n",
    "notifications_test_df = notifications_test_df.groupby('user_id').sum()"
   ]
  },
  {
   "cell_type": "code",
   "execution_count": 105,
   "metadata": {},
   "outputs": [],
   "source": [
    "users_test_df['age'] = 2020 - users_test_df['birth_year']\n",
    "users_test_df.drop(['birth_year'],axis=1, inplace=True)\n",
    "users_test_df.drop(['num_referrals','num_successful_referrals','city','created_date'],axis=1, inplace=True)"
   ]
  },
  {
   "cell_type": "code",
   "execution_count": 106,
   "metadata": {},
   "outputs": [],
   "source": [
    "transactions_test_df = transactions_test_df[transactions_test_df['transactions_state'] == 'COMPLETED']\n",
    "num_transactions_test = transactions_test_df.groupby('user_id')[['amount_usd']].count()\n",
    "num_transactions_test.rename({'amount_usd': 'num_transactions'}, axis=1, inplace=True)\n",
    "transactions_test_df =  transactions_test_df[transactions_test_df['transactions_type']!='EXCHANGE']\n",
    "transactions_test_df.drop(['transaction_id','transactions_currency','transactions_state','ea_cardholderpresence','ea_merchant_mcc','ea_merchant_city','ea_merchant_country','created_date'],axis=1, inplace=True)"
   ]
  },
  {
   "cell_type": "code",
   "execution_count": 107,
   "metadata": {},
   "outputs": [],
   "source": [
    "transactions_test_tot = transactions_test_df.groupby('user_id')[['amount_usd']].sum()\n",
    "refunds_test_df = transactions_test_df[transactions_test_df['transactions_type']=='REFUND'].groupby('user_id')[['amount_usd']].sum()\n",
    "refunds_test_df = refunds_test_df.rename(columns={'amount_usd':'refunds'})\n",
    "card_refunds_test_df = transactions_test_df[transactions_test_df['transactions_type']=='CARD_REFUND'].groupby('user_id')[['amount_usd']].sum()\n",
    "card_refunds_test_df = card_refunds_test_df.rename(columns={'amount_usd':'card_refunds'})"
   ]
  },
  {
   "cell_type": "code",
   "execution_count": 108,
   "metadata": {},
   "outputs": [],
   "source": [
    "transactions_test_tot = transactions_test_tot.merge(refunds_test_df, right_index=True, left_index=True, how='outer')\n",
    "transactions_test_tot = transactions_test_tot.merge(card_refunds_test_df, right_index=True, left_index=True, how='outer')\n",
    "transactions_test_tot.fillna(0, inplace = True)\n",
    "transactions_test_tot['usd_tot'] =transactions_test_tot['amount_usd']-transactions_test_tot['refunds']-transactions_test_tot['card_refunds']\n",
    "transactions_test_df = pd.get_dummies(transactions_test_df, columns=['transactions_type','direction'])\n",
    "transactions_test_df = transactions_test_df.groupby('user_id').sum()"
   ]
  },
  {
   "cell_type": "code",
   "execution_count": 109,
   "metadata": {},
   "outputs": [],
   "source": [
    "transactions_test_df.drop(['amount_usd'],axis=1, inplace=True)"
   ]
  },
  {
   "cell_type": "code",
   "execution_count": 110,
   "metadata": {},
   "outputs": [],
   "source": [
    "users_test_df = pd.merge(users_test_df, transactions_test_tot['usd_tot'], on='user_id', how = 'left')"
   ]
  },
  {
   "cell_type": "code",
   "execution_count": 111,
   "metadata": {},
   "outputs": [],
   "source": [
    "users_test_df = pd.merge(users_test_df, num_transactions_test, on='user_id', how='left')"
   ]
  },
  {
   "cell_type": "code",
   "execution_count": 112,
   "metadata": {},
   "outputs": [],
   "source": [
    "users_test_df.drop(['country'],axis=1, inplace=True)"
   ]
  },
  {
   "cell_type": "code",
   "execution_count": 113,
   "metadata": {},
   "outputs": [],
   "source": [
    "users_test_df[['attributes_notifications_marketing_push','attributes_notifications_marketing_email']]=users_test_df[['attributes_notifications_marketing_push','attributes_notifications_marketing_email']].fillna(1) "
   ]
  },
  {
   "cell_type": "code",
   "execution_count": 114,
   "metadata": {},
   "outputs": [],
   "source": [
    "users_test_df[['usd_tot','num_transactions']]=users_test_df[['usd_tot','num_transactions']].fillna(0) "
   ]
  },
  {
   "cell_type": "code",
   "execution_count": 115,
   "metadata": {},
   "outputs": [],
   "source": [
    "users_test_df = pd.concat([users_test_df,pd.get_dummies(users_test_df['brand'], prefix='brand')],axis=1)\n",
    "users_test_df.drop(['brand'],axis=1, inplace=True)\n",
    "users_test_df = pd.merge(users_test_df, notifications_test_df, left_on='user_id',right_index = True, how='left')\n",
    "users_test_df = pd.merge(users_test_df, transactions_test_df, left_on='user_id',right_index = True, how='left')\n",
    "users_test_df.fillna(0, inplace = True)\n",
    "users_test_df.drop(['user_id'],axis=1, inplace=True)"
   ]
  },
  {
   "cell_type": "code",
   "execution_count": 116,
   "metadata": {},
   "outputs": [],
   "source": [
    "users_test_df.drop(['brand_Unknown'],axis=1, inplace=True)\n",
    "users_test_df.drop(['reason_METAL_RESERVE_PLAN'],axis=1, inplace=True)\n",
    "users_test_df.drop(['reason_BLUE_TUESDAY'],axis=1, inplace=True)\n",
    "users_test_df.drop(['transactions_type_TAX'],axis=1, inplace=True)\n",
    "users_test_df.drop(['channel_SMS'],axis=1, inplace=True)\n",
    "users_test_df.drop(['reason_WELCOME_BACK'],axis=1, inplace=True)\n",
    "users_test_df.drop(['attributes_notifications_marketing_push'],axis=1, inplace=True)\n",
    "users_test_df.drop(['attributes_notifications_marketing_email'],axis=1, inplace=True)\n",
    "users_test_df.drop(['user_settings_crypto_unlocked'],axis=1, inplace=True)"
   ]
  },
  {
   "cell_type": "code",
   "execution_count": 118,
   "metadata": {},
   "outputs": [
    {
     "data": {
      "text/plain": [
       "Index(['num_contacts', 'age', 'usd_tot', 'num_transactions', 'brand_Android',\n",
       "       'brand_Apple', 'reason_BLACK_FRIDAY',\n",
       "       'reason_ENGAGEMENT_SPLIT_BILL_RESTAURANT', 'reason_INVEST_IN_GOLD',\n",
       "       'reason_JOINING_ANNIVERSARY', 'reason_LOST_CARD_ORDER',\n",
       "       'reason_MADE_MONEY_REQUEST_NOT_SPLIT_BILL',\n",
       "       'reason_NO_INITIAL_CARD_ORDER', 'reason_NO_INITIAL_CARD_USE',\n",
       "       'reason_ONBOARDING_TIPS_ACTIVATED_USERS', 'reason_PROMO',\n",
       "       'reason_PROMO_CARD_ORDER', 'reason_REENGAGEMENT_ACTIVE_FUNDS',\n",
       "       'channel_EMAIL', 'channel_PUSH', 'transactions_type_ATM',\n",
       "       'transactions_type_CARD_PAYMENT', 'transactions_type_CARD_REFUND',\n",
       "       'transactions_type_REFUND', 'transactions_type_TOPUP',\n",
       "       'transactions_type_TRANSFER', 'direction_INBOUND',\n",
       "       'direction_OUTBOUND'],\n",
       "      dtype='object')"
      ]
     },
     "execution_count": 118,
     "metadata": {},
     "output_type": "execute_result"
    }
   ],
   "source": [
    "users_test_df.columns"
   ]
  },
  {
   "cell_type": "code",
   "execution_count": 119,
   "metadata": {},
   "outputs": [],
   "source": [
    "feature_columns = ['num_contacts','age','usd_tot','num_transactions','brand_Android','brand_Apple','reason_BLACK_FRIDAY','reason_INVEST_IN_GOLD','reason_JOINING_ANNIVERSARY','reason_LOST_CARD_ORDER','reason_MADE_MONEY_REQUEST_NOT_SPLIT_BILL','reason_NO_INITIAL_CARD_ORDER','reason_NO_INITIAL_CARD_USE','reason_ONBOARDING_TIPS_ACTIVATED_USERS','reason_PROMO','reason_PROMO_CARD_ORDER','reason_REENGAGEMENT_ACTIVE_FUNDS','channel_EMAIL','channel_PUSH','transactions_type_ATM','transactions_type_CARD_PAYMENT','transactions_type_CARD_REFUND','transactions_type_REFUND','transactions_type_TOPUP','reason_ENGAGEMENT_SPLIT_BILL_RESTAURANT','transactions_type_TRANSFER','direction_INBOUND','direction_OUTBOUND']#'attributes_notifications_marketing_push','reason_WELCOME_BACK','user_settings_crypto_unlocked','attributes_notifications_marketing_email','reason_METAL_RESERVE_PLAN','chanel_SMS','transactions_type_TAX','reason_BLUE_TUESDAY']"
   ]
  },
  {
   "cell_type": "code",
   "execution_count": 120,
   "metadata": {},
   "outputs": [
    {
     "name": "stdout",
     "output_type": "stream",
     "text": [
      "[0.01247986 0.01744032 0.08284501 0.04119035 0.02697714 0.02532752\n",
      " 0.03805133 0.06381125 0.01209956 0.02375454 0.00851326 0.04772314\n",
      " 0.06462032 0.04917561 0.02401464 0.01003374 0.02005872 0.05310198\n",
      " 0.03581727 0.03865607 0.02382898 0.0235837  0.06367255 0.03349643\n",
      " 0.00508722 0.02500719 0.0854127  0.04421959]\n"
     ]
    }
   ],
   "source": [
    "X = users4_df[feature_columns]\n",
    "y = users4_df['plan']\n",
    "\n",
    "sm = SMOTE(random_state=42)\n",
    "X_res, y_res = sm.fit_sample(X, y)\n",
    "rf = RandomForestClassifier(max_depth=150,n_estimators=150, n_jobs=-1)\n",
    "rf.fit(X_res, y_res)\n",
    "\n",
    "print(rf.feature_importances_)\n",
    "\n",
    "preds = rf.predict(users_test_df)"
   ]
  },
  {
   "cell_type": "code",
   "execution_count": 121,
   "metadata": {},
   "outputs": [
    {
     "data": {
      "text/plain": [
       "array([0, 0, 0, ..., 0, 1, 0], dtype=int64)"
      ]
     },
     "execution_count": 121,
     "metadata": {},
     "output_type": "execute_result"
    }
   ],
   "source": [
    "preds"
   ]
  },
  {
   "cell_type": "code",
   "execution_count": null,
   "metadata": {},
   "outputs": [],
   "source": []
  }
 ],
 "metadata": {
  "kernelspec": {
   "display_name": "Python 3",
   "language": "python",
   "name": "python3"
  },
  "language_info": {
   "codemirror_mode": {
    "name": "ipython",
    "version": 3
   },
   "file_extension": ".py",
   "mimetype": "text/x-python",
   "name": "python",
   "nbconvert_exporter": "python",
   "pygments_lexer": "ipython3",
   "version": "3.7.7"
  }
 },
 "nbformat": 4,
 "nbformat_minor": 4
}
